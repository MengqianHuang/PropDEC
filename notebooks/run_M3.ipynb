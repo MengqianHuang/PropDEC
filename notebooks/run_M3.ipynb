{
 "cells": [
  {
   "cell_type": "code",
   "execution_count": 1,
   "id": "9de3f407-4e2f-4ddf-a921-56f815e4ce8a",
   "metadata": {},
   "outputs": [],
   "source": [
    "from propDEC_end2end import propDEC\n",
    "import scanpy as sc\n",
    "import matplotlib.pyplot as plt"
   ]
  },
  {
   "cell_type": "code",
   "execution_count": 2,
   "id": "3be2c0a6-e390-4a51-b377-61c5df8bbba2",
   "metadata": {},
   "outputs": [],
   "source": [
    "# create dataset\n",
    "pipeline = propDEC(input_size=3000, num_classes=8, metric=\"t-sne\", mode=\"soft\")#soft/hard/km\n",
    "\n",
    "train_dataset = pipeline.create_dataset(\"cscc\", \"cscc_exper.h5ad\", mode=\"train\")\n",
    "test_dataset = pipeline.create_dataset(\"cscc\", \"cscc_ctrl.h5ad\", mode=\"test\")\n",
    "\n",
    "ref_adata = train_dataset.train_adata\n",
    "test_adata = test_dataset.test_adata"
   ]
  },
  {
   "cell_type": "code",
   "execution_count": 3,
   "id": "cb24b6b5-2a50-40d6-badd-93a7ebd3d1be",
   "metadata": {
    "tags": []
   },
   "outputs": [
    {
     "name": "stderr",
     "output_type": "stream",
     "text": [
      "                                                                           \r"
     ]
    },
    {
     "name": "stdout",
     "output_type": "stream",
     "text": [
      "==> Saving Checkpoints\n",
      "==> Finish training !\n"
     ]
    },
    {
     "name": "stderr",
     "output_type": "stream",
     "text": [
      "                                                                       \r"
     ]
    },
    {
     "name": "stdout",
     "output_type": "stream",
     "text": [
      "==> Saving Checkpoints\n",
      "Got 17468 / 20813 with accuracy' 83.93%\n",
      "==> resample\n"
     ]
    },
    {
     "name": "stderr",
     "output_type": "stream",
     "text": [
      "/usr/local/anaconda3/envs/bioinfo/lib/python3.9/site-packages/anndata/_core/anndata.py:1828: UserWarning: Observation names are not unique. To make them unique, call `.obs_names_make_unique`.\n",
      "  utils.warn_names_duplicates(\"obs\")\n"
     ]
    },
    {
     "name": "stdout",
     "output_type": "stream",
     "text": [
      "==> Write the resample annotated data to cache\n",
      "==> Loading Checkpoints\n"
     ]
    },
    {
     "name": "stderr",
     "output_type": "stream",
     "text": [
      "                                                                        \r"
     ]
    },
    {
     "name": "stdout",
     "output_type": "stream",
     "text": [
      "==> Saving Checkpoints\n",
      "Got 11936 / 20813 with accuracy' 57.35%\n",
      "==> resample\n"
     ]
    },
    {
     "name": "stderr",
     "output_type": "stream",
     "text": [
      "/usr/local/anaconda3/envs/bioinfo/lib/python3.9/site-packages/anndata/_core/anndata.py:1828: UserWarning: Observation names are not unique. To make them unique, call `.obs_names_make_unique`.\n",
      "  utils.warn_names_duplicates(\"obs\")\n"
     ]
    },
    {
     "name": "stdout",
     "output_type": "stream",
     "text": [
      "==> Write the resample annotated data to cache\n",
      "==> Loading Checkpoints\n"
     ]
    },
    {
     "name": "stderr",
     "output_type": "stream",
     "text": [
      "                                                                        \r"
     ]
    },
    {
     "name": "stdout",
     "output_type": "stream",
     "text": [
      "==> Saving Checkpoints\n",
      "Got 16707 / 20813 with accuracy' 80.27%\n",
      "==> resample\n"
     ]
    },
    {
     "name": "stderr",
     "output_type": "stream",
     "text": [
      "/usr/local/anaconda3/envs/bioinfo/lib/python3.9/site-packages/anndata/_core/anndata.py:1828: UserWarning: Observation names are not unique. To make them unique, call `.obs_names_make_unique`.\n",
      "  utils.warn_names_duplicates(\"obs\")\n"
     ]
    },
    {
     "name": "stdout",
     "output_type": "stream",
     "text": [
      "==> Write the resample annotated data to cache\n",
      "==> Loading Checkpoints\n"
     ]
    },
    {
     "name": "stderr",
     "output_type": "stream",
     "text": [
      "                                                                        \r"
     ]
    },
    {
     "name": "stdout",
     "output_type": "stream",
     "text": [
      "==> Saving Checkpoints\n",
      "Got 6249 / 20813 with accuracy' 30.02%\n",
      "==> resample\n"
     ]
    },
    {
     "name": "stderr",
     "output_type": "stream",
     "text": [
      "/usr/local/anaconda3/envs/bioinfo/lib/python3.9/site-packages/anndata/_core/anndata.py:1828: UserWarning: Observation names are not unique. To make them unique, call `.obs_names_make_unique`.\n",
      "  utils.warn_names_duplicates(\"obs\")\n"
     ]
    },
    {
     "name": "stdout",
     "output_type": "stream",
     "text": [
      "==> Write the resample annotated data to cache\n",
      "==> Loading Checkpoints\n"
     ]
    },
    {
     "name": "stderr",
     "output_type": "stream",
     "text": [
      "                                                                        \r"
     ]
    },
    {
     "name": "stdout",
     "output_type": "stream",
     "text": [
      "==> Saving Checkpoints\n",
      "Got 15726 / 20813 with accuracy' 75.56%\n",
      "==> resample\n"
     ]
    },
    {
     "name": "stderr",
     "output_type": "stream",
     "text": [
      "/usr/local/anaconda3/envs/bioinfo/lib/python3.9/site-packages/anndata/_core/anndata.py:1828: UserWarning: Observation names are not unique. To make them unique, call `.obs_names_make_unique`.\n",
      "  utils.warn_names_duplicates(\"obs\")\n"
     ]
    },
    {
     "name": "stdout",
     "output_type": "stream",
     "text": [
      "==> Write the resample annotated data to cache\n",
      "==> Finish!\n"
     ]
    }
   ],
   "source": [
    "weight, celltype, labels = pipeline(epochs=5)"
   ]
  },
  {
   "cell_type": "markdown",
   "id": "c563b97b-84af-4e88-bae6-462c40801701",
   "metadata": {
    "jp-MarkdownHeadingCollapsed": true,
    "tags": []
   },
   "source": [
    "### .to(device='cuda')"
   ]
  },
  {
   "cell_type": "code",
   "execution_count": 4,
   "id": "3d26a10b-dcb7-4ea9-a692-e07b84810fb2",
   "metadata": {
    "tags": []
   },
   "outputs": [],
   "source": [
    "class KM_Algorithm:\n",
    "    \"\"\"\n",
    "    1.最大权重匹配\n",
    "    2.输入的二分图应该是一个经过soft assignment的scores或prob矩阵\n",
    "    3.二分图是以left：cell，rights：celltype来写的\n",
    "    \"\"\"\n",
    "\n",
    "    def __init__(self, Bipartite_Graph):\n",
    "\n",
    "        self.Bipartite_Graph = Bipartite_Graph\n",
    "\n",
    "        # 左右结点数量记录\n",
    "        self.left = self.Bipartite_Graph.shape[0]  # 以左边（细胞）为主\n",
    "        self.right_true = self.Bipartite_Graph.shape[1] \n",
    "        self.right = self.Bipartite_Graph.shape[1] + self.left\n",
    "        self.reshape_graph() \n",
    "\n",
    "        # step1:最高标准初始化（顶标）\n",
    "        self.label_left = torch.max(self.Bipartite_Graph.cuda(), axis=1)  # 设置左边顶标为权重最大值（每行的最大值）\n",
    "        label_right = torch.zeros(self.right) # 右边集合的顶标设置为0\n",
    "        self.label_right = label_right.to(device='cuda')\n",
    "            # 初始化辅助变量——是否已匹配\n",
    "        self.visit_left = torch.zeros(self.left, dtype=bool) #全是false\n",
    "        self.visit_right = torch.zeros(self.right, dtype=bool)\n",
    "\n",
    "            # 初始化右边的匹配结果.如果已匹配就会对应匹配结果\n",
    "        self.match_right = torch.empty(self.left).fill_(float('nan')).to(device='cuda')\n",
    "        \n",
    "            # 用inc记录需要减去的权值d，不断取最小值故初始化为较大值。权值都为负数，应该不用很大也行\n",
    "        self.inc = 1000*1000*1000\n",
    "        self.fail_cell = list()  # 每次匹配重新创建一个二分图匹配对象，所以这个也不用手动重置了\n",
    "\n",
    "    def reshape_graph(self):\n",
    "        new = torch.zeros((self.left, self.left)).to(device='cuda')\n",
    "        self.Bipartite_Graph = torch.cat((self.Bipartite_Graph, new),dim=1)\n",
    "    def match(self, cell):\n",
    "        cell = int(cell) \n",
    "        self.visit_left[cell] = True # 记录下这个cell已经被寻找\n",
    "        #在step2最高标准调整的时候判断子图还是不是权重最高\n",
    "        for celltype in range(self.right):\n",
    "            if not self.visit_right[celltype] and self.Bipartite_Graph[cell][celltype] >= 0:    \n",
    "                gap = self.label_left.values[cell] + self.label_right[celltype] - self.Bipartite_Graph[cell][celltype] \n",
    "                if gap == 0: \n",
    "                    self.visit_right[celltype] = True\n",
    "                    if torch.isnan(self.match_right[celltype]) or self.match(self.match_right[celltype]):\n",
    "                        self.match_right[celltype] = cell# 递归匹配，匹配成功\n",
    "                        return 1\n",
    "                elif self.inc > gap:  #找到权值最小的差距\n",
    "                    self.inc = gap  \n",
    "        return 0\n",
    "\n",
    "    def Kuh_Munkras(self): \n",
    "        self.match_right = torch.empty(self.left).fill_(float('nan')).to(device='cuda')\n",
    "        for cell in range(self.left):\n",
    "            while True:\n",
    "                self.inc = 1000*1000  # the minimum gap\n",
    "                self.reset()  # 每次寻找过的路径，所有要重置一下\n",
    "                if self.match(cell):\n",
    "                    break\n",
    "                for k in range(self.left):\n",
    "                    if self.visit_left[k]:\n",
    "                        self.label_left.values[k] -= self.inc \n",
    "                for n in range(self.right):\n",
    "                    if self.visit_right[n]:\n",
    "                        self.label_right[n] += self.inc\n",
    "        return self.fail_cell\n",
    "\n",
    "    def calculateSum(self):\n",
    "        sum = 0\n",
    "        cells_celltypes = []\n",
    "        self.fail_cell = [i for i in range(self.left)]\n",
    "        for i in range(self.right_true):\n",
    "            if not torch.isnan(self.match_right[i]):\n",
    "                sum += self.Bipartite_Graph[int(self.match_right[i])][i]\n",
    "                cell_celltype = (int(self.match_right[i]), i)\n",
    "                cells_celltypes.append(cell_celltype)\n",
    "                self.fail_cell.remove(int(self.match_right[i]))\n",
    "        return cells_celltypes, self.fail_cell\n",
    "\n",
    "    def getResult(self):\n",
    "        return self.match_right\n",
    "\n",
    "    def reset(self):\n",
    "        self.visit_left = torch.zeros(self.left, dtype=bool)\n",
    "        self.visit_right = torch.zeros(self.right, dtype=bool)\n",
    "        "
   ]
  },
  {
   "cell_type": "code",
   "execution_count": 5,
   "id": "ef065174-fb60-4629-85f1-9f2df98f9b40",
   "metadata": {
    "tags": []
   },
   "outputs": [],
   "source": [
    "import torch\n",
    "import pandas as pd\n",
    "weight = torch.softmax(weight, dim=-1) \n",
    "square_weight = (weight ** 2) / (weight ** 2).sum(dim=1, keepdim=True) #得到初始二分图，权重为扩大差异后的概率 \n",
    "\n",
    "## part 1: argmax ##\n",
    "index_argmax = [] #如果模型认为细胞是某个细胞类型的概率大于0.5，就直接用argmax转成hard assignment\n",
    "index_km = []\n",
    "\n",
    "for i in range(len(square_weight)):\n",
    "    if (square_weight[i] > 0.5).any():\n",
    "        index_argmax.append(i)\n",
    "    else:\n",
    "        index_km.append(i)\n",
    "\n",
    "pred_indices = square_weight[index_argmax].argmax(dim=1)\n",
    "argmax_df = pd.Series(pred_indices, index=index_argmax)"
   ]
  },
  {
   "cell_type": "code",
   "execution_count": 6,
   "id": "aac13b3d-85e4-4d9b-ac59-d9b53db5fe8a",
   "metadata": {
    "tags": []
   },
   "outputs": [],
   "source": [
    "from tqdm import tqdm\n",
    "import numpy as np\n"
   ]
  },
  {
   "cell_type": "code",
   "execution_count": 26,
   "id": "e760e639-66ff-4c3a-94ed-e837747da381",
   "metadata": {},
   "outputs": [],
   "source": [
    "km = KM_Algorithm(square_weight[index_km].to(device='cuda'))  #输入二分图·"
   ]
  },
  {
   "cell_type": "code",
   "execution_count": 27,
   "id": "8cccdb39-acbc-4c84-a802-08b909158655",
   "metadata": {
    "collapsed": true,
    "jupyter": {
     "outputs_hidden": true
    },
    "tags": []
   },
   "outputs": [
    {
     "ename": "KeyboardInterrupt",
     "evalue": "",
     "output_type": "error",
     "traceback": [
      "\u001b[0;31m---------------------------------------------------------------------------\u001b[0m",
      "\u001b[0;31mKeyboardInterrupt\u001b[0m                         Traceback (most recent call last)",
      "Cell \u001b[0;32mIn[27], line 1\u001b[0m\n\u001b[0;32m----> 1\u001b[0m \u001b[43mkm\u001b[49m\u001b[38;5;241;43m.\u001b[39;49m\u001b[43mKuh_Munkras\u001b[49m\u001b[43m(\u001b[49m\u001b[43m)\u001b[49m  \u001b[38;5;66;03m# 匹配\u001b[39;00m\n",
      "Cell \u001b[0;32mIn[21], line 58\u001b[0m, in \u001b[0;36mKM_Algorithm.Kuh_Munkras\u001b[0;34m(self)\u001b[0m\n\u001b[1;32m     56\u001b[0m \u001b[38;5;28mself\u001b[39m\u001b[38;5;241m.\u001b[39minc \u001b[38;5;241m=\u001b[39m \u001b[38;5;241m1000\u001b[39m\u001b[38;5;241m*\u001b[39m\u001b[38;5;241m1000\u001b[39m  \u001b[38;5;66;03m# the minimum gap\u001b[39;00m\n\u001b[1;32m     57\u001b[0m \u001b[38;5;28mself\u001b[39m\u001b[38;5;241m.\u001b[39mreset()  \u001b[38;5;66;03m# 每次寻找过的路径，所有要重置一下\u001b[39;00m\n\u001b[0;32m---> 58\u001b[0m \u001b[38;5;28;01mif\u001b[39;00m \u001b[38;5;28;43mself\u001b[39;49m\u001b[38;5;241;43m.\u001b[39;49m\u001b[43mmatch\u001b[49m\u001b[43m(\u001b[49m\u001b[43mcell\u001b[49m\u001b[43m)\u001b[49m:\n\u001b[1;32m     59\u001b[0m     \u001b[38;5;28;01mbreak\u001b[39;00m\n\u001b[1;32m     60\u001b[0m \u001b[38;5;28;01mfor\u001b[39;00m k \u001b[38;5;129;01min\u001b[39;00m \u001b[38;5;28mrange\u001b[39m(\u001b[38;5;28mself\u001b[39m\u001b[38;5;241m.\u001b[39mleft):\n",
      "Cell \u001b[0;32mIn[21], line 41\u001b[0m, in \u001b[0;36mKM_Algorithm.match\u001b[0;34m(self, cell)\u001b[0m\n\u001b[1;32m     39\u001b[0m \u001b[38;5;66;03m#在step2最高标准调整的时候判断子图还是不是权重最高\u001b[39;00m\n\u001b[1;32m     40\u001b[0m \u001b[38;5;28;01mfor\u001b[39;00m celltype \u001b[38;5;129;01min\u001b[39;00m \u001b[38;5;28mrange\u001b[39m(\u001b[38;5;28mself\u001b[39m\u001b[38;5;241m.\u001b[39mright):\n\u001b[0;32m---> 41\u001b[0m     \u001b[38;5;28;01mif\u001b[39;00m \u001b[38;5;129;01mnot\u001b[39;00m \u001b[38;5;28mself\u001b[39m\u001b[38;5;241m.\u001b[39mvisit_right[celltype] \u001b[38;5;129;01mand\u001b[39;00m \u001b[38;5;28mself\u001b[39m\u001b[38;5;241m.\u001b[39mBipartite_Graph[cell][celltype] \u001b[38;5;241m>\u001b[39m\u001b[38;5;241m=\u001b[39m \u001b[38;5;241m0\u001b[39m:    \n\u001b[1;32m     42\u001b[0m         gap \u001b[38;5;241m=\u001b[39m \u001b[38;5;28mself\u001b[39m\u001b[38;5;241m.\u001b[39mlabel_left\u001b[38;5;241m.\u001b[39mvalues[cell] \u001b[38;5;241m+\u001b[39m \u001b[38;5;28mself\u001b[39m\u001b[38;5;241m.\u001b[39mlabel_right[celltype] \u001b[38;5;241m-\u001b[39m \u001b[38;5;28mself\u001b[39m\u001b[38;5;241m.\u001b[39mBipartite_Graph[cell][celltype] \n\u001b[1;32m     43\u001b[0m         \u001b[38;5;28;01mif\u001b[39;00m gap \u001b[38;5;241m==\u001b[39m \u001b[38;5;241m0\u001b[39m: \n",
      "\u001b[0;31mKeyboardInterrupt\u001b[0m: "
     ]
    }
   ],
   "source": [
    "km.Kuh_Munkras()  # 匹配"
   ]
  },
  {
   "cell_type": "code",
   "execution_count": 8,
   "id": "644ee83a-16db-4063-beb5-4d1b143eea00",
   "metadata": {},
   "outputs": [
    {
     "data": {
      "text/plain": [
       "<__main__.KM_Algorithm at 0x7ff65422aca0>"
      ]
     },
     "execution_count": 8,
     "metadata": {},
     "output_type": "execute_result"
    }
   ],
   "source": [
    "cells_celltypes, _ = km.calculateSum() #"
   ]
  },
  {
   "cell_type": "code",
   "execution_count": 8,
   "id": "009d94e8-5976-475e-9bda-cdbd34a2fbea",
   "metadata": {},
   "outputs": [
    {
     "data": {
      "text/plain": [
       "torch.return_types.max(\n",
       "values=tensor([7.2221, 6.4928, 5.8720,  ..., 8.1468, 7.9132, 7.7422]),\n",
       "indices=tensor([2, 2, 2,  ..., 2, 2, 2]))"
      ]
     },
     "execution_count": 8,
     "metadata": {},
     "output_type": "execute_result"
    }
   ],
   "source": [
    "import torch\n",
    "label_left = torch.max(weight, axis=1)  # 设置左边顶标为权重最大值（每行的最大值）\n",
    "label_left"
   ]
  },
  {
   "cell_type": "code",
   "execution_count": 9,
   "id": "33b5f338-dee0-4125-a603-9304570dbe26",
   "metadata": {},
   "outputs": [],
   "source": [
    "left = weight.shape[0]  # 以左边（细胞）为主\n",
    "right_true = weight.shape[1] \n",
    "right = weight.shape[1] + left"
   ]
  },
  {
   "cell_type": "code",
   "execution_count": 14,
   "id": "30ed4d8d-1ce0-47fb-ac9d-c3f7f8f284e0",
   "metadata": {},
   "outputs": [
    {
     "data": {
      "text/plain": [
       "20821"
      ]
     },
     "execution_count": 14,
     "metadata": {},
     "output_type": "execute_result"
    }
   ],
   "source": [
    "right"
   ]
  },
  {
   "cell_type": "code",
   "execution_count": 15,
   "id": "b2f72c80-26d9-4e82-8ed3-d101d4acc18b",
   "metadata": {},
   "outputs": [
    {
     "data": {
      "text/plain": [
       "tensor([0., 0., 0.,  ..., 0., 0., 0.])"
      ]
     },
     "execution_count": 15,
     "metadata": {},
     "output_type": "execute_result"
    }
   ],
   "source": [
    "label_right = torch.zeros(right)  # 右边集合的顶标设置为0\n",
    "label_right"
   ]
  },
  {
   "cell_type": "code",
   "execution_count": 33,
   "id": "4964ec45-179b-4507-a559-6207670044fc",
   "metadata": {},
   "outputs": [],
   "source": [
    "cell=0\n",
    "celltype=0\n",
    "gap = label_left.values[cell] + label_right[celltype] - weight[cell][celltype] "
   ]
  },
  {
   "cell_type": "code",
   "execution_count": 34,
   "id": "e343ffb5-7a6c-4f5f-8d87-d5e9422eda9c",
   "metadata": {},
   "outputs": [
    {
     "data": {
      "text/plain": [
       "tensor(4.8397)"
      ]
     },
     "execution_count": 34,
     "metadata": {},
     "output_type": "execute_result"
    }
   ],
   "source": [
    "gap"
   ]
  },
  {
   "cell_type": "code",
   "execution_count": 35,
   "id": "d59a75e8-b1d7-4411-8aa9-916f4da239ed",
   "metadata": {},
   "outputs": [
    {
     "data": {
      "text/plain": [
       "tensor(False)"
      ]
     },
     "execution_count": 35,
     "metadata": {},
     "output_type": "execute_result"
    }
   ],
   "source": [
    "gap ==0"
   ]
  },
  {
   "cell_type": "code",
   "execution_count": 36,
   "id": "cf7af297-5aa2-4d2d-83f5-25b98e3bcbff",
   "metadata": {},
   "outputs": [],
   "source": [
    "if gap == 0:\n",
    "    print ('a')"
   ]
  },
  {
   "cell_type": "code",
   "execution_count": 43,
   "id": "494709ff-7ea8-4fd3-9ad1-e76c1fe92e38",
   "metadata": {},
   "outputs": [],
   "source": [
    "label_left.values[0] -= 1"
   ]
  },
  {
   "cell_type": "code",
   "execution_count": 44,
   "id": "d14407a3-3e82-4786-a96e-5f45817fa88a",
   "metadata": {},
   "outputs": [
    {
     "data": {
      "text/plain": [
       "torch.return_types.max(\n",
       "values=tensor([5.2221, 5.4928, 4.8720,  ..., 7.1468, 6.9132, 6.7422]),\n",
       "indices=tensor([2, 2, 2,  ..., 2, 2, 2]))"
      ]
     },
     "execution_count": 44,
     "metadata": {},
     "output_type": "execute_result"
    }
   ],
   "source": [
    "label_left"
   ]
  },
  {
   "cell_type": "code",
   "execution_count": 52,
   "id": "26648b00-b573-4bd8-854f-43c217285695",
   "metadata": {},
   "outputs": [],
   "source": [
    "label_right[0] += 1"
   ]
  },
  {
   "cell_type": "code",
   "execution_count": 53,
   "id": "030ed4d7-b7da-4afe-8717-066e6db14474",
   "metadata": {},
   "outputs": [
    {
     "data": {
      "text/plain": [
       "tensor([1., 0., 0.,  ..., 0., 0., 0.])"
      ]
     },
     "execution_count": 53,
     "metadata": {},
     "output_type": "execute_result"
    }
   ],
   "source": [
    "label_right"
   ]
  },
  {
   "cell_type": "markdown",
   "id": "41ee472a-87a6-4ef2-acba-f1b06df9e459",
   "metadata": {},
   "source": [
    "### cpu"
   ]
  },
  {
   "cell_type": "code",
   "execution_count": 4,
   "id": "3b1b995f-43cd-423c-91f8-2f3a52962c51",
   "metadata": {},
   "outputs": [],
   "source": [
    "import torch\n",
    "import pandas as pd\n",
    "weight = torch.softmax(weight, dim=-1) \n",
    "square_weight = (weight ** 2) / (weight ** 2).sum(dim=1, keepdim=True) #得到初始二分图，权重为扩大差异后的概率 \n",
    "\n",
    "## part 1: argmax ##\n",
    "index_argmax = [] #如果模型认为细胞是某个细胞类型的概率大于0.5，就直接用argmax转成hard assignment\n",
    "index_km = []\n",
    "\n",
    "for i in range(len(square_weight)):\n",
    "    if (square_weight[i] > 0.5).any():\n",
    "        index_argmax.append(i)\n",
    "    else:\n",
    "        index_km.append(i)\n",
    "\n",
    "pred_indices = square_weight[index_argmax].argmax(dim=1)\n",
    "argmax_df = pd.Series(pred_indices, index=index_argmax)"
   ]
  },
  {
   "cell_type": "code",
   "execution_count": 5,
   "id": "f7c3d22f-7943-45c4-bb0e-dac58da4c151",
   "metadata": {
    "tags": []
   },
   "outputs": [],
   "source": [
    "class KM_Algorithm:\n",
    "    \"\"\"\n",
    "    1.最大权重匹配\n",
    "    2.输入的二分图应该是一个经过soft assignment的scores或prob矩阵\n",
    "    3.二分图是以left：cell，rights：celltype来写的\n",
    "    \"\"\"\n",
    "\n",
    "    def __init__(self, Bipartite_Graph):\n",
    "\n",
    "        self.Bipartite_Graph = Bipartite_Graph\n",
    "\n",
    "        # 左右结点数量记录\n",
    "        self.left = self.Bipartite_Graph.shape[0]  # 以左边（细胞）为主\n",
    "        self.right_true = self.Bipartite_Graph.shape[1] \n",
    "        self.right = self.Bipartite_Graph.shape[1] + self.left\n",
    "        self.reshape_graph() \n",
    "\n",
    "        # step1:最高标准初始化（顶标）\n",
    "        self.label_left = np.max(self.Bipartite_Graph, axis=1)  # 设置左边顶标为权重最大值（每行的最大值）\n",
    "        self.label_right = np.zeros(self.right)  # 右边集合的顶标设置为0\n",
    "\n",
    "        # 初始化辅助变量——是否已匹配\n",
    "        self.visit_left = np.zeros(self.left, dtype=bool) #全是false\n",
    "        self.visit_right = np.zeros(self.right, dtype=bool)\n",
    "\n",
    "        # 初始化右边的匹配结果.如果已匹配就会对应匹配结果\n",
    "        self.match_right = np.empty(self.right) * np.nan #全是nan\n",
    "\n",
    "        # 用inc记录需要减去的权值d，不断取最小值故初始化为较大值。权值都为负数，应该不用很大也行\n",
    "        self.inc = 1000*1000*1000\n",
    "        self.fail_cell = list()  # 每次匹配重新创建一个二分图匹配对象，所以这个也不用手动重置了\n",
    "\n",
    "    def reshape_graph(self):\n",
    "        new = np.ones((self.left, self.left)) * 0 #全0方阵\n",
    "        self.Bipartite_Graph = np.column_stack((self.Bipartite_Graph, new)) #在右边拼上矩阵\n",
    "        #new = torch.zeros((self.left, self.left)).to(device='cuda')\n",
    "        #self.Bipartite_Graph = torch.cat((self.Bipartite_Graph, new),dim=1)\n",
    "    def match(self, cell):\n",
    "        cell = int(cell) \n",
    "        self.visit_left[cell] = True # 记录下这个cell已经被寻找\n",
    "        \n",
    "        for celltype in range(self.right):\n",
    "            if not self.visit_right[celltype] and self.Bipartite_Graph[cell][celltype] >= 0:    \n",
    "                  # 如果这个celltype还没访问过       # celltype仍未匹配并且它们之间存在匹配的可能性(不可匹配的点设置为负数，取反后变正数,故正数不可取)\n",
    "                gap = self.label_left[cell] + self.label_right[celltype] - self.Bipartite_Graph[cell][celltype]  # gap也不会取到不能匹配的那条边\n",
    "                if gap == 0:   # 差值为0，是可行的替换。所以可以直接尝试替换。后面不行再去将这个一起减去gap。这个列表是记录希望匹配的\n",
    "                    self.visit_right[celltype] = True\n",
    "                    # celltype未被匹配，或虽然已被匹配，但是已匹配对象(cell)有其他可选备胎。这里那些是否已访问的列表不需要重置，因为不改变前面的尝试匹配\n",
    "                    if np.isnan(self.match_right[celltype]) or self.match(self.match_right[celltype]):\n",
    "                        self.match_right[celltype] = cell# 递归匹配，匹配成功\n",
    "                        return 1\n",
    "                # 找到权值最小的差距\n",
    "                elif self.inc > gap:\n",
    "                    self.inc = gap  # 等于0的gap不会存在这，所以只要存在可能匹配的情况，gap就不会等于原来\n",
    "        return 0\n",
    "\n",
    "    def Kuh_Munkras(self):\n",
    "        self.match_right = np.empty(self.right) * np.nan\n",
    "        \n",
    "        for cell in range(self.left):\n",
    "            while True:\n",
    "                self.inc = 1000*1000  # the minimum gap\n",
    "                self.reset()  # 每次寻找过的路径，所有要重置一下\n",
    "                # 可找到可行匹配\n",
    "                if self.match(cell):\n",
    "                    break #如果返回1的话就会立即break这个while循环\n",
    "                # 不能找到可行匹配\n",
    "                # (1)将所有在增广路中的cell方点的label全部减去最小常数\n",
    "                # (2)将所有在增广路中的celltype方点的label全部加上最小常数\n",
    "                for k in range(self.left):\n",
    "                    if self.visit_left[k]:\n",
    "                        self.label_left[k] -= self.inc\n",
    "                for n in range(self.right):\n",
    "                    if self.visit_right[n]:\n",
    "                        self.label_right[n] += self.inc\n",
    "        return self.fail_cell\n",
    "\n",
    "    def calculateSum(self):\n",
    "        sum = 0\n",
    "        cells_celltypes = []\n",
    "        self.fail_cell = [i for i in range(self.left)]\n",
    "        for i in range(self.right_true):\n",
    "            if not np.isnan(self.match_right[i]):\n",
    "                sum += self.Bipartite_Graph[int(self.match_right[i])][i]\n",
    "                cell_celltype = (int(self.match_right[i]), i)\n",
    "                cells_celltypes.append(cell_celltype)\n",
    "                self.fail_cell.remove(int(self.match_right[i]))\n",
    "         #得到的sum是最短路径\n",
    "        return cells_celltypes, self.fail_cell\n",
    "            #匹配成功           #匹配失败\n",
    "        \n",
    "    def getResult(self):\n",
    "        return self.match_right\n",
    "\n",
    "    def reset(self):\n",
    "        self.visit_left = np.zeros(self.left, dtype=bool)\n",
    "        self.visit_right = np.zeros(self.right, dtype=bool)"
   ]
  },
  {
   "cell_type": "code",
   "execution_count": 9,
   "id": "fed11962-acc4-4f93-b889-47941034fa57",
   "metadata": {},
   "outputs": [
    {
     "name": "stderr",
     "output_type": "stream",
     "text": [
      "100%|██████████| 7/7 [00:00<00:00, 44.14it/s]"
     ]
    },
    {
     "name": "stdout",
     "output_type": "stream",
     "text": [
      "==> KM algortithm over!\n"
     ]
    },
    {
     "name": "stderr",
     "output_type": "stream",
     "text": [
      "\n"
     ]
    }
   ],
   "source": [
    "## part2\n",
    "from tqdm import tqdm\n",
    "import numpy as np\n",
    "loops = 0\n",
    "total_loops = len(index_km)//8 +1\n",
    "pred_indices = []\n",
    "pred_celltype=[] \n",
    "\n",
    "for loops in tqdm(range(total_loops)): \n",
    "    km = KM_Algorithm(square_weight[index_km])  #输入二分图.to(device='cuda')\n",
    "    km.Kuh_Munkras()  # 匹配\n",
    "    cells_celltypes, _ = km.calculateSum() #.to(device='cpu').detach()\n",
    "\n",
    "    cells = [index_km[cells[0]] for cells in cells_celltypes] #对应到原始索引的细胞index\n",
    "    celltypes = [cells[1] for cells in cells_celltypes] #细胞名不需要对应回去\n",
    "    pred_indices += cells #因为是列表\n",
    "    pred_celltype += celltypes\n",
    "    index_km = [x for x in index_km if x not in cells]\n",
    "\n",
    "print(\"==> KM algortithm over!\")"
   ]
  },
  {
   "cell_type": "code",
   "execution_count": 10,
   "id": "452ff6fe-fec4-4b40-a41d-4882928ca87a",
   "metadata": {},
   "outputs": [],
   "source": [
    "km_df = pd.DataFrame(pred_celltype, index=pred_indices)"
   ]
  },
  {
   "cell_type": "code",
   "execution_count": 12,
   "id": "b337bf96-475d-4d21-9593-40a0a59ae051",
   "metadata": {},
   "outputs": [],
   "source": [
    "## part 3: prediction results ##\n",
    "pred_df = pd.concat([argmax_df,km_df],axis=0)\n",
    "pred_df = pred_df.sort_index(ascending=True) #细胞数量行1列的矩阵，行索引是细胞index，值是预测的label\n",
    "proportion = pd.DataFrame(pred_df[0].value_counts()/len(pred_df))\n",
    "proportion = proportion.sort_index(ascending=True) #细胞类型数量行1列的矩阵\n",
    "proportion.index = celltype\n",
    "proportion = pd.Series(proportion.iloc[:,0])#不然后面有些函数还得分类讨论"
   ]
  },
  {
   "cell_type": "code",
   "execution_count": 13,
   "id": "1698e00a-32f1-4c85-ab75-a27ee388deca",
   "metadata": {},
   "outputs": [
    {
     "data": {
      "text/plain": [
       "B Cell              0.003411\n",
       "Endothelial Cell    0.000336\n",
       "Epithelial          0.983616\n",
       "Fibroblast          0.000577\n",
       "Melanocyte          0.000336\n",
       "Myeloid cells       0.009321\n",
       "NK                  0.000769\n",
       "Tcell               0.001634\n",
       "Name: 0, dtype: float64"
      ]
     },
     "execution_count": 13,
     "metadata": {},
     "output_type": "execute_result"
    }
   ],
   "source": [
    "proportion"
   ]
  },
  {
   "cell_type": "code",
   "execution_count": 16,
   "id": "e3248e57-1f0d-498d-9926-2a9d09b0df5e",
   "metadata": {},
   "outputs": [],
   "source": [
    "from utils import adjust\n",
    "proportion_1 = adjust(proportion) #不知道为啥，老是导入就不行，单独用那个函数就可以"
   ]
  },
  {
   "cell_type": "code",
   "execution_count": 17,
   "id": "c82f365a-756f-4139-9904-302238360b11",
   "metadata": {},
   "outputs": [
    {
     "data": {
      "text/plain": [
       "B Cell              0.003405\n",
       "Endothelial Cell    0.000998\n",
       "Epithelial          0.981670\n",
       "Fibroblast          0.000998\n",
       "Melanocyte          0.000998\n",
       "Myeloid cells       0.009303\n",
       "NK                  0.000998\n",
       "Tcell               0.001630\n",
       "Name: 0, dtype: float64"
      ]
     },
     "execution_count": 17,
     "metadata": {},
     "output_type": "execute_result"
    }
   ],
   "source": [
    "proportion_1"
   ]
  },
  {
   "cell_type": "code",
   "execution_count": 18,
   "id": "69879632-f63f-4d2a-97c0-002c2a8ba1de",
   "metadata": {},
   "outputs": [],
   "source": [
    "pred_proportion = proportion.rename(\"predict_1\")"
   ]
  },
  {
   "cell_type": "code",
   "execution_count": 19,
   "id": "6020fc46-1d30-4012-a9a2-793c8594504a",
   "metadata": {},
   "outputs": [
    {
     "data": {
      "text/plain": [
       "B Cell              0.003411\n",
       "Endothelial Cell    0.000336\n",
       "Epithelial          0.983616\n",
       "Fibroblast          0.000577\n",
       "Melanocyte          0.000336\n",
       "Myeloid cells       0.009321\n",
       "NK                  0.000769\n",
       "Tcell               0.001634\n",
       "Name: predict_1, dtype: float64"
      ]
     },
     "execution_count": 19,
     "metadata": {},
     "output_type": "execute_result"
    }
   ],
   "source": [
    "pred_proportion"
   ]
  },
  {
   "cell_type": "code",
   "execution_count": 28,
   "id": "6fb3b3f2-1109-439e-848d-7a8a69f50b51",
   "metadata": {},
   "outputs": [],
   "source": [
    "from sklearn.metrics import accuracy_score, precision_score, recall_score, f1_score, precision_recall_fscore_support\n",
    "\n",
    "def metrics(scores, labels, mode, pred_labels):\n",
    "    '''\n",
    "    evaluate the prediction results\n",
    "    soft assignment对于单个细胞预测的准确率还是得利用hard assignment，因为它跳过了对单个细胞的预测、直接预测比例\n",
    "    '''\n",
    "    dict_correct = {i: 0 for i in range(8)}\n",
    "    dict_samples = {i: 0 for i in range(8)}\n",
    "    y_true, y_pred=[], []\n",
    "    cell_type = [i for i in range(8)]\n",
    "\n",
    "    if mode == 'soft' or 'hard':\n",
    "        _, prediction = scores.max(dim=1) #predictions是(cell_num,1)的矩阵（张量的写法是(cell_num,)）\n",
    "        _, indices = labels.max(dim=1)#_是一个占位符，第一个是样本的最大值，第二个是其索引\n",
    "    elif mode == 'km':\n",
    "        if pred_labels is None:\n",
    "            raise ValueError(\"The pred_labels is required!\") \n",
    "        else:\n",
    "            prediction = pred_labels\n",
    "            _, indices = labels.max(dim=1)\n",
    "    else:\n",
    "        raise ValueError(\"Invalid mode!\")\n",
    "        \n",
    "    for i in range(prediction.size(0)):\n",
    "        m = indices[i].item() \n",
    "        n = prediction[i].item()\n",
    "        y_true.append(m)\n",
    "        y_pred.append(n)\n",
    "        if m in dict_correct:\n",
    "            dict_samples[m] += 1\n",
    "            if m == n:\n",
    "                dict_correct[m] += 1\n",
    "        else:\n",
    "            print(\"The number of cell type is not suitable!\")\n",
    "                \n",
    "    #（1）每个cell type的指标\n",
    "    p,r,f,num_true=precision_recall_fscore_support(y_true=y_true,y_pred=y_pred,labels=cell_type,average=None)\n",
    "    precision = pd.DataFrame(p)  \n",
    "    recall = pd.DataFrame(r)\n",
    "    \n",
    "    #（2）整体的指标\n",
    "    f1_score_micro = f1_score(y_true, y_pred,labels=cell_type,average='micro')\n",
    "    f1_score_macro = f1_score(y_true, y_pred,labels=cell_type,average='macro')\n",
    "    f1score = pd.DataFrame([f1_score_micro,f1_score_macro], index=['f1score_micro','f1score_macro'])   \n",
    "    \n",
    "    num_correct = sum(dict_correct.values())\n",
    "    num_samples = sum(dict_samples.values())\n",
    "    accuracy = float(num_correct) / float(num_samples)\n",
    "    print(f\"Got {num_correct} / {num_samples} with accuracy' {accuracy * 100:.2f}%\")\n",
    "        \n",
    "    return accuracy, f1score, precision, recall"
   ]
  },
  {
   "cell_type": "code",
   "execution_count": 29,
   "id": "73357e49-aaa1-40d2-93b8-a19ed50d0789",
   "metadata": {},
   "outputs": [
    {
     "name": "stdout",
     "output_type": "stream",
     "text": [
      "Got 15726 / 20813 with accuracy' 75.56%\n"
     ]
    }
   ],
   "source": [
    "_, f1scores, precision, recall = metrics(weight,labels,'km', pred_df)"
   ]
  },
  {
   "cell_type": "code",
   "execution_count": 30,
   "id": "de160915-d097-4927-9829-fa8ab20ce4ff",
   "metadata": {},
   "outputs": [
    {
     "data": {
      "text/html": [
       "<div>\n",
       "<style scoped>\n",
       "    .dataframe tbody tr th:only-of-type {\n",
       "        vertical-align: middle;\n",
       "    }\n",
       "\n",
       "    .dataframe tbody tr th {\n",
       "        vertical-align: top;\n",
       "    }\n",
       "\n",
       "    .dataframe thead th {\n",
       "        text-align: right;\n",
       "    }\n",
       "</style>\n",
       "<table border=\"1\" class=\"dataframe\">\n",
       "  <thead>\n",
       "    <tr style=\"text-align: right;\">\n",
       "      <th></th>\n",
       "      <th>0</th>\n",
       "    </tr>\n",
       "  </thead>\n",
       "  <tbody>\n",
       "    <tr>\n",
       "      <th>f1score_micro</th>\n",
       "      <td>0.755585</td>\n",
       "    </tr>\n",
       "    <tr>\n",
       "      <th>f1score_macro</th>\n",
       "      <td>0.130155</td>\n",
       "    </tr>\n",
       "  </tbody>\n",
       "</table>\n",
       "</div>"
      ],
      "text/plain": [
       "                      0\n",
       "f1score_micro  0.755585\n",
       "f1score_macro  0.130155"
      ]
     },
     "execution_count": 30,
     "metadata": {},
     "output_type": "execute_result"
    }
   ],
   "source": [
    "f1scores"
   ]
  },
  {
   "cell_type": "code",
   "execution_count": 31,
   "id": "7fbad515-c630-4751-827d-dda42065dab6",
   "metadata": {},
   "outputs": [
    {
     "data": {
      "text/html": [
       "<div>\n",
       "<style scoped>\n",
       "    .dataframe tbody tr th:only-of-type {\n",
       "        vertical-align: middle;\n",
       "    }\n",
       "\n",
       "    .dataframe tbody tr th {\n",
       "        vertical-align: top;\n",
       "    }\n",
       "\n",
       "    .dataframe thead th {\n",
       "        text-align: right;\n",
       "    }\n",
       "</style>\n",
       "<table border=\"1\" class=\"dataframe\">\n",
       "  <thead>\n",
       "    <tr style=\"text-align: right;\">\n",
       "      <th></th>\n",
       "      <th>0</th>\n",
       "    </tr>\n",
       "  </thead>\n",
       "  <tbody>\n",
       "    <tr>\n",
       "      <th>0</th>\n",
       "      <td>0.000000</td>\n",
       "    </tr>\n",
       "    <tr>\n",
       "      <th>1</th>\n",
       "      <td>0.000000</td>\n",
       "    </tr>\n",
       "    <tr>\n",
       "      <th>2</th>\n",
       "      <td>0.758165</td>\n",
       "    </tr>\n",
       "    <tr>\n",
       "      <th>3</th>\n",
       "      <td>0.666667</td>\n",
       "    </tr>\n",
       "    <tr>\n",
       "      <th>4</th>\n",
       "      <td>0.000000</td>\n",
       "    </tr>\n",
       "    <tr>\n",
       "      <th>5</th>\n",
       "      <td>0.871287</td>\n",
       "    </tr>\n",
       "    <tr>\n",
       "      <th>6</th>\n",
       "      <td>0.000000</td>\n",
       "    </tr>\n",
       "    <tr>\n",
       "      <th>7</th>\n",
       "      <td>0.416667</td>\n",
       "    </tr>\n",
       "  </tbody>\n",
       "</table>\n",
       "</div>"
      ],
      "text/plain": [
       "          0\n",
       "0  0.000000\n",
       "1  0.000000\n",
       "2  0.758165\n",
       "3  0.666667\n",
       "4  0.000000\n",
       "5  0.871287\n",
       "6  0.000000\n",
       "7  0.416667"
      ]
     },
     "execution_count": 31,
     "metadata": {},
     "output_type": "execute_result"
    }
   ],
   "source": [
    "precision"
   ]
  },
  {
   "cell_type": "code",
   "execution_count": 32,
   "id": "e5e55f7d-7f43-4136-9852-c4f364b7b2ee",
   "metadata": {},
   "outputs": [
    {
     "data": {
      "text/html": [
       "<div>\n",
       "<style scoped>\n",
       "    .dataframe tbody tr th:only-of-type {\n",
       "        vertical-align: middle;\n",
       "    }\n",
       "\n",
       "    .dataframe tbody tr th {\n",
       "        vertical-align: top;\n",
       "    }\n",
       "\n",
       "    .dataframe thead th {\n",
       "        text-align: right;\n",
       "    }\n",
       "</style>\n",
       "<table border=\"1\" class=\"dataframe\">\n",
       "  <thead>\n",
       "    <tr style=\"text-align: right;\">\n",
       "      <th></th>\n",
       "      <th>0</th>\n",
       "    </tr>\n",
       "  </thead>\n",
       "  <tbody>\n",
       "    <tr>\n",
       "      <th>0</th>\n",
       "      <td>0.000000</td>\n",
       "    </tr>\n",
       "    <tr>\n",
       "      <th>1</th>\n",
       "      <td>0.000000</td>\n",
       "    </tr>\n",
       "    <tr>\n",
       "      <th>2</th>\n",
       "      <td>0.995067</td>\n",
       "    </tr>\n",
       "    <tr>\n",
       "      <th>3</th>\n",
       "      <td>0.017937</td>\n",
       "    </tr>\n",
       "    <tr>\n",
       "      <th>4</th>\n",
       "      <td>0.000000</td>\n",
       "    </tr>\n",
       "    <tr>\n",
       "      <th>5</th>\n",
       "      <td>0.044177</td>\n",
       "    </tr>\n",
       "    <tr>\n",
       "      <th>6</th>\n",
       "      <td>0.000000</td>\n",
       "    </tr>\n",
       "    <tr>\n",
       "      <th>7</th>\n",
       "      <td>0.033259</td>\n",
       "    </tr>\n",
       "  </tbody>\n",
       "</table>\n",
       "</div>"
      ],
      "text/plain": [
       "          0\n",
       "0  0.000000\n",
       "1  0.000000\n",
       "2  0.995067\n",
       "3  0.017937\n",
       "4  0.000000\n",
       "5  0.044177\n",
       "6  0.000000\n",
       "7  0.033259"
      ]
     },
     "execution_count": 32,
     "metadata": {},
     "output_type": "execute_result"
    }
   ],
   "source": [
    "recall"
   ]
  },
  {
   "cell_type": "code",
   "execution_count": null,
   "id": "1c1a96ea-f54c-4ae0-8edd-2b0814a62d6d",
   "metadata": {},
   "outputs": [],
   "source": []
  }
 ],
 "metadata": {
  "kernelspec": {
   "display_name": "bioinfo",
   "language": "python",
   "name": "bioinfo"
  },
  "language_info": {
   "codemirror_mode": {
    "name": "ipython",
    "version": 3
   },
   "file_extension": ".py",
   "mimetype": "text/x-python",
   "name": "python",
   "nbconvert_exporter": "python",
   "pygments_lexer": "ipython3",
   "version": "3.9.15"
  }
 },
 "nbformat": 4,
 "nbformat_minor": 5
}
