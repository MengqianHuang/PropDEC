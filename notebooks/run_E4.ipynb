{
 "cells": [
  {
   "cell_type": "code",
   "execution_count": 1,
   "id": "aadd6dbc-e5ed-46ff-bdfe-bcb9fd70b385",
   "metadata": {},
   "outputs": [],
   "source": [
    "import numpy as np\n",
    "import pandas as pd\n",
    "import scanpy as sc"
   ]
  },
  {
   "cell_type": "markdown",
   "id": "0a3735f0-250a-426e-ad41-12de01063f44",
   "metadata": {
    "tags": []
   },
   "source": [
    "## data preprocess"
   ]
  },
  {
   "cell_type": "markdown",
   "id": "c0c42753-7906-47e4-91ef-693be4938b1b",
   "metadata": {
    "jp-MarkdownHeadingCollapsed": true,
    "tags": []
   },
   "source": [
    "### 1.facs_Cd8"
   ]
  },
  {
   "cell_type": "code",
   "execution_count": 23,
   "id": "9a8cfa15-da99-441b-af65-ead4061bd96e",
   "metadata": {},
   "outputs": [
    {
     "name": "stderr",
     "output_type": "stream",
     "text": [
      "/usr/local/anaconda3/lib/python3.9/site-packages/anndata/__init__.py:51: FutureWarning: `anndata.read` is deprecated, use `anndata.read_h5ad` instead. `ad.read` will be removed in mid 2024.\n",
      "  warnings.warn(\n",
      "/usr/local/anaconda3/lib/python3.9/site-packages/anndata/__init__.py:51: FutureWarning: `anndata.read` is deprecated, use `anndata.read_h5ad` instead. `ad.read` will be removed in mid 2024.\n",
      "  warnings.warn(\n",
      "/tmp/ipykernel_4072521/3754856107.py:4: FutureWarning: Use anndata.concat instead of AnnData.concatenate, AnnData.concatenate is deprecated and will be removed in the future. See the tutorial for concat at: https://anndata.readthedocs.io/en/latest/concatenation.html\n",
      "  adata = adata_test_pre.concatenate(adata_ref_pre, batch_key=\"dataset_type\")\n"
     ]
    }
   ],
   "source": [
    "# adata = sc.read(\"/volume1/home/kliu/Others/cellTypeAbundance/data/PBMC_FACS/test_adata.h5ad\")\n",
    "adata_ref_pre = sc.read(\"/volume1/home/mhuang/cellTypeAbundance/data/FACS_CD8/train_adata_1.h5ad\")\n",
    "adata_test_pre = sc.read(\"/volume1/home/mhuang/cellTypeAbundance/data/FACS_CD8/test_adata_1.h5ad\")\n",
    "adata = adata_test_pre.concatenate(adata_ref_pre, batch_key=\"dataset_type\")"
   ]
  },
  {
   "cell_type": "code",
   "execution_count": 41,
   "id": "64622d4c-9ecc-4a10-882c-e699e622d51f",
   "metadata": {},
   "outputs": [],
   "source": [
    "# preprocess\n",
    "sc.pp.filter_cells(adata, min_genes=200)\n",
    "sc.pp.filter_genes(adata, min_cells=3)\n",
    "\n",
    "sc.pp.normalize_total(adata,target_sum=1e4)\n",
    "sc.pp.log1p(adata)\n",
    "# sc.pp.highly_variable_genes(adata, min_mean=0.0125, max_mean=3, min_disp=0.5)\n",
    "# adata = adata[:, adata.var.highly_variable]\n",
    "\n",
    "sc.pp.scale(adata)\n",
    "\n",
    "adata.var_names_make_unique()\n",
    "adata.obs_names_make_unique()"
   ]
  },
  {
   "cell_type": "code",
   "execution_count": 42,
   "id": "01102c75-38b2-4b74-aae0-c2c9d5b8fedc",
   "metadata": {},
   "outputs": [],
   "source": [
    "adata_ref = adata[adata.obs['dataset_type']=='1']\n",
    "adata_test = adata[adata.obs['dataset_type']=='0']"
   ]
  },
  {
   "cell_type": "code",
   "execution_count": 44,
   "id": "d69c5928-e3c1-49b9-8e89-35d74ac250c6",
   "metadata": {},
   "outputs": [
    {
     "name": "stderr",
     "output_type": "stream",
     "text": [
      "/usr/local/anaconda3/lib/python3.9/site-packages/scanpy/tools/_rank_genes_groups.py:582: ImplicitModificationWarning: Trying to modify attribute `._uns` of view, initializing view as actual.\n",
      "  adata.uns[key_added] = {}\n",
      "/usr/local/anaconda3/lib/python3.9/site-packages/numpy/core/fromnumeric.py:86: FutureWarning: The behavior of DataFrame.sum with axis=None is deprecated, in a future version this will reduce over both axes and return a scalar. To retain the old behavior, pass axis=0 (or do not pass axis)\n",
      "  return reduction(axis=axis, out=out, **passkwargs)\n",
      "/usr/local/anaconda3/lib/python3.9/site-packages/scanpy/tools/_rank_genes_groups.py:422: RuntimeWarning: invalid value encountered in log2\n",
      "  self.stats[group_name, 'logfoldchanges'] = np.log2(\n",
      "/usr/local/anaconda3/lib/python3.9/site-packages/scanpy/tools/_rank_genes_groups.py:422: RuntimeWarning: invalid value encountered in log2\n",
      "  self.stats[group_name, 'logfoldchanges'] = np.log2(\n",
      "/usr/local/anaconda3/lib/python3.9/site-packages/scanpy/tools/_rank_genes_groups.py:422: RuntimeWarning: invalid value encountered in log2\n",
      "  self.stats[group_name, 'logfoldchanges'] = np.log2(\n",
      "/usr/local/anaconda3/lib/python3.9/site-packages/scanpy/tools/_rank_genes_groups.py:422: RuntimeWarning: invalid value encountered in log2\n",
      "  self.stats[group_name, 'logfoldchanges'] = np.log2(\n",
      "/usr/local/anaconda3/lib/python3.9/site-packages/scanpy/tools/_rank_genes_groups.py:422: RuntimeWarning: invalid value encountered in log2\n",
      "  self.stats[group_name, 'logfoldchanges'] = np.log2(\n",
      "/usr/local/anaconda3/lib/python3.9/site-packages/scanpy/tools/_rank_genes_groups.py:422: RuntimeWarning: invalid value encountered in log2\n",
      "  self.stats[group_name, 'logfoldchanges'] = np.log2(\n",
      "/usr/local/anaconda3/lib/python3.9/site-packages/scanpy/tools/_rank_genes_groups.py:422: RuntimeWarning: invalid value encountered in log2\n",
      "  self.stats[group_name, 'logfoldchanges'] = np.log2(\n",
      "/usr/local/anaconda3/lib/python3.9/site-packages/scanpy/tools/_rank_genes_groups.py:422: RuntimeWarning: invalid value encountered in log2\n",
      "  self.stats[group_name, 'logfoldchanges'] = np.log2(\n",
      "/usr/local/anaconda3/lib/python3.9/site-packages/scanpy/tools/_rank_genes_groups.py:422: RuntimeWarning: invalid value encountered in log2\n",
      "  self.stats[group_name, 'logfoldchanges'] = np.log2(\n"
     ]
    }
   ],
   "source": [
    "## 1.find marker genes\n",
    "sc.tl.rank_genes_groups(adata_ref,groupby='cell.type',use_raw=False,method=\"wilcoxon\") #method='t-test','wilcoxon'\n",
    "# sc.pl.rank_genes_groups_matrixplot(adata,groupby='Pred_detail',values_to_plot='logfoldchanges',cmap='bwr')\n",
    "\n",
    "## 2.select top_n marker genes\n",
    "sc.tl.filter_rank_genes_groups(adata_ref,groupby=\"cell.type\",min_in_group_fraction=0.8,max_out_group_fraction=0.2) \n",
    "# sc.pl.rank_genes_groups_dotplot(adata, groupby=\"Pred_detail\", standard_scale=\"var\", n_genes=top_n_genes,cmap='bwr')"
   ]
  },
  {
   "cell_type": "code",
   "execution_count": 49,
   "id": "f0914cfa-d86d-421f-8812-f09456cd5b89",
   "metadata": {},
   "outputs": [
    {
     "name": "stderr",
     "output_type": "stream",
     "text": [
      "/tmp/ipykernel_4153746/3410864313.py:5: FutureWarning: The default of observed=False is deprecated and will be changed to True in a future version of pandas. Pass observed=False to retain current behavior or observed=True to adopt the future default and silence this warning.\n",
      "  markers = markers.groupby('group').head(1500).sort_values('group')['names'].unique()#用list来画图\n"
     ]
    }
   ],
   "source": [
    "markers=sc.get.rank_genes_groups_df(adata_ref, group=adata_ref.obs['cell.type'].unique())\n",
    "markers=markers.loc[~ markers.names.isna()]\n",
    "markers['abs_score']=markers.scores.abs()\n",
    "markers.sort_values('abs_score',ascending=False,inplace=True)\n",
    "markers = markers.groupby('group').head(1500).sort_values('group')['names'].unique()#用list来画图"
   ]
  },
  {
   "cell_type": "code",
   "execution_count": 50,
   "id": "e36509a9-5ecc-4c90-948b-be78e1c8b533",
   "metadata": {},
   "outputs": [
    {
     "data": {
      "text/plain": [
       "3440"
      ]
     },
     "execution_count": 50,
     "metadata": {},
     "output_type": "execute_result"
    }
   ],
   "source": [
    "len(markers)"
   ]
  },
  {
   "cell_type": "code",
   "execution_count": 51,
   "id": "afcbf234-3b98-4c6f-aff0-8a1d41f31dd8",
   "metadata": {},
   "outputs": [],
   "source": [
    "adata_ref = adata_ref[:,markers]\n",
    "adata_test = adata_test[:,markers]\n",
    "adata_ref.obs.rename(columns={'cellType': 'cell.type'}, inplace=True)\n",
    "adata_test.obs.rename(columns={'cellType': 'cell.type'}, inplace=True)"
   ]
  },
  {
   "cell_type": "code",
   "execution_count": 74,
   "id": "525089a3-56fd-46aa-9599-6fa25cff2c5a",
   "metadata": {},
   "outputs": [],
   "source": [
    "# adata_ref.obs['cell.type'] = adata_ref.obs['cell.type'].astype(str)\n",
    "# adata_test.obs['cell.type'] = adata_test.obs['cell.type'].astype(str)\n",
    "\n",
    "# adata_ref.write(f'/volume1/home/mhuang/cellTypeAbundance/data/FACS_CD8/FACS_CD8_train.h5ad')\n",
    "adata_test.write(f'/volume1/home/mhuang/cellTypeAbundance/data/FACS_CD8/FACS_CD8_test.h5ad')"
   ]
  },
  {
   "cell_type": "code",
   "execution_count": 76,
   "id": "c3363a2b-02c9-4950-a32f-b07cad9791b2",
   "metadata": {
    "collapsed": true,
    "jupyter": {
     "outputs_hidden": true
    },
    "tags": []
   },
   "outputs": [
    {
     "data": {
      "text/plain": [
       "G_ACTAAAACCTTCTA-1-0    Naive Cytotoxic T cells\n",
       "G_CATTTGACTCAGAC-1-0    Naive Cytotoxic T cells\n",
       "G_TTACGTACCTGCTC-1-0    Naive Cytotoxic T cells\n",
       "G_CTACCTCTCGACTA-1-0    Naive Cytotoxic T cells\n",
       "G_ACGACCCTCATCAG-1-0    Naive Cytotoxic T cells\n",
       "                                 ...           \n",
       "H_TACTCCCTCATTGG-1-0              Naive T cells\n",
       "H_AAGCCATGTTCGCC-1-0              Naive T cells\n",
       "H_TAGCATCTTGACTG-1-0              Naive T cells\n",
       "H_GCGGGACTAAGATG-1-0              Naive T cells\n",
       "H_GACGCCGACCTGAA-1-0              Naive T cells\n",
       "Name: cell.type, Length: 3999, dtype: category\n",
       "Categories (9, object): ['B cells', 'CD4 T cells', 'CD14+ Monocytes', 'CD56 NK cells', ..., 'Memory T cells', 'Naive Cytotoxic T cells', 'Naive T cells', 'Regulatory T cells']"
      ]
     },
     "execution_count": 76,
     "metadata": {},
     "output_type": "execute_result"
    }
   ],
   "source": [
    "adata_test.obs['cell.type']"
   ]
  },
  {
   "cell_type": "markdown",
   "id": "883892cf-7b37-4a40-a93a-802862940b5a",
   "metadata": {
    "jp-MarkdownHeadingCollapsed": true,
    "tags": []
   },
   "source": [
    "### 2.pbmc_facs"
   ]
  },
  {
   "cell_type": "code",
   "execution_count": 52,
   "id": "bf1a5776-880f-4d2c-b3cd-e86d319cf308",
   "metadata": {
    "tags": []
   },
   "outputs": [
    {
     "name": "stderr",
     "output_type": "stream",
     "text": [
      "/usr/local/anaconda3/lib/python3.9/site-packages/anndata/__init__.py:51: FutureWarning: `anndata.read` is deprecated, use `anndata.read_h5ad` instead. `ad.read` will be removed in mid 2024.\n",
      "  warnings.warn(\n",
      "/usr/local/anaconda3/lib/python3.9/site-packages/anndata/__init__.py:51: FutureWarning: `anndata.read` is deprecated, use `anndata.read_h5ad` instead. `ad.read` will be removed in mid 2024.\n",
      "  warnings.warn(\n",
      "/usr/local/anaconda3/lib/python3.9/site-packages/anndata/__init__.py:51: FutureWarning: `anndata.read` is deprecated, use `anndata.read_h5ad` instead. `ad.read` will be removed in mid 2024.\n",
      "  warnings.warn(\n",
      "/tmp/ipykernel_4072521/1296860975.py:5: FutureWarning: Use anndata.concat instead of AnnData.concatenate, AnnData.concatenate is deprecated and will be removed in the future. See the tutorial for concat at: https://anndata.readthedocs.io/en/latest/concatenation.html\n",
      "  adata_ref = adata_a.concatenate([adata_b,adata_c], batch_key=\"batch\")\n",
      "/usr/local/anaconda3/lib/python3.9/site-packages/anndata/__init__.py:51: FutureWarning: `anndata.read` is deprecated, use `anndata.read_h5ad` instead. `ad.read` will be removed in mid 2024.\n",
      "  warnings.warn(\n",
      "/tmp/ipykernel_4072521/1296860975.py:11: FutureWarning: Use anndata.concat instead of AnnData.concatenate, AnnData.concatenate is deprecated and will be removed in the future. See the tutorial for concat at: https://anndata.readthedocs.io/en/latest/concatenation.html\n",
      "  adata = adata_ref.concatenate(adata_test, batch_key=\"dataset_type\")\n"
     ]
    }
   ],
   "source": [
    "#pbmc_Facs\n",
    "adata_a = sc.read(\"/volume3/kxu/scdata/PBMC_zheng/PBMCA.h5ad\")\n",
    "adata_b = sc.read(\"/volume3/kxu/scdata/PBMC_zheng/PBMCB.h5ad\")\n",
    "adata_c = sc.read(\"/volume3/kxu/scdata/PBMC_zheng/PBMCC.h5ad\")\n",
    "adata_ref = adata_a.concatenate([adata_b,adata_c], batch_key=\"batch\")\n",
    "#kn的数据是已经筛选过了的\n",
    "\n",
    "#facs_cd8\n",
    "adata_test = sc.read(\"/volume1/home/mhuang/cellTypeAbundance/data/FACS_CD8/test_adata_1.h5ad\")\n",
    "\n",
    "adata = adata_ref.concatenate(adata_test, batch_key=\"dataset_type\")"
   ]
  },
  {
   "cell_type": "code",
   "execution_count": 26,
   "id": "e1e248f2-dd70-457e-8321-28ce9ad337d6",
   "metadata": {},
   "outputs": [
    {
     "name": "stderr",
     "output_type": "stream",
     "text": [
      "/usr/local/anaconda3/lib/python3.9/site-packages/scanpy/tools/_rank_genes_groups.py:582: ImplicitModificationWarning: Trying to modify attribute `._uns` of view, initializing view as actual.\n",
      "  adata.uns[key_added] = {}\n",
      "/usr/local/anaconda3/lib/python3.9/site-packages/numpy/core/fromnumeric.py:86: FutureWarning: The behavior of DataFrame.sum with axis=None is deprecated, in a future version this will reduce over both axes and return a scalar. To retain the old behavior, pass axis=0 (or do not pass axis)\n",
      "  return reduction(axis=axis, out=out, **passkwargs)\n",
      "/usr/local/anaconda3/lib/python3.9/site-packages/scanpy/tools/_rank_genes_groups.py:422: RuntimeWarning: invalid value encountered in log2\n",
      "  self.stats[group_name, 'logfoldchanges'] = np.log2(\n",
      "/usr/local/anaconda3/lib/python3.9/site-packages/scanpy/tools/_rank_genes_groups.py:422: RuntimeWarning: invalid value encountered in log2\n",
      "  self.stats[group_name, 'logfoldchanges'] = np.log2(\n",
      "/usr/local/anaconda3/lib/python3.9/site-packages/scanpy/tools/_rank_genes_groups.py:422: RuntimeWarning: invalid value encountered in log2\n",
      "  self.stats[group_name, 'logfoldchanges'] = np.log2(\n",
      "/usr/local/anaconda3/lib/python3.9/site-packages/scanpy/tools/_rank_genes_groups.py:422: RuntimeWarning: invalid value encountered in log2\n",
      "  self.stats[group_name, 'logfoldchanges'] = np.log2(\n",
      "/usr/local/anaconda3/lib/python3.9/site-packages/scanpy/tools/_rank_genes_groups.py:422: RuntimeWarning: invalid value encountered in log2\n",
      "  self.stats[group_name, 'logfoldchanges'] = np.log2(\n",
      "/usr/local/anaconda3/lib/python3.9/site-packages/scanpy/tools/_rank_genes_groups.py:422: RuntimeWarning: invalid value encountered in log2\n",
      "  self.stats[group_name, 'logfoldchanges'] = np.log2(\n",
      "/usr/local/anaconda3/lib/python3.9/site-packages/scanpy/tools/_rank_genes_groups.py:422: RuntimeWarning: invalid value encountered in log2\n",
      "  self.stats[group_name, 'logfoldchanges'] = np.log2(\n",
      "/usr/local/anaconda3/lib/python3.9/site-packages/scanpy/tools/_rank_genes_groups.py:422: RuntimeWarning: invalid value encountered in log2\n",
      "  self.stats[group_name, 'logfoldchanges'] = np.log2(\n"
     ]
    }
   ],
   "source": [
    "# preprocess\n",
    "sc.pp.filter_cells(adata, min_genes=200)\n",
    "sc.pp.filter_genes(adata, min_cells=3)\n",
    "\n",
    "sc.pp.normalize_total(adata,target_sum=1e4)\n",
    "sc.pp.log1p(adata)\n",
    "# sc.pp.highly_variable_genes(adata, min_mean=0.0125, max_mean=3, min_disp=0.5)\n",
    "# adata = adata[:, adata.var.highly_variable]\n",
    "\n",
    "sc.pp.scale(adata)\n",
    "\n",
    "adata.var_names_make_unique()\n",
    "adata.obs_names_make_unique()\n",
    "\n",
    "adata_ref = adata[adata.obs['dataset_type']=='0']\n",
    "adata_test = adata[adata.obs['dataset_type']=='1']\n",
    "\n",
    "sc.tl.rank_genes_groups(adata_ref,groupby='cell.type',use_raw=False,method=\"wilcoxon\") #method='t-test','wilcoxon'\n",
    "sc.tl.filter_rank_genes_groups(adata_ref,groupby=\"cell.type\",min_in_group_fraction=0.8,max_out_group_fraction=0.2) \n",
    "\n",
    "markers=sc.get.rank_genes_groups_df(adata_ref, group=adata_ref.obs['cell.type'].unique())\n",
    "markers=markers.loc[~ markers.names.isna()]\n",
    "markers['abs_score']=markers.scores.abs()\n",
    "markers.sort_values('abs_score',ascending=False,inplace=True)"
   ]
  },
  {
   "cell_type": "code",
   "execution_count": 27,
   "id": "9a304bd0-8067-46ea-9c5b-507119a6795b",
   "metadata": {},
   "outputs": [
    {
     "name": "stderr",
     "output_type": "stream",
     "text": [
      "/tmp/ipykernel_4072521/2031888245.py:1: FutureWarning: The default of observed=False is deprecated and will be changed to True in a future version of pandas. Pass observed=False to retain current behavior or observed=True to adopt the future default and silence this warning.\n",
      "  markers = markers.groupby('group').head(1500).sort_values('group')['names'].unique()\n"
     ]
    },
    {
     "data": {
      "text/plain": [
       "3390"
      ]
     },
     "execution_count": 27,
     "metadata": {},
     "output_type": "execute_result"
    }
   ],
   "source": [
    "markers = markers.groupby('group').head(1500).sort_values('group')['names'].unique()\n",
    "len(markers)"
   ]
  },
  {
   "cell_type": "code",
   "execution_count": 28,
   "id": "88a3429e-af5b-4c2c-bd69-92af0e47f105",
   "metadata": {},
   "outputs": [],
   "source": [
    "adata_ref = adata_ref[:,markers]\n",
    "adata_test = adata_test[:,markers]\n",
    "adata_ref.obs.rename(columns={'cellType': 'cell.type'}, inplace=True)\n",
    "adata_test.obs.rename(columns={'cellType': 'cell.type'}, inplace=True)"
   ]
  },
  {
   "cell_type": "code",
   "execution_count": 31,
   "id": "746357b2-c06b-45ba-96cc-064d5f6cfa48",
   "metadata": {},
   "outputs": [],
   "source": [
    "# adata_ref.obs['cell.type'] = adata_ref.obs['cell.type'].astype(str)\n",
    "# adata_test.obs['cell.type'] = adata_test.obs['cell.type'].astype(str)\n",
    "\n",
    "# adata_ref.write(f'/volume1/home/mhuang/cellTypeAbundance/data/cross_batch/PBMC_FACS_train.h5ad')\n",
    "adata_test.write(f'/volume1/home/mhuang/cellTypeAbundance/data/cross_batch/FACS_CD8_test.h5ad')"
   ]
  },
  {
   "cell_type": "code",
   "execution_count": null,
   "id": "33dc0e1c-8e61-46ae-898c-50ad675ed5f1",
   "metadata": {},
   "outputs": [],
   "source": [
    "## 我突然发现自己写错了，上面的是PBMC_Batch而不是PBMC_FACS数据集；从而虽然她们的基因名完全相等，\n",
    "## 但是她们的细胞类型对不上的"
   ]
  },
  {
   "cell_type": "code",
   "execution_count": 40,
   "id": "415e1dfa-aef4-486d-b6d8-37585bf0235a",
   "metadata": {
    "tags": []
   },
   "outputs": [
    {
     "name": "stderr",
     "output_type": "stream",
     "text": [
      "/usr/local/anaconda3/lib/python3.9/site-packages/anndata/__init__.py:51: FutureWarning: `anndata.read` is deprecated, use `anndata.read_h5ad` instead. `ad.read` will be removed in mid 2024.\n",
      "  warnings.warn(\n",
      "/usr/local/anaconda3/lib/python3.9/site-packages/anndata/_core/anndata.py:1897: UserWarning: Observation names are not unique. To make them unique, call `.obs_names_make_unique`.\n",
      "  utils.warn_names_duplicates(\"obs\")\n",
      "/usr/local/anaconda3/lib/python3.9/site-packages/anndata/__init__.py:51: FutureWarning: `anndata.read` is deprecated, use `anndata.read_h5ad` instead. `ad.read` will be removed in mid 2024.\n",
      "  warnings.warn(\n"
     ]
    }
   ],
   "source": [
    "#pbmc_facs\n",
    "adata_ref=sc.read(\"/volume1/home/kliu/Others/cellTypeAbundance/data/PBMC_FACS/process_train.h5ad\")\n",
    "#这个是已经预处理过的\n",
    "\n",
    "#facs_cd8\n",
    "adata_test = sc.read(\"/volume1/home/mhuang/cellTypeAbundance/data/FACS_CD8/test_adata_1.h5ad\")"
   ]
  },
  {
   "cell_type": "code",
   "execution_count": 41,
   "id": "92356a48-d8df-4302-9729-fb979153e932",
   "metadata": {},
   "outputs": [],
   "source": [
    "hvgs = adata_ref.var.index\n"
   ]
  },
  {
   "cell_type": "code",
   "execution_count": 42,
   "id": "5ee96e5b-78f1-45f8-bd7d-161b44c2d622",
   "metadata": {},
   "outputs": [],
   "source": [
    "adata_test=adata_test[:,hvgs]\n"
   ]
  },
  {
   "cell_type": "code",
   "execution_count": 43,
   "id": "81a81732-b1db-4933-830b-6c2e9f67f3f8",
   "metadata": {},
   "outputs": [
    {
     "name": "stderr",
     "output_type": "stream",
     "text": [
      "/usr/local/anaconda3/lib/python3.9/site-packages/scanpy/preprocessing/_normalization.py:169: UserWarning: Received a view of an AnnData. Making a copy.\n",
      "  view_to_actual(adata)\n"
     ]
    }
   ],
   "source": [
    "# preprocess\n",
    "# sc.pp.filter_cells(adata_test, min_genes=200)\n",
    "# sc.pp.filter_genes(adata_test, min_cells=3)\n",
    "\n",
    "sc.pp.normalize_total(adata_test,target_sum=1e4)\n",
    "sc.pp.log1p(adata_test)\n",
    "# sc.pp.highly_variable_genes(adata, min_mean=0.0125, max_mean=3, min_disp=0.5)\n",
    "# adata = adata[:, adata.var.highly_variable]\n",
    "\n",
    "sc.pp.scale(adata_test)\n",
    "\n",
    "adata_test.var_names_make_unique()\n",
    "adata_test.obs_names_make_unique()\n"
   ]
  },
  {
   "cell_type": "code",
   "execution_count": 44,
   "id": "e3b6a750-b07b-48a2-8013-af3640d47f83",
   "metadata": {},
   "outputs": [
    {
     "data": {
      "text/plain": [
       "AnnData object with n_obs × n_vars = 4000 × 3000\n",
       "    obs: 'barcode', 'cell.type', 'batch'\n",
       "    var: 'gene_symbols', 'mean', 'std'\n",
       "    uns: 'log1p'"
      ]
     },
     "execution_count": 44,
     "metadata": {},
     "output_type": "execute_result"
    }
   ],
   "source": [
    "adata_test"
   ]
  },
  {
   "cell_type": "code",
   "execution_count": 45,
   "id": "2a76ee23-8262-4fe0-8866-f066247d25ac",
   "metadata": {},
   "outputs": [],
   "source": [
    "adata_test.write(f'/volume1/home/mhuang/cellTypeAbundance/data/cross_batch/FACS_CD8_test.h5ad')\n"
   ]
  },
  {
   "cell_type": "markdown",
   "id": "6e4aeeae-57ee-467a-becc-ce89a866262a",
   "metadata": {},
   "source": [
    "## run PropDEC"
   ]
  },
  {
   "cell_type": "markdown",
   "id": "e031c415-c1f7-4115-83aa-6adef76fa669",
   "metadata": {
    "jp-MarkdownHeadingCollapsed": true,
    "tags": []
   },
   "source": [
    "### 1.FACS_CD8\n",
    "all = healthy ,  train:test = 0.7*all : 0.3*all"
   ]
  },
  {
   "cell_type": "code",
   "execution_count": 2,
   "id": "61163d25-8028-4925-8c97-4438c6f51294",
   "metadata": {},
   "outputs": [],
   "source": [
    "from propDEC_end2end import propDEC\n",
    "import scanpy as sc\n",
    "import matplotlib.pyplot as plt"
   ]
  },
  {
   "cell_type": "code",
   "execution_count": 3,
   "id": "899493c5-d121-4447-9ae3-24ae1647e61c",
   "metadata": {},
   "outputs": [
    {
     "name": "stderr",
     "output_type": "stream",
     "text": [
      "/usr/local/anaconda3/lib/python3.9/site-packages/anndata/__init__.py:51: FutureWarning: `anndata.read` is deprecated, use `anndata.read_h5ad` instead. `ad.read` will be removed in mid 2024.\n",
      "  warnings.warn(\n",
      "/usr/local/anaconda3/lib/python3.9/site-packages/anndata/__init__.py:51: FutureWarning: `anndata.read` is deprecated, use `anndata.read_h5ad` instead. `ad.read` will be removed in mid 2024.\n",
      "  warnings.warn(\n"
     ]
    }
   ],
   "source": [
    "# create dataset\n",
    "pipeline = propDEC(input_size=3440, num_classes=9, metric=\"t-sne\", mode=\"soft\")#soft/hard/km\n",
    "\n",
    "train_dataset = pipeline.create_dataset(\"FACS_CD8\", \"FACS_CD8_train.h5ad\", mode=\"train\")\n",
    "test_dataset = pipeline.create_dataset(\"FACS_CD8\", \"FACS_CD8_test.h5ad\", mode=\"test\")\n",
    "\n",
    "ref_adata = train_dataset.train_adata\n",
    "test_adata = test_dataset.test_adata"
   ]
  },
  {
   "cell_type": "code",
   "execution_count": 4,
   "id": "7765487a-8765-4655-ad2c-a704ca5cc2d9",
   "metadata": {
    "collapsed": true,
    "jupyter": {
     "outputs_hidden": true
    },
    "tags": []
   },
   "outputs": [
    {
     "name": "stderr",
     "output_type": "stream",
     "text": [
      "                                                                            \r"
     ]
    },
    {
     "name": "stdout",
     "output_type": "stream",
     "text": [
      "==> Saving Checkpoints\n",
      "==> Finish training !\n"
     ]
    },
    {
     "name": "stderr",
     "output_type": "stream",
     "text": [
      "                                                                           \r"
     ]
    },
    {
     "name": "stdout",
     "output_type": "stream",
     "text": [
      "==> Saving Checkpoints\n",
      "Got 3716 / 3999 with accuracy' 92.92%\n",
      "==> resample\n"
     ]
    },
    {
     "name": "stderr",
     "output_type": "stream",
     "text": [
      "/volume1/home/mhuang/cellTypeAbundance/src/test/utils.py:90: FutureWarning: Series.__getitem__ treating keys as positions is deprecated. In a future version, integer keys will always be treated as labels (consistent with DataFrame behavior). To access a value by position, use `ser.iloc[pos]`\n",
      "  cell_num = int(counts[index])\n",
      "/usr/local/anaconda3/lib/python3.9/site-packages/anndata/_core/anndata.py:1897: UserWarning: Observation names are not unique. To make them unique, call `.obs_names_make_unique`.\n",
      "  utils.warn_names_duplicates(\"obs\")\n",
      "/usr/local/anaconda3/lib/python3.9/site-packages/anndata/utils.py:260: UserWarning: Suffix used (-[0-9]+) to deduplicate index values may make index values difficult to interpret. There values with a similar suffixes in the index. Consider using a different delimiter by passing `join={delimiter}`Example key collisions generated by the make_index_unique algorithm: ['C_TTGAACCTTGGTGT-1-1-1', 'C_CTATTGACGCCATA-1-1-1', 'C_TAGTTAGATATGCG-1-1-1', 'C_AAGGTGCTGGAGCA-1-1-1', 'C_GAAGTGCTTCTCAT-1-1-1']\n",
      "  warnings.warn(\n"
     ]
    },
    {
     "name": "stdout",
     "output_type": "stream",
     "text": [
      "==> Write the resample annotated data to cache\n",
      "==> Write the reweighted data to cache\n"
     ]
    },
    {
     "name": "stderr",
     "output_type": "stream",
     "text": [
      "/usr/local/anaconda3/lib/python3.9/site-packages/anndata/__init__.py:51: FutureWarning: `anndata.read` is deprecated, use `anndata.read_h5ad` instead. `ad.read` will be removed in mid 2024.\n",
      "  warnings.warn(\n"
     ]
    },
    {
     "name": "stdout",
     "output_type": "stream",
     "text": [
      "==> Loading Checkpoints\n"
     ]
    },
    {
     "name": "stderr",
     "output_type": "stream",
     "text": [
      "                                                                            \r"
     ]
    },
    {
     "name": "stdout",
     "output_type": "stream",
     "text": [
      "==> Saving Checkpoints\n",
      "Got 3760 / 3999 with accuracy' 94.02%\n",
      "==> resample\n"
     ]
    },
    {
     "name": "stderr",
     "output_type": "stream",
     "text": [
      "/volume1/home/mhuang/cellTypeAbundance/src/test/utils.py:90: FutureWarning: Series.__getitem__ treating keys as positions is deprecated. In a future version, integer keys will always be treated as labels (consistent with DataFrame behavior). To access a value by position, use `ser.iloc[pos]`\n",
      "  cell_num = int(counts[index])\n",
      "/usr/local/anaconda3/lib/python3.9/site-packages/anndata/_core/anndata.py:1897: UserWarning: Observation names are not unique. To make them unique, call `.obs_names_make_unique`.\n",
      "  utils.warn_names_duplicates(\"obs\")\n",
      "/usr/local/anaconda3/lib/python3.9/site-packages/anndata/utils.py:260: UserWarning: Suffix used (-[0-9]+) to deduplicate index values may make index values difficult to interpret. There values with a similar suffixes in the index. Consider using a different delimiter by passing `join={delimiter}`Example key collisions generated by the make_index_unique algorithm: ['C_TTGAACCTTGGTGT-1-1-1', 'C_CTATTGACGCCATA-1-1-1', 'C_TAGTTAGATATGCG-1-1-1', 'C_AAGGTGCTGGAGCA-1-1-1', 'C_GAAGTGCTTCTCAT-1-1-1']\n",
      "  warnings.warn(\n"
     ]
    },
    {
     "name": "stdout",
     "output_type": "stream",
     "text": [
      "==> Write the resample annotated data to cache\n",
      "==> Write the reweighted data to cache\n"
     ]
    },
    {
     "name": "stderr",
     "output_type": "stream",
     "text": [
      "/usr/local/anaconda3/lib/python3.9/site-packages/anndata/__init__.py:51: FutureWarning: `anndata.read` is deprecated, use `anndata.read_h5ad` instead. `ad.read` will be removed in mid 2024.\n",
      "  warnings.warn(\n"
     ]
    },
    {
     "name": "stdout",
     "output_type": "stream",
     "text": [
      "==> Loading Checkpoints\n"
     ]
    },
    {
     "name": "stderr",
     "output_type": "stream",
     "text": [
      "                                                                            \r"
     ]
    },
    {
     "name": "stdout",
     "output_type": "stream",
     "text": [
      "==> Saving Checkpoints\n",
      "Got 3758 / 3999 with accuracy' 93.97%\n",
      "==> resample\n"
     ]
    },
    {
     "name": "stderr",
     "output_type": "stream",
     "text": [
      "/volume1/home/mhuang/cellTypeAbundance/src/test/utils.py:90: FutureWarning: Series.__getitem__ treating keys as positions is deprecated. In a future version, integer keys will always be treated as labels (consistent with DataFrame behavior). To access a value by position, use `ser.iloc[pos]`\n",
      "  cell_num = int(counts[index])\n",
      "/usr/local/anaconda3/lib/python3.9/site-packages/anndata/_core/anndata.py:1897: UserWarning: Observation names are not unique. To make them unique, call `.obs_names_make_unique`.\n",
      "  utils.warn_names_duplicates(\"obs\")\n",
      "/usr/local/anaconda3/lib/python3.9/site-packages/anndata/utils.py:260: UserWarning: Suffix used (-[0-9]+) to deduplicate index values may make index values difficult to interpret. There values with a similar suffixes in the index. Consider using a different delimiter by passing `join={delimiter}`Example key collisions generated by the make_index_unique algorithm: ['C_TTGAACCTTGGTGT-1-1-1', 'C_CTATTGACGCCATA-1-1-1', 'C_TAGTTAGATATGCG-1-1-1', 'C_AAGGTGCTGGAGCA-1-1-1', 'C_GAAGTGCTTCTCAT-1-1-1']\n",
      "  warnings.warn(\n"
     ]
    },
    {
     "name": "stdout",
     "output_type": "stream",
     "text": [
      "==> Write the resample annotated data to cache\n",
      "==> Write the reweighted data to cache\n"
     ]
    },
    {
     "name": "stderr",
     "output_type": "stream",
     "text": [
      "/usr/local/anaconda3/lib/python3.9/site-packages/anndata/__init__.py:51: FutureWarning: `anndata.read` is deprecated, use `anndata.read_h5ad` instead. `ad.read` will be removed in mid 2024.\n",
      "  warnings.warn(\n"
     ]
    },
    {
     "name": "stdout",
     "output_type": "stream",
     "text": [
      "==> Loading Checkpoints\n"
     ]
    },
    {
     "name": "stderr",
     "output_type": "stream",
     "text": [
      "                                                                             \r"
     ]
    },
    {
     "name": "stdout",
     "output_type": "stream",
     "text": [
      "==> Saving Checkpoints\n",
      "Got 3745 / 3999 with accuracy' 93.65%\n",
      "==> resample\n"
     ]
    },
    {
     "name": "stderr",
     "output_type": "stream",
     "text": [
      "/volume1/home/mhuang/cellTypeAbundance/src/test/utils.py:90: FutureWarning: Series.__getitem__ treating keys as positions is deprecated. In a future version, integer keys will always be treated as labels (consistent with DataFrame behavior). To access a value by position, use `ser.iloc[pos]`\n",
      "  cell_num = int(counts[index])\n",
      "/usr/local/anaconda3/lib/python3.9/site-packages/anndata/_core/anndata.py:1897: UserWarning: Observation names are not unique. To make them unique, call `.obs_names_make_unique`.\n",
      "  utils.warn_names_duplicates(\"obs\")\n",
      "/usr/local/anaconda3/lib/python3.9/site-packages/anndata/utils.py:260: UserWarning: Suffix used (-[0-9]+) to deduplicate index values may make index values difficult to interpret. There values with a similar suffixes in the index. Consider using a different delimiter by passing `join={delimiter}`Example key collisions generated by the make_index_unique algorithm: ['C_CTATTGACGCCATA-1-1-1', 'C_AAGGTGCTGGAGCA-1-1-1', 'C_GAAGTGCTTCTCAT-1-1-1', 'C_TAGTTAGATATGCG-1-1-1', 'C_TTGAACCTTGGTGT-1-1-1']\n",
      "  warnings.warn(\n"
     ]
    },
    {
     "name": "stdout",
     "output_type": "stream",
     "text": [
      "==> Write the resample annotated data to cache\n",
      "==> Write the reweighted data to cache\n"
     ]
    },
    {
     "name": "stderr",
     "output_type": "stream",
     "text": [
      "/usr/local/anaconda3/lib/python3.9/site-packages/anndata/__init__.py:51: FutureWarning: `anndata.read` is deprecated, use `anndata.read_h5ad` instead. `ad.read` will be removed in mid 2024.\n",
      "  warnings.warn(\n"
     ]
    },
    {
     "name": "stdout",
     "output_type": "stream",
     "text": [
      "==> Loading Checkpoints\n"
     ]
    },
    {
     "name": "stderr",
     "output_type": "stream",
     "text": [
      "                                                                             \r"
     ]
    },
    {
     "name": "stdout",
     "output_type": "stream",
     "text": [
      "==> Saving Checkpoints\n",
      "Got 3760 / 3999 with accuracy' 94.02%\n",
      "==> resample\n"
     ]
    },
    {
     "name": "stderr",
     "output_type": "stream",
     "text": [
      "/volume1/home/mhuang/cellTypeAbundance/src/test/utils.py:90: FutureWarning: Series.__getitem__ treating keys as positions is deprecated. In a future version, integer keys will always be treated as labels (consistent with DataFrame behavior). To access a value by position, use `ser.iloc[pos]`\n",
      "  cell_num = int(counts[index])\n",
      "/usr/local/anaconda3/lib/python3.9/site-packages/anndata/_core/anndata.py:1897: UserWarning: Observation names are not unique. To make them unique, call `.obs_names_make_unique`.\n",
      "  utils.warn_names_duplicates(\"obs\")\n",
      "/usr/local/anaconda3/lib/python3.9/site-packages/anndata/utils.py:260: UserWarning: Suffix used (-[0-9]+) to deduplicate index values may make index values difficult to interpret. There values with a similar suffixes in the index. Consider using a different delimiter by passing `join={delimiter}`Example key collisions generated by the make_index_unique algorithm: ['C_TTGAACCTTGGTGT-1-1-1', 'C_CTATTGACGCCATA-1-1-1', 'C_TAGTTAGATATGCG-1-1-1', 'C_AAGGTGCTGGAGCA-1-1-1', 'C_GAAGTGCTTCTCAT-1-1-1']\n",
      "  warnings.warn(\n"
     ]
    },
    {
     "name": "stdout",
     "output_type": "stream",
     "text": [
      "==> Write the resample annotated data to cache\n",
      "==> Write the reweighted data to cache\n",
      "==> Finish!\n"
     ]
    },
    {
     "name": "stderr",
     "output_type": "stream",
     "text": [
      "/volume1/home/mhuang/cellTypeAbundance/src/test/propDEC_end2end.py:195: FutureWarning: The default of observed=False is deprecated and will be changed to True in a future version of pandas. Pass observed=False to retain current behavior or observed=True to adopt the future default and silence this warning.\n",
      "  ground_truth = self.test_adata.obs.groupby('cell.type').count()/len(self.test_adata)\n"
     ]
    }
   ],
   "source": [
    "scores, proportion, f1scores, precision, recall = pipeline(epochs=5)"
   ]
  },
  {
   "cell_type": "code",
   "execution_count": 5,
   "id": "334b3a66-65f6-414e-b571-0da9ad4dbff3",
   "metadata": {},
   "outputs": [
    {
     "data": {
      "text/html": [
       "<div>\n",
       "<style scoped>\n",
       "    .dataframe tbody tr th:only-of-type {\n",
       "        vertical-align: middle;\n",
       "    }\n",
       "\n",
       "    .dataframe tbody tr th {\n",
       "        vertical-align: top;\n",
       "    }\n",
       "\n",
       "    .dataframe thead th {\n",
       "        text-align: right;\n",
       "    }\n",
       "</style>\n",
       "<table border=\"1\" class=\"dataframe\">\n",
       "  <thead>\n",
       "    <tr style=\"text-align: right;\">\n",
       "      <th></th>\n",
       "      <th>ref</th>\n",
       "      <th>predict_1</th>\n",
       "      <th>predict_2</th>\n",
       "      <th>predict_3</th>\n",
       "      <th>predict_4</th>\n",
       "      <th>predict_5</th>\n",
       "      <th>Ground_truth</th>\n",
       "    </tr>\n",
       "  </thead>\n",
       "  <tbody>\n",
       "    <tr>\n",
       "      <th>B cells</th>\n",
       "      <td>0.300237</td>\n",
       "      <td>0.2996</td>\n",
       "      <td>0.3000</td>\n",
       "      <td>0.2999</td>\n",
       "      <td>0.3004</td>\n",
       "      <td>0.2999</td>\n",
       "      <td>0.300075</td>\n",
       "    </tr>\n",
       "    <tr>\n",
       "      <th>CD4 T cells</th>\n",
       "      <td>0.020018</td>\n",
       "      <td>0.0143</td>\n",
       "      <td>0.0234</td>\n",
       "      <td>0.0155</td>\n",
       "      <td>0.0163</td>\n",
       "      <td>0.0151</td>\n",
       "      <td>0.020005</td>\n",
       "    </tr>\n",
       "    <tr>\n",
       "      <th>CD14+ Monocytes</th>\n",
       "      <td>0.100090</td>\n",
       "      <td>0.0992</td>\n",
       "      <td>0.0989</td>\n",
       "      <td>0.0990</td>\n",
       "      <td>0.0992</td>\n",
       "      <td>0.0988</td>\n",
       "      <td>0.100025</td>\n",
       "    </tr>\n",
       "    <tr>\n",
       "      <th>CD56 NK cells</th>\n",
       "      <td>0.020018</td>\n",
       "      <td>0.0202</td>\n",
       "      <td>0.0208</td>\n",
       "      <td>0.0204</td>\n",
       "      <td>0.0201</td>\n",
       "      <td>0.0209</td>\n",
       "      <td>0.020005</td>\n",
       "    </tr>\n",
       "    <tr>\n",
       "      <th>Cytotoxic T cells</th>\n",
       "      <td>0.100090</td>\n",
       "      <td>0.3574</td>\n",
       "      <td>0.3765</td>\n",
       "      <td>0.3795</td>\n",
       "      <td>0.3683</td>\n",
       "      <td>0.3701</td>\n",
       "      <td>0.400100</td>\n",
       "    </tr>\n",
       "    <tr>\n",
       "      <th>Memory T cells</th>\n",
       "      <td>0.020018</td>\n",
       "      <td>0.0164</td>\n",
       "      <td>0.0178</td>\n",
       "      <td>0.0183</td>\n",
       "      <td>0.0170</td>\n",
       "      <td>0.0179</td>\n",
       "      <td>0.020005</td>\n",
       "    </tr>\n",
       "    <tr>\n",
       "      <th>Naive Cytotoxic T cells</th>\n",
       "      <td>0.399560</td>\n",
       "      <td>0.1500</td>\n",
       "      <td>0.1269</td>\n",
       "      <td>0.1279</td>\n",
       "      <td>0.1357</td>\n",
       "      <td>0.1336</td>\n",
       "      <td>0.099775</td>\n",
       "    </tr>\n",
       "    <tr>\n",
       "      <th>Naive T cells</th>\n",
       "      <td>0.019985</td>\n",
       "      <td>0.0234</td>\n",
       "      <td>0.0180</td>\n",
       "      <td>0.0212</td>\n",
       "      <td>0.0239</td>\n",
       "      <td>0.0229</td>\n",
       "      <td>0.020005</td>\n",
       "    </tr>\n",
       "    <tr>\n",
       "      <th>Regulatory T cells</th>\n",
       "      <td>0.019985</td>\n",
       "      <td>0.0194</td>\n",
       "      <td>0.0177</td>\n",
       "      <td>0.0185</td>\n",
       "      <td>0.0190</td>\n",
       "      <td>0.0209</td>\n",
       "      <td>0.020005</td>\n",
       "    </tr>\n",
       "  </tbody>\n",
       "</table>\n",
       "</div>"
      ],
      "text/plain": [
       "                              ref  predict_1  predict_2  predict_3  predict_4  \\\n",
       "B cells                  0.300237     0.2996     0.3000     0.2999     0.3004   \n",
       "CD4 T cells              0.020018     0.0143     0.0234     0.0155     0.0163   \n",
       "CD14+ Monocytes          0.100090     0.0992     0.0989     0.0990     0.0992   \n",
       "CD56 NK cells            0.020018     0.0202     0.0208     0.0204     0.0201   \n",
       "Cytotoxic T cells        0.100090     0.3574     0.3765     0.3795     0.3683   \n",
       "Memory T cells           0.020018     0.0164     0.0178     0.0183     0.0170   \n",
       "Naive Cytotoxic T cells  0.399560     0.1500     0.1269     0.1279     0.1357   \n",
       "Naive T cells            0.019985     0.0234     0.0180     0.0212     0.0239   \n",
       "Regulatory T cells       0.019985     0.0194     0.0177     0.0185     0.0190   \n",
       "\n",
       "                         predict_5  Ground_truth  \n",
       "B cells                     0.2999      0.300075  \n",
       "CD4 T cells                 0.0151      0.020005  \n",
       "CD14+ Monocytes             0.0988      0.100025  \n",
       "CD56 NK cells               0.0209      0.020005  \n",
       "Cytotoxic T cells           0.3701      0.400100  \n",
       "Memory T cells              0.0179      0.020005  \n",
       "Naive Cytotoxic T cells     0.1336      0.099775  \n",
       "Naive T cells               0.0229      0.020005  \n",
       "Regulatory T cells          0.0209      0.020005  "
      ]
     },
     "execution_count": 5,
     "metadata": {},
     "output_type": "execute_result"
    }
   ],
   "source": [
    "proportion"
   ]
  },
  {
   "cell_type": "code",
   "execution_count": 6,
   "id": "9a85e1b5-0147-47dc-8208-b05d1db73368",
   "metadata": {},
   "outputs": [
    {
     "data": {
      "text/html": [
       "<div>\n",
       "<style scoped>\n",
       "    .dataframe tbody tr th:only-of-type {\n",
       "        vertical-align: middle;\n",
       "    }\n",
       "\n",
       "    .dataframe tbody tr th {\n",
       "        vertical-align: top;\n",
       "    }\n",
       "\n",
       "    .dataframe thead th {\n",
       "        text-align: right;\n",
       "    }\n",
       "</style>\n",
       "<table border=\"1\" class=\"dataframe\">\n",
       "  <thead>\n",
       "    <tr style=\"text-align: right;\">\n",
       "      <th></th>\n",
       "      <th>predict_1</th>\n",
       "      <th>predict_2</th>\n",
       "      <th>predict_3</th>\n",
       "      <th>predict_4</th>\n",
       "      <th>predict_5</th>\n",
       "    </tr>\n",
       "  </thead>\n",
       "  <tbody>\n",
       "    <tr>\n",
       "      <th>f1score_micro</th>\n",
       "      <td>0.929232</td>\n",
       "      <td>0.940235</td>\n",
       "      <td>0.939735</td>\n",
       "      <td>0.936484</td>\n",
       "      <td>0.940235</td>\n",
       "    </tr>\n",
       "    <tr>\n",
       "      <th>f1score_macro</th>\n",
       "      <td>0.837174</td>\n",
       "      <td>0.831750</td>\n",
       "      <td>0.825904</td>\n",
       "      <td>0.843094</td>\n",
       "      <td>0.845543</td>\n",
       "    </tr>\n",
       "  </tbody>\n",
       "</table>\n",
       "</div>"
      ],
      "text/plain": [
       "               predict_1  predict_2  predict_3  predict_4  predict_5\n",
       "f1score_micro   0.929232   0.940235   0.939735   0.936484   0.940235\n",
       "f1score_macro   0.837174   0.831750   0.825904   0.843094   0.845543"
      ]
     },
     "execution_count": 6,
     "metadata": {},
     "output_type": "execute_result"
    }
   ],
   "source": [
    "f1scores"
   ]
  },
  {
   "cell_type": "code",
   "execution_count": 7,
   "id": "377dfe84-9491-448b-b6c4-a2b52cf6f743",
   "metadata": {},
   "outputs": [
    {
     "data": {
      "text/html": [
       "<div>\n",
       "<style scoped>\n",
       "    .dataframe tbody tr th:only-of-type {\n",
       "        vertical-align: middle;\n",
       "    }\n",
       "\n",
       "    .dataframe tbody tr th {\n",
       "        vertical-align: top;\n",
       "    }\n",
       "\n",
       "    .dataframe thead th {\n",
       "        text-align: right;\n",
       "    }\n",
       "</style>\n",
       "<table border=\"1\" class=\"dataframe\">\n",
       "  <thead>\n",
       "    <tr style=\"text-align: right;\">\n",
       "      <th></th>\n",
       "      <th>predict_1</th>\n",
       "      <th>predict_2</th>\n",
       "      <th>predict_3</th>\n",
       "      <th>predict_4</th>\n",
       "      <th>predict_5</th>\n",
       "    </tr>\n",
       "  </thead>\n",
       "  <tbody>\n",
       "    <tr>\n",
       "      <th>B cells</th>\n",
       "      <td>0.999165</td>\n",
       "      <td>0.998332</td>\n",
       "      <td>0.998333</td>\n",
       "      <td>0.997502</td>\n",
       "      <td>0.999166</td>\n",
       "    </tr>\n",
       "    <tr>\n",
       "      <th>CD4 T cells</th>\n",
       "      <td>0.698113</td>\n",
       "      <td>0.537634</td>\n",
       "      <td>0.606557</td>\n",
       "      <td>0.696970</td>\n",
       "      <td>0.706897</td>\n",
       "    </tr>\n",
       "    <tr>\n",
       "      <th>CD14+ Monocytes</th>\n",
       "      <td>0.997481</td>\n",
       "      <td>1.000000</td>\n",
       "      <td>1.000000</td>\n",
       "      <td>0.994962</td>\n",
       "      <td>1.000000</td>\n",
       "    </tr>\n",
       "    <tr>\n",
       "      <th>CD56 NK cells</th>\n",
       "      <td>0.975309</td>\n",
       "      <td>0.951807</td>\n",
       "      <td>0.962963</td>\n",
       "      <td>0.987500</td>\n",
       "      <td>0.951807</td>\n",
       "    </tr>\n",
       "    <tr>\n",
       "      <th>Cytotoxic T cells</th>\n",
       "      <td>0.995819</td>\n",
       "      <td>0.989376</td>\n",
       "      <td>0.987434</td>\n",
       "      <td>0.992527</td>\n",
       "      <td>0.993252</td>\n",
       "    </tr>\n",
       "    <tr>\n",
       "      <th>Memory T cells</th>\n",
       "      <td>0.923077</td>\n",
       "      <td>0.915493</td>\n",
       "      <td>0.875000</td>\n",
       "      <td>0.897059</td>\n",
       "      <td>0.887324</td>\n",
       "    </tr>\n",
       "    <tr>\n",
       "      <th>Naive Cytotoxic T cells</th>\n",
       "      <td>0.668908</td>\n",
       "      <td>0.763314</td>\n",
       "      <td>0.752418</td>\n",
       "      <td>0.718750</td>\n",
       "      <td>0.734082</td>\n",
       "    </tr>\n",
       "    <tr>\n",
       "      <th>Naive T cells</th>\n",
       "      <td>0.636364</td>\n",
       "      <td>0.671233</td>\n",
       "      <td>0.616279</td>\n",
       "      <td>0.648936</td>\n",
       "      <td>0.681319</td>\n",
       "    </tr>\n",
       "    <tr>\n",
       "      <th>Regulatory T cells</th>\n",
       "      <td>0.750000</td>\n",
       "      <td>0.666667</td>\n",
       "      <td>0.693333</td>\n",
       "      <td>0.688312</td>\n",
       "      <td>0.674419</td>\n",
       "    </tr>\n",
       "  </tbody>\n",
       "</table>\n",
       "</div>"
      ],
      "text/plain": [
       "                         predict_1  predict_2  predict_3  predict_4  predict_5\n",
       "B cells                   0.999165   0.998332   0.998333   0.997502   0.999166\n",
       "CD4 T cells               0.698113   0.537634   0.606557   0.696970   0.706897\n",
       "CD14+ Monocytes           0.997481   1.000000   1.000000   0.994962   1.000000\n",
       "CD56 NK cells             0.975309   0.951807   0.962963   0.987500   0.951807\n",
       "Cytotoxic T cells         0.995819   0.989376   0.987434   0.992527   0.993252\n",
       "Memory T cells            0.923077   0.915493   0.875000   0.897059   0.887324\n",
       "Naive Cytotoxic T cells   0.668908   0.763314   0.752418   0.718750   0.734082\n",
       "Naive T cells             0.636364   0.671233   0.616279   0.648936   0.681319\n",
       "Regulatory T cells        0.750000   0.666667   0.693333   0.688312   0.674419"
      ]
     },
     "execution_count": 7,
     "metadata": {},
     "output_type": "execute_result"
    }
   ],
   "source": [
    "precision"
   ]
  },
  {
   "cell_type": "code",
   "execution_count": 8,
   "id": "d0a59c1c-efe4-416d-8b95-336d7fca8669",
   "metadata": {},
   "outputs": [
    {
     "data": {
      "text/html": [
       "<div>\n",
       "<style scoped>\n",
       "    .dataframe tbody tr th:only-of-type {\n",
       "        vertical-align: middle;\n",
       "    }\n",
       "\n",
       "    .dataframe tbody tr th {\n",
       "        vertical-align: top;\n",
       "    }\n",
       "\n",
       "    .dataframe thead th {\n",
       "        text-align: right;\n",
       "    }\n",
       "</style>\n",
       "<table border=\"1\" class=\"dataframe\">\n",
       "  <thead>\n",
       "    <tr style=\"text-align: right;\">\n",
       "      <th></th>\n",
       "      <th>predict_1</th>\n",
       "      <th>predict_2</th>\n",
       "      <th>predict_3</th>\n",
       "      <th>predict_4</th>\n",
       "      <th>predict_5</th>\n",
       "    </tr>\n",
       "  </thead>\n",
       "  <tbody>\n",
       "    <tr>\n",
       "      <th>B cells</th>\n",
       "      <td>0.997500</td>\n",
       "      <td>0.997500</td>\n",
       "      <td>0.998333</td>\n",
       "      <td>0.998333</td>\n",
       "      <td>0.998333</td>\n",
       "    </tr>\n",
       "    <tr>\n",
       "      <th>CD4 T cells</th>\n",
       "      <td>0.462500</td>\n",
       "      <td>0.625000</td>\n",
       "      <td>0.462500</td>\n",
       "      <td>0.575000</td>\n",
       "      <td>0.512500</td>\n",
       "    </tr>\n",
       "    <tr>\n",
       "      <th>CD14+ Monocytes</th>\n",
       "      <td>0.990000</td>\n",
       "      <td>0.987500</td>\n",
       "      <td>0.987500</td>\n",
       "      <td>0.987500</td>\n",
       "      <td>0.987500</td>\n",
       "    </tr>\n",
       "    <tr>\n",
       "      <th>CD56 NK cells</th>\n",
       "      <td>0.987500</td>\n",
       "      <td>0.987500</td>\n",
       "      <td>0.975000</td>\n",
       "      <td>0.987500</td>\n",
       "      <td>0.987500</td>\n",
       "    </tr>\n",
       "    <tr>\n",
       "      <th>Cytotoxic T cells</th>\n",
       "      <td>0.893125</td>\n",
       "      <td>0.931250</td>\n",
       "      <td>0.933125</td>\n",
       "      <td>0.913125</td>\n",
       "      <td>0.920000</td>\n",
       "    </tr>\n",
       "    <tr>\n",
       "      <th>Memory T cells</th>\n",
       "      <td>0.750000</td>\n",
       "      <td>0.812500</td>\n",
       "      <td>0.787500</td>\n",
       "      <td>0.762500</td>\n",
       "      <td>0.787500</td>\n",
       "    </tr>\n",
       "    <tr>\n",
       "      <th>Naive Cytotoxic T cells</th>\n",
       "      <td>0.997494</td>\n",
       "      <td>0.969925</td>\n",
       "      <td>0.974937</td>\n",
       "      <td>0.979950</td>\n",
       "      <td>0.982456</td>\n",
       "    </tr>\n",
       "    <tr>\n",
       "      <th>Naive T cells</th>\n",
       "      <td>0.787500</td>\n",
       "      <td>0.612500</td>\n",
       "      <td>0.662500</td>\n",
       "      <td>0.762500</td>\n",
       "      <td>0.775000</td>\n",
       "    </tr>\n",
       "    <tr>\n",
       "      <th>Regulatory T cells</th>\n",
       "      <td>0.712500</td>\n",
       "      <td>0.600000</td>\n",
       "      <td>0.650000</td>\n",
       "      <td>0.662500</td>\n",
       "      <td>0.725000</td>\n",
       "    </tr>\n",
       "  </tbody>\n",
       "</table>\n",
       "</div>"
      ],
      "text/plain": [
       "                         predict_1  predict_2  predict_3  predict_4  predict_5\n",
       "B cells                   0.997500   0.997500   0.998333   0.998333   0.998333\n",
       "CD4 T cells               0.462500   0.625000   0.462500   0.575000   0.512500\n",
       "CD14+ Monocytes           0.990000   0.987500   0.987500   0.987500   0.987500\n",
       "CD56 NK cells             0.987500   0.987500   0.975000   0.987500   0.987500\n",
       "Cytotoxic T cells         0.893125   0.931250   0.933125   0.913125   0.920000\n",
       "Memory T cells            0.750000   0.812500   0.787500   0.762500   0.787500\n",
       "Naive Cytotoxic T cells   0.997494   0.969925   0.974937   0.979950   0.982456\n",
       "Naive T cells             0.787500   0.612500   0.662500   0.762500   0.775000\n",
       "Regulatory T cells        0.712500   0.600000   0.650000   0.662500   0.725000"
      ]
     },
     "execution_count": 8,
     "metadata": {},
     "output_type": "execute_result"
    }
   ],
   "source": [
    "recall"
   ]
  },
  {
   "cell_type": "markdown",
   "id": "eeb75989-69a3-4050-a903-bcf540ad0e8a",
   "metadata": {},
   "source": [
    "### 2.PBMC_FACS & FACS_CD8"
   ]
  },
  {
   "cell_type": "markdown",
   "id": "4120c33c-22e6-486d-abd7-2082ddc0d774",
   "metadata": {},
   "source": [
    "train=pbmc_facs_all ,  test=facs_cd8_test"
   ]
  },
  {
   "cell_type": "code",
   "execution_count": 2,
   "id": "84cbcbc8-3eef-4c12-af4a-5560c533d2fe",
   "metadata": {},
   "outputs": [],
   "source": [
    "from propDEC_end2end import propDEC\n",
    "import scanpy as sc\n",
    "import matplotlib.pyplot as plt"
   ]
  },
  {
   "cell_type": "code",
   "execution_count": 3,
   "id": "e0187a37-acb4-4e14-8487-00559066c421",
   "metadata": {},
   "outputs": [
    {
     "name": "stderr",
     "output_type": "stream",
     "text": [
      "/usr/local/anaconda3/lib/python3.9/site-packages/anndata/__init__.py:51: FutureWarning: `anndata.read` is deprecated, use `anndata.read_h5ad` instead. `ad.read` will be removed in mid 2024.\n",
      "  warnings.warn(\n",
      "/usr/local/anaconda3/lib/python3.9/site-packages/anndata/_core/anndata.py:1897: UserWarning: Observation names are not unique. To make them unique, call `.obs_names_make_unique`.\n",
      "  utils.warn_names_duplicates(\"obs\")\n",
      "/usr/local/anaconda3/lib/python3.9/site-packages/anndata/__init__.py:51: FutureWarning: `anndata.read` is deprecated, use `anndata.read_h5ad` instead. `ad.read` will be removed in mid 2024.\n",
      "  warnings.warn(\n",
      "/usr/local/anaconda3/lib/python3.9/site-packages/anndata/_core/anndata.py:1897: UserWarning: Observation names are not unique. To make them unique, call `.obs_names_make_unique`.\n",
      "  utils.warn_names_duplicates(\"obs\")\n"
     ]
    }
   ],
   "source": [
    "# create dataset\n",
    "pipeline = propDEC(input_size=3000, num_classes=9, metric=\"t-sne\", mode=\"soft\")#soft/hard/km\n",
    "\n",
    "train_dataset = pipeline.create_dataset(\"cross_batch\", \"ref_adata.h5ad\", mode=\"train\")\n",
    "test_dataset = pipeline.create_dataset(\"cross_batch\", \"test_adata.h5ad\", mode=\"test\")\n",
    "\n",
    "ref_adata = train_dataset.train_adata\n",
    "test_adata = test_dataset.test_adata\n"
   ]
  },
  {
   "cell_type": "code",
   "execution_count": 6,
   "id": "19313833-bbfd-4ec1-a548-d287c392f671",
   "metadata": {
    "collapsed": true,
    "jupyter": {
     "outputs_hidden": true
    },
    "tags": []
   },
   "outputs": [
    {
     "name": "stderr",
     "output_type": "stream",
     "text": [
      "                                                                        \r"
     ]
    },
    {
     "name": "stdout",
     "output_type": "stream",
     "text": [
      "==> Saving Checkpoints\n",
      "==> Finish training !\n"
     ]
    },
    {
     "name": "stderr",
     "output_type": "stream",
     "text": [
      "                                                                        \r"
     ]
    },
    {
     "name": "stdout",
     "output_type": "stream",
     "text": [
      "==> Saving Checkpoints\n",
      "Got 6653 / 7491 with accuracy' 88.81%\n",
      "==> resample\n",
      "==> Write the resample annotated data to cache\n"
     ]
    },
    {
     "name": "stderr",
     "output_type": "stream",
     "text": [
      "/volume1/home/mhuang/cellTypeAbundance/src/test/utils.py:90: FutureWarning: Series.__getitem__ treating keys as positions is deprecated. In a future version, integer keys will always be treated as labels (consistent with DataFrame behavior). To access a value by position, use `ser.iloc[pos]`\n",
      "  cell_num = int(counts[index])\n",
      "/usr/local/anaconda3/lib/python3.9/site-packages/anndata/_core/anndata.py:1897: UserWarning: Observation names are not unique. To make them unique, call `.obs_names_make_unique`.\n",
      "  utils.warn_names_duplicates(\"obs\")\n"
     ]
    },
    {
     "name": "stdout",
     "output_type": "stream",
     "text": [
      "==> Write the reweighted data to cache\n"
     ]
    },
    {
     "name": "stderr",
     "output_type": "stream",
     "text": [
      "/usr/local/anaconda3/lib/python3.9/site-packages/anndata/__init__.py:51: FutureWarning: `anndata.read` is deprecated, use `anndata.read_h5ad` instead. `ad.read` will be removed in mid 2024.\n",
      "  warnings.warn(\n"
     ]
    },
    {
     "name": "stdout",
     "output_type": "stream",
     "text": [
      "==> Loading Checkpoints\n"
     ]
    },
    {
     "name": "stderr",
     "output_type": "stream",
     "text": [
      "                                                                         \r"
     ]
    },
    {
     "name": "stdout",
     "output_type": "stream",
     "text": [
      "==> Saving Checkpoints\n",
      "Got 6791 / 7491 with accuracy' 90.66%\n",
      "==> resample\n",
      "==> Write the resample annotated data to cache\n"
     ]
    },
    {
     "name": "stderr",
     "output_type": "stream",
     "text": [
      "/volume1/home/mhuang/cellTypeAbundance/src/test/utils.py:90: FutureWarning: Series.__getitem__ treating keys as positions is deprecated. In a future version, integer keys will always be treated as labels (consistent with DataFrame behavior). To access a value by position, use `ser.iloc[pos]`\n",
      "  cell_num = int(counts[index])\n",
      "/usr/local/anaconda3/lib/python3.9/site-packages/anndata/_core/anndata.py:1897: UserWarning: Observation names are not unique. To make them unique, call `.obs_names_make_unique`.\n",
      "  utils.warn_names_duplicates(\"obs\")\n"
     ]
    },
    {
     "name": "stdout",
     "output_type": "stream",
     "text": [
      "==> Write the reweighted data to cache\n"
     ]
    },
    {
     "name": "stderr",
     "output_type": "stream",
     "text": [
      "/usr/local/anaconda3/lib/python3.9/site-packages/anndata/__init__.py:51: FutureWarning: `anndata.read` is deprecated, use `anndata.read_h5ad` instead. `ad.read` will be removed in mid 2024.\n",
      "  warnings.warn(\n"
     ]
    },
    {
     "name": "stdout",
     "output_type": "stream",
     "text": [
      "==> Loading Checkpoints\n"
     ]
    },
    {
     "name": "stderr",
     "output_type": "stream",
     "text": [
      "                                                                         \r"
     ]
    },
    {
     "name": "stdout",
     "output_type": "stream",
     "text": [
      "==> Saving Checkpoints\n",
      "Got 6765 / 7491 with accuracy' 90.31%\n",
      "==> resample\n",
      "==> Write the resample annotated data to cache\n"
     ]
    },
    {
     "name": "stderr",
     "output_type": "stream",
     "text": [
      "/volume1/home/mhuang/cellTypeAbundance/src/test/utils.py:90: FutureWarning: Series.__getitem__ treating keys as positions is deprecated. In a future version, integer keys will always be treated as labels (consistent with DataFrame behavior). To access a value by position, use `ser.iloc[pos]`\n",
      "  cell_num = int(counts[index])\n",
      "/usr/local/anaconda3/lib/python3.9/site-packages/anndata/_core/anndata.py:1897: UserWarning: Observation names are not unique. To make them unique, call `.obs_names_make_unique`.\n",
      "  utils.warn_names_duplicates(\"obs\")\n"
     ]
    },
    {
     "name": "stdout",
     "output_type": "stream",
     "text": [
      "==> Write the reweighted data to cache\n"
     ]
    },
    {
     "name": "stderr",
     "output_type": "stream",
     "text": [
      "/usr/local/anaconda3/lib/python3.9/site-packages/anndata/__init__.py:51: FutureWarning: `anndata.read` is deprecated, use `anndata.read_h5ad` instead. `ad.read` will be removed in mid 2024.\n",
      "  warnings.warn(\n"
     ]
    },
    {
     "name": "stdout",
     "output_type": "stream",
     "text": [
      "==> Loading Checkpoints\n"
     ]
    },
    {
     "name": "stderr",
     "output_type": "stream",
     "text": [
      "                                                                         \r"
     ]
    },
    {
     "name": "stdout",
     "output_type": "stream",
     "text": [
      "==> Saving Checkpoints\n",
      "Got 6758 / 7491 with accuracy' 90.21%\n",
      "==> resample\n",
      "==> Write the resample annotated data to cache\n"
     ]
    },
    {
     "name": "stderr",
     "output_type": "stream",
     "text": [
      "/volume1/home/mhuang/cellTypeAbundance/src/test/utils.py:90: FutureWarning: Series.__getitem__ treating keys as positions is deprecated. In a future version, integer keys will always be treated as labels (consistent with DataFrame behavior). To access a value by position, use `ser.iloc[pos]`\n",
      "  cell_num = int(counts[index])\n",
      "/usr/local/anaconda3/lib/python3.9/site-packages/anndata/_core/anndata.py:1897: UserWarning: Observation names are not unique. To make them unique, call `.obs_names_make_unique`.\n",
      "  utils.warn_names_duplicates(\"obs\")\n"
     ]
    },
    {
     "name": "stdout",
     "output_type": "stream",
     "text": [
      "==> Write the reweighted data to cache\n"
     ]
    },
    {
     "name": "stderr",
     "output_type": "stream",
     "text": [
      "/usr/local/anaconda3/lib/python3.9/site-packages/anndata/__init__.py:51: FutureWarning: `anndata.read` is deprecated, use `anndata.read_h5ad` instead. `ad.read` will be removed in mid 2024.\n",
      "  warnings.warn(\n"
     ]
    },
    {
     "name": "stdout",
     "output_type": "stream",
     "text": [
      "==> Loading Checkpoints\n"
     ]
    },
    {
     "name": "stderr",
     "output_type": "stream",
     "text": [
      "                                                                         \r"
     ]
    },
    {
     "name": "stdout",
     "output_type": "stream",
     "text": [
      "==> Saving Checkpoints\n",
      "Got 6748 / 7491 with accuracy' 90.08%\n",
      "==> resample\n",
      "==> Write the resample annotated data to cache\n"
     ]
    },
    {
     "name": "stderr",
     "output_type": "stream",
     "text": [
      "/volume1/home/mhuang/cellTypeAbundance/src/test/utils.py:90: FutureWarning: Series.__getitem__ treating keys as positions is deprecated. In a future version, integer keys will always be treated as labels (consistent with DataFrame behavior). To access a value by position, use `ser.iloc[pos]`\n",
      "  cell_num = int(counts[index])\n",
      "/usr/local/anaconda3/lib/python3.9/site-packages/anndata/_core/anndata.py:1897: UserWarning: Observation names are not unique. To make them unique, call `.obs_names_make_unique`.\n",
      "  utils.warn_names_duplicates(\"obs\")\n"
     ]
    },
    {
     "name": "stdout",
     "output_type": "stream",
     "text": [
      "==> Write the reweighted data to cache\n",
      "==> Finish!\n"
     ]
    },
    {
     "name": "stderr",
     "output_type": "stream",
     "text": [
      "/volume1/home/mhuang/cellTypeAbundance/src/test/propDEC_end2end.py:195: FutureWarning: The default of observed=False is deprecated and will be changed to True in a future version of pandas. Pass observed=False to retain current behavior or observed=True to adopt the future default and silence this warning.\n",
      "  ground_truth = self.test_adata.obs.groupby('cell.type').count()/len(self.test_adata)\n"
     ]
    }
   ],
   "source": [
    "scores, proportion, f1scores, precision, recall = pipeline(epochs=5)\n"
   ]
  },
  {
   "cell_type": "code",
   "execution_count": 7,
   "id": "c8b33884-f4bd-4e25-a186-e4631f0d8a88",
   "metadata": {},
   "outputs": [
    {
     "data": {
      "text/html": [
       "<div>\n",
       "<style scoped>\n",
       "    .dataframe tbody tr th:only-of-type {\n",
       "        vertical-align: middle;\n",
       "    }\n",
       "\n",
       "    .dataframe tbody tr th {\n",
       "        vertical-align: top;\n",
       "    }\n",
       "\n",
       "    .dataframe thead th {\n",
       "        text-align: right;\n",
       "    }\n",
       "</style>\n",
       "<table border=\"1\" class=\"dataframe\">\n",
       "  <thead>\n",
       "    <tr style=\"text-align: right;\">\n",
       "      <th></th>\n",
       "      <th>ref</th>\n",
       "      <th>predict_1</th>\n",
       "      <th>predict_2</th>\n",
       "      <th>predict_3</th>\n",
       "      <th>predict_4</th>\n",
       "      <th>predict_5</th>\n",
       "      <th>Ground_truth</th>\n",
       "    </tr>\n",
       "  </thead>\n",
       "  <tbody>\n",
       "    <tr>\n",
       "      <th>B cells</th>\n",
       "      <td>0.104391</td>\n",
       "      <td>0.2981</td>\n",
       "      <td>0.2990</td>\n",
       "      <td>0.2989</td>\n",
       "      <td>0.2975</td>\n",
       "      <td>0.2991</td>\n",
       "      <td>0.300227</td>\n",
       "    </tr>\n",
       "    <tr>\n",
       "      <th>CD4 T cells</th>\n",
       "      <td>0.232187</td>\n",
       "      <td>0.0405</td>\n",
       "      <td>0.0411</td>\n",
       "      <td>0.0490</td>\n",
       "      <td>0.0476</td>\n",
       "      <td>0.0508</td>\n",
       "      <td>0.020024</td>\n",
       "    </tr>\n",
       "    <tr>\n",
       "      <th>CD14+ Monocytes</th>\n",
       "      <td>0.027030</td>\n",
       "      <td>0.0973</td>\n",
       "      <td>0.0984</td>\n",
       "      <td>0.0984</td>\n",
       "      <td>0.0985</td>\n",
       "      <td>0.0981</td>\n",
       "      <td>0.100120</td>\n",
       "    </tr>\n",
       "    <tr>\n",
       "      <th>CD56 NK cells</th>\n",
       "      <td>0.086785</td>\n",
       "      <td>0.0201</td>\n",
       "      <td>0.0198</td>\n",
       "      <td>0.0198</td>\n",
       "      <td>0.0204</td>\n",
       "      <td>0.0201</td>\n",
       "      <td>0.020024</td>\n",
       "    </tr>\n",
       "    <tr>\n",
       "      <th>Cytotoxic T cells</th>\n",
       "      <td>0.105634</td>\n",
       "      <td>0.1124</td>\n",
       "      <td>0.1032</td>\n",
       "      <td>0.1059</td>\n",
       "      <td>0.1043</td>\n",
       "      <td>0.1037</td>\n",
       "      <td>0.100120</td>\n",
       "    </tr>\n",
       "    <tr>\n",
       "      <th>Memory T cells</th>\n",
       "      <td>0.105841</td>\n",
       "      <td>0.0305</td>\n",
       "      <td>0.0192</td>\n",
       "      <td>0.0190</td>\n",
       "      <td>0.0182</td>\n",
       "      <td>0.0177</td>\n",
       "      <td>0.020024</td>\n",
       "    </tr>\n",
       "    <tr>\n",
       "      <th>Naive Cytotoxic T cells</th>\n",
       "      <td>0.123447</td>\n",
       "      <td>0.3541</td>\n",
       "      <td>0.3939</td>\n",
       "      <td>0.3877</td>\n",
       "      <td>0.3950</td>\n",
       "      <td>0.3916</td>\n",
       "      <td>0.399680</td>\n",
       "    </tr>\n",
       "    <tr>\n",
       "      <th>Naive T cells</th>\n",
       "      <td>0.108430</td>\n",
       "      <td>0.0278</td>\n",
       "      <td>0.0149</td>\n",
       "      <td>0.0116</td>\n",
       "      <td>0.0098</td>\n",
       "      <td>0.0090</td>\n",
       "      <td>0.019891</td>\n",
       "    </tr>\n",
       "    <tr>\n",
       "      <th>Regulatory T cells</th>\n",
       "      <td>0.106255</td>\n",
       "      <td>0.0192</td>\n",
       "      <td>0.0105</td>\n",
       "      <td>0.0097</td>\n",
       "      <td>0.0087</td>\n",
       "      <td>0.0101</td>\n",
       "      <td>0.019891</td>\n",
       "    </tr>\n",
       "  </tbody>\n",
       "</table>\n",
       "</div>"
      ],
      "text/plain": [
       "                              ref  predict_1  predict_2  predict_3  predict_4  \\\n",
       "B cells                  0.104391     0.2981     0.2990     0.2989     0.2975   \n",
       "CD4 T cells              0.232187     0.0405     0.0411     0.0490     0.0476   \n",
       "CD14+ Monocytes          0.027030     0.0973     0.0984     0.0984     0.0985   \n",
       "CD56 NK cells            0.086785     0.0201     0.0198     0.0198     0.0204   \n",
       "Cytotoxic T cells        0.105634     0.1124     0.1032     0.1059     0.1043   \n",
       "Memory T cells           0.105841     0.0305     0.0192     0.0190     0.0182   \n",
       "Naive Cytotoxic T cells  0.123447     0.3541     0.3939     0.3877     0.3950   \n",
       "Naive T cells            0.108430     0.0278     0.0149     0.0116     0.0098   \n",
       "Regulatory T cells       0.106255     0.0192     0.0105     0.0097     0.0087   \n",
       "\n",
       "                         predict_5  Ground_truth  \n",
       "B cells                     0.2991      0.300227  \n",
       "CD4 T cells                 0.0508      0.020024  \n",
       "CD14+ Monocytes             0.0981      0.100120  \n",
       "CD56 NK cells               0.0201      0.020024  \n",
       "Cytotoxic T cells           0.1037      0.100120  \n",
       "Memory T cells              0.0177      0.020024  \n",
       "Naive Cytotoxic T cells     0.3916      0.399680  \n",
       "Naive T cells               0.0090      0.019891  \n",
       "Regulatory T cells          0.0101      0.019891  "
      ]
     },
     "execution_count": 7,
     "metadata": {},
     "output_type": "execute_result"
    }
   ],
   "source": [
    "proportion"
   ]
  },
  {
   "cell_type": "code",
   "execution_count": 8,
   "id": "aefc3718-c2f8-43f4-8e1a-5cbd0daa5843",
   "metadata": {},
   "outputs": [
    {
     "data": {
      "text/html": [
       "<div>\n",
       "<style scoped>\n",
       "    .dataframe tbody tr th:only-of-type {\n",
       "        vertical-align: middle;\n",
       "    }\n",
       "\n",
       "    .dataframe tbody tr th {\n",
       "        vertical-align: top;\n",
       "    }\n",
       "\n",
       "    .dataframe thead th {\n",
       "        text-align: right;\n",
       "    }\n",
       "</style>\n",
       "<table border=\"1\" class=\"dataframe\">\n",
       "  <thead>\n",
       "    <tr style=\"text-align: right;\">\n",
       "      <th></th>\n",
       "      <th>predict_1</th>\n",
       "      <th>predict_2</th>\n",
       "      <th>predict_3</th>\n",
       "      <th>predict_4</th>\n",
       "      <th>predict_5</th>\n",
       "    </tr>\n",
       "  </thead>\n",
       "  <tbody>\n",
       "    <tr>\n",
       "      <th>f1score_micro</th>\n",
       "      <td>0.888132</td>\n",
       "      <td>0.906555</td>\n",
       "      <td>0.903084</td>\n",
       "      <td>0.902149</td>\n",
       "      <td>0.900814</td>\n",
       "    </tr>\n",
       "    <tr>\n",
       "      <th>f1score_macro</th>\n",
       "      <td>0.755765</td>\n",
       "      <td>0.770131</td>\n",
       "      <td>0.743303</td>\n",
       "      <td>0.734445</td>\n",
       "      <td>0.732707</td>\n",
       "    </tr>\n",
       "  </tbody>\n",
       "</table>\n",
       "</div>"
      ],
      "text/plain": [
       "               predict_1  predict_2  predict_3  predict_4  predict_5\n",
       "f1score_micro   0.888132   0.906555   0.903084   0.902149   0.900814\n",
       "f1score_macro   0.755765   0.770131   0.743303   0.734445   0.732707"
      ]
     },
     "execution_count": 8,
     "metadata": {},
     "output_type": "execute_result"
    }
   ],
   "source": [
    "f1scores\n"
   ]
  },
  {
   "cell_type": "code",
   "execution_count": 9,
   "id": "9e3a29af-c005-49b6-add2-a6c90de47357",
   "metadata": {},
   "outputs": [
    {
     "data": {
      "text/html": [
       "<div>\n",
       "<style scoped>\n",
       "    .dataframe tbody tr th:only-of-type {\n",
       "        vertical-align: middle;\n",
       "    }\n",
       "\n",
       "    .dataframe tbody tr th {\n",
       "        vertical-align: top;\n",
       "    }\n",
       "\n",
       "    .dataframe thead th {\n",
       "        text-align: right;\n",
       "    }\n",
       "</style>\n",
       "<table border=\"1\" class=\"dataframe\">\n",
       "  <thead>\n",
       "    <tr style=\"text-align: right;\">\n",
       "      <th></th>\n",
       "      <th>predict_1</th>\n",
       "      <th>predict_2</th>\n",
       "      <th>predict_3</th>\n",
       "      <th>predict_4</th>\n",
       "      <th>predict_5</th>\n",
       "    </tr>\n",
       "  </thead>\n",
       "  <tbody>\n",
       "    <tr>\n",
       "      <th>B cells</th>\n",
       "      <td>0.998210</td>\n",
       "      <td>0.998216</td>\n",
       "      <td>0.998660</td>\n",
       "      <td>0.999102</td>\n",
       "      <td>0.998214</td>\n",
       "    </tr>\n",
       "    <tr>\n",
       "      <th>CD4 T cells</th>\n",
       "      <td>0.374126</td>\n",
       "      <td>0.398693</td>\n",
       "      <td>0.333333</td>\n",
       "      <td>0.352778</td>\n",
       "      <td>0.333333</td>\n",
       "    </tr>\n",
       "    <tr>\n",
       "      <th>CD14+ Monocytes</th>\n",
       "      <td>0.993188</td>\n",
       "      <td>0.995946</td>\n",
       "      <td>0.997294</td>\n",
       "      <td>0.998643</td>\n",
       "      <td>0.998641</td>\n",
       "    </tr>\n",
       "    <tr>\n",
       "      <th>CD56 NK cells</th>\n",
       "      <td>1.000000</td>\n",
       "      <td>0.993289</td>\n",
       "      <td>1.000000</td>\n",
       "      <td>0.973684</td>\n",
       "      <td>0.986667</td>\n",
       "    </tr>\n",
       "    <tr>\n",
       "      <th>Cytotoxic T cells</th>\n",
       "      <td>0.696560</td>\n",
       "      <td>0.736074</td>\n",
       "      <td>0.742268</td>\n",
       "      <td>0.746094</td>\n",
       "      <td>0.746719</td>\n",
       "    </tr>\n",
       "    <tr>\n",
       "      <th>Memory T cells</th>\n",
       "      <td>0.513514</td>\n",
       "      <td>0.770270</td>\n",
       "      <td>0.741259</td>\n",
       "      <td>0.748148</td>\n",
       "      <td>0.751938</td>\n",
       "    </tr>\n",
       "    <tr>\n",
       "      <th>Naive Cytotoxic T cells</th>\n",
       "      <td>0.953488</td>\n",
       "      <td>0.928620</td>\n",
       "      <td>0.937884</td>\n",
       "      <td>0.929123</td>\n",
       "      <td>0.932226</td>\n",
       "    </tr>\n",
       "    <tr>\n",
       "      <th>Naive T cells</th>\n",
       "      <td>0.428571</td>\n",
       "      <td>0.588785</td>\n",
       "      <td>0.540230</td>\n",
       "      <td>0.594203</td>\n",
       "      <td>0.545455</td>\n",
       "    </tr>\n",
       "    <tr>\n",
       "      <th>Regulatory T cells</th>\n",
       "      <td>0.621429</td>\n",
       "      <td>0.746667</td>\n",
       "      <td>0.685714</td>\n",
       "      <td>0.621212</td>\n",
       "      <td>0.644737</td>\n",
       "    </tr>\n",
       "  </tbody>\n",
       "</table>\n",
       "</div>"
      ],
      "text/plain": [
       "                         predict_1  predict_2  predict_3  predict_4  predict_5\n",
       "B cells                   0.998210   0.998216   0.998660   0.999102   0.998214\n",
       "CD4 T cells               0.374126   0.398693   0.333333   0.352778   0.333333\n",
       "CD14+ Monocytes           0.993188   0.995946   0.997294   0.998643   0.998641\n",
       "CD56 NK cells             1.000000   0.993289   1.000000   0.973684   0.986667\n",
       "Cytotoxic T cells         0.696560   0.736074   0.742268   0.746094   0.746719\n",
       "Memory T cells            0.513514   0.770270   0.741259   0.748148   0.751938\n",
       "Naive Cytotoxic T cells   0.953488   0.928620   0.937884   0.929123   0.932226\n",
       "Naive T cells             0.428571   0.588785   0.540230   0.594203   0.545455\n",
       "Regulatory T cells        0.621429   0.746667   0.685714   0.621212   0.644737"
      ]
     },
     "execution_count": 9,
     "metadata": {},
     "output_type": "execute_result"
    }
   ],
   "source": [
    "precision\n"
   ]
  },
  {
   "cell_type": "code",
   "execution_count": 10,
   "id": "5fa2b249-705d-4ba1-9c89-14b44dfd9a66",
   "metadata": {},
   "outputs": [
    {
     "data": {
      "text/html": [
       "<div>\n",
       "<style scoped>\n",
       "    .dataframe tbody tr th:only-of-type {\n",
       "        vertical-align: middle;\n",
       "    }\n",
       "\n",
       "    .dataframe tbody tr th {\n",
       "        vertical-align: top;\n",
       "    }\n",
       "\n",
       "    .dataframe thead th {\n",
       "        text-align: right;\n",
       "    }\n",
       "</style>\n",
       "<table border=\"1\" class=\"dataframe\">\n",
       "  <thead>\n",
       "    <tr style=\"text-align: right;\">\n",
       "      <th></th>\n",
       "      <th>predict_1</th>\n",
       "      <th>predict_2</th>\n",
       "      <th>predict_3</th>\n",
       "      <th>predict_4</th>\n",
       "      <th>predict_5</th>\n",
       "    </tr>\n",
       "  </thead>\n",
       "  <tbody>\n",
       "    <tr>\n",
       "      <th>B cells</th>\n",
       "      <td>0.991996</td>\n",
       "      <td>0.995109</td>\n",
       "      <td>0.994220</td>\n",
       "      <td>0.989329</td>\n",
       "      <td>0.994220</td>\n",
       "    </tr>\n",
       "    <tr>\n",
       "      <th>CD4 T cells</th>\n",
       "      <td>0.713333</td>\n",
       "      <td>0.813333</td>\n",
       "      <td>0.800000</td>\n",
       "      <td>0.846667</td>\n",
       "      <td>0.846667</td>\n",
       "    </tr>\n",
       "    <tr>\n",
       "      <th>CD14+ Monocytes</th>\n",
       "      <td>0.972000</td>\n",
       "      <td>0.982667</td>\n",
       "      <td>0.982667</td>\n",
       "      <td>0.981333</td>\n",
       "      <td>0.980000</td>\n",
       "    </tr>\n",
       "    <tr>\n",
       "      <th>CD56 NK cells</th>\n",
       "      <td>0.986667</td>\n",
       "      <td>0.986667</td>\n",
       "      <td>0.980000</td>\n",
       "      <td>0.986667</td>\n",
       "      <td>0.986667</td>\n",
       "    </tr>\n",
       "    <tr>\n",
       "      <th>Cytotoxic T cells</th>\n",
       "      <td>0.756000</td>\n",
       "      <td>0.740000</td>\n",
       "      <td>0.768000</td>\n",
       "      <td>0.764000</td>\n",
       "      <td>0.758667</td>\n",
       "    </tr>\n",
       "    <tr>\n",
       "      <th>Memory T cells</th>\n",
       "      <td>0.760000</td>\n",
       "      <td>0.760000</td>\n",
       "      <td>0.706667</td>\n",
       "      <td>0.673333</td>\n",
       "      <td>0.646667</td>\n",
       "    </tr>\n",
       "    <tr>\n",
       "      <th>Naive Cytotoxic T cells</th>\n",
       "      <td>0.862725</td>\n",
       "      <td>0.921176</td>\n",
       "      <td>0.917836</td>\n",
       "      <td>0.923848</td>\n",
       "      <td>0.918838</td>\n",
       "    </tr>\n",
       "    <tr>\n",
       "      <th>Naive T cells</th>\n",
       "      <td>0.583893</td>\n",
       "      <td>0.422819</td>\n",
       "      <td>0.315436</td>\n",
       "      <td>0.275168</td>\n",
       "      <td>0.241611</td>\n",
       "    </tr>\n",
       "    <tr>\n",
       "      <th>Regulatory T cells</th>\n",
       "      <td>0.583893</td>\n",
       "      <td>0.375839</td>\n",
       "      <td>0.322148</td>\n",
       "      <td>0.275168</td>\n",
       "      <td>0.328859</td>\n",
       "    </tr>\n",
       "  </tbody>\n",
       "</table>\n",
       "</div>"
      ],
      "text/plain": [
       "                         predict_1  predict_2  predict_3  predict_4  predict_5\n",
       "B cells                   0.991996   0.995109   0.994220   0.989329   0.994220\n",
       "CD4 T cells               0.713333   0.813333   0.800000   0.846667   0.846667\n",
       "CD14+ Monocytes           0.972000   0.982667   0.982667   0.981333   0.980000\n",
       "CD56 NK cells             0.986667   0.986667   0.980000   0.986667   0.986667\n",
       "Cytotoxic T cells         0.756000   0.740000   0.768000   0.764000   0.758667\n",
       "Memory T cells            0.760000   0.760000   0.706667   0.673333   0.646667\n",
       "Naive Cytotoxic T cells   0.862725   0.921176   0.917836   0.923848   0.918838\n",
       "Naive T cells             0.583893   0.422819   0.315436   0.275168   0.241611\n",
       "Regulatory T cells        0.583893   0.375839   0.322148   0.275168   0.328859"
      ]
     },
     "execution_count": 10,
     "metadata": {},
     "output_type": "execute_result"
    }
   ],
   "source": [
    "recall"
   ]
  },
  {
   "cell_type": "code",
   "execution_count": null,
   "id": "1cb39e88-5009-4386-8221-8ce34fb6bc23",
   "metadata": {},
   "outputs": [],
   "source": []
  }
 ],
 "metadata": {
  "kernelspec": {
   "display_name": "Python 3 (ipykernel)",
   "language": "python",
   "name": "python3"
  },
  "language_info": {
   "codemirror_mode": {
    "name": "ipython",
    "version": 3
   },
   "file_extension": ".py",
   "mimetype": "text/x-python",
   "name": "python",
   "nbconvert_exporter": "python",
   "pygments_lexer": "ipython3",
   "version": "3.9.15"
  }
 },
 "nbformat": 4,
 "nbformat_minor": 5
}
