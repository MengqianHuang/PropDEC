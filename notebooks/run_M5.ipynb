{
 "cells": [
  {
   "cell_type": "markdown",
   "id": "c5dd110b-ea5d-4c4c-bf2a-bd2dfffe450a",
   "metadata": {
    "jp-MarkdownHeadingCollapsed": true,
    "tags": []
   },
   "source": [
    "## 1.data preprocess"
   ]
  },
  {
   "cell_type": "code",
   "execution_count": 1,
   "id": "8c5862a9-82ee-46cc-b9a7-4fac594fa50a",
   "metadata": {},
   "outputs": [],
   "source": [
    "import scanpy as sc\n",
    "import pandas as pd\n",
    "import numpy as np"
   ]
  },
  {
   "cell_type": "code",
   "execution_count": 2,
   "id": "3941e91b-ad76-4207-b80f-32e5f3f1be87",
   "metadata": {},
   "outputs": [
    {
     "name": "stderr",
     "output_type": "stream",
     "text": [
      "/usr/local/anaconda3/lib/python3.9/site-packages/anndata/__init__.py:51: FutureWarning: `anndata.read` is deprecated, use `anndata.read_h5ad` instead. `ad.read` will be removed in mid 2024.\n",
      "  warnings.warn(\n",
      "/usr/local/anaconda3/lib/python3.9/site-packages/anndata/_core/anndata.py:1897: UserWarning: Observation names are not unique. To make them unique, call `.obs_names_make_unique`.\n",
      "  utils.warn_names_duplicates(\"obs\")\n",
      "/usr/local/anaconda3/lib/python3.9/site-packages/anndata/_core/anndata.py:1897: UserWarning: Observation names are not unique. To make them unique, call `.obs_names_make_unique`.\n",
      "  utils.warn_names_duplicates(\"obs\")\n",
      "/usr/local/anaconda3/lib/python3.9/site-packages/anndata/_core/anndata.py:1897: UserWarning: Observation names are not unique. To make them unique, call `.obs_names_make_unique`.\n",
      "  utils.warn_names_duplicates(\"obs\")\n",
      "/usr/local/anaconda3/lib/python3.9/site-packages/anndata/_core/anndata.py:1897: UserWarning: Observation names are not unique. To make them unique, call `.obs_names_make_unique`.\n",
      "  utils.warn_names_duplicates(\"obs\")\n",
      "/usr/local/anaconda3/lib/python3.9/site-packages/scanpy/preprocessing/_highly_variable_genes.py:220: FutureWarning: The default of observed=False is deprecated and will be changed to True in a future version of pandas. Pass observed=False to retain current behavior or observed=True to adopt the future default and silence this warning.\n",
      "  disp_grouped = df.groupby('mean_bin')['dispersions']\n",
      "/usr/local/anaconda3/lib/python3.9/site-packages/scanpy/preprocessing/_simple.py:843: UserWarning: Received a view of an AnnData. Making a copy.\n",
      "  view_to_actual(adata)\n",
      "/usr/local/anaconda3/lib/python3.9/site-packages/anndata/_core/anndata.py:1897: UserWarning: Observation names are not unique. To make them unique, call `.obs_names_make_unique`.\n",
      "  utils.warn_names_duplicates(\"obs\")\n"
     ]
    }
   ],
   "source": [
    "adata = sc.read(\"/volume1/home/mhuang/cellTypeAbundance/data/AD/ad_raw.h5ad\")\n",
    "\n",
    "from dataset import Process\n",
    "data_pipeline = Process(\"AD\")\n",
    "adata = data_pipeline.preprocess(adata)\n",
    "\n",
    "adata_Ct34 = adata[adata.obs['batch']=='Ct3_Ct4']\n",
    "adata_Ct34 = adata_Ct34[adata_Ct34.obs['patient']!='Ct-un']\n",
    "adata_Ct34 = adata_Ct34[adata_Ct34.obs['cellType']!='unID'] #unID指的是unidentify\n",
    "adata_Ct34 = adata_Ct34[adata_Ct34.obs['cellType']!='doublet']\n",
    "\n",
    "adata_AD12 = adata[adata.obs['batch']=='AD1_AD2']\n",
    "adata_AD12 = adata_AD12[adata_AD12.obs['patient']!='AD-un']\n",
    "adata_AD12 = adata_AD12[adata_AD12.obs['cellType']!='unID'] #unID指的是unidentify\n",
    "adata_AD12 = adata_AD12[adata_AD12.obs['cellType']!='doublet']\n",
    "\n",
    "adata_Ct34.obs.rename(columns={'cellType': 'cell.type'}, inplace=True)\n",
    "adata_AD12.obs.rename(columns={'cellType': 'cell.type'}, inplace=True)"
   ]
  },
  {
   "cell_type": "code",
   "execution_count": 3,
   "id": "f57f8af9-94f6-4ea0-b4d2-f438ea5eb13b",
   "metadata": {},
   "outputs": [],
   "source": [
    "adata_Ct34.write(f'/volume1/home/mhuang/cellTypeAbundance/data/AD/AD_train.h5ad')\n",
    "adata_AD12.write(f'/volume1/home/mhuang/cellTypeAbundance/data/AD/AD_test.h5ad')"
   ]
  },
  {
   "cell_type": "markdown",
   "id": "640e2623-ffbb-4358-a941-09a6bc02fd1c",
   "metadata": {
    "tags": []
   },
   "source": [
    "## 2. model training"
   ]
  },
  {
   "cell_type": "code",
   "execution_count": 1,
   "id": "63e8f55c-c2cd-4b02-a8a3-ea3adff64be0",
   "metadata": {},
   "outputs": [],
   "source": [
    "from propDEC_end2end import propDEC\n",
    "import scanpy as sc\n",
    "import matplotlib.pyplot as plt"
   ]
  },
  {
   "cell_type": "code",
   "execution_count": 2,
   "id": "46c1f203-1b8a-4ee5-b7a7-07b0c3503d5d",
   "metadata": {},
   "outputs": [
    {
     "name": "stderr",
     "output_type": "stream",
     "text": [
      "/usr/local/anaconda3/lib/python3.9/site-packages/anndata/__init__.py:51: FutureWarning: `anndata.read` is deprecated, use `anndata.read_h5ad` instead. `ad.read` will be removed in mid 2024.\n",
      "  warnings.warn(\n",
      "/usr/local/anaconda3/lib/python3.9/site-packages/anndata/__init__.py:51: FutureWarning: `anndata.read` is deprecated, use `anndata.read_h5ad` instead. `ad.read` will be removed in mid 2024.\n",
      "  warnings.warn(\n"
     ]
    }
   ],
   "source": [
    "# create dataset\n",
    "pipeline = propDEC(metric=\"t-sne\", mode=\"soft\")#soft/hard/km\n",
    "\n",
    "train_dataset = pipeline.create_dataset(\"AD\", \"AD_train.h5ad\", mode=\"train\")\n",
    "test_dataset = pipeline.create_dataset(\"AD\", \"AD_test.h5ad\", mode=\"test\")\n",
    "\n",
    "ref_adata = train_dataset.train_adata\n",
    "test_adata = test_dataset.test_adata"
   ]
  },
  {
   "cell_type": "code",
   "execution_count": 3,
   "id": "a41f2b61-92fb-45dd-bf27-a8551f304633",
   "metadata": {},
   "outputs": [
    {
     "name": "stderr",
     "output_type": "stream",
     "text": [
      "                                                                          \r"
     ]
    },
    {
     "name": "stdout",
     "output_type": "stream",
     "text": [
      "==> Saving Checkpoints\n",
      "==> Finish training !\n"
     ]
    },
    {
     "name": "stderr",
     "output_type": "stream",
     "text": [
      "                                                                     \r"
     ]
    },
    {
     "name": "stdout",
     "output_type": "stream",
     "text": [
      "==> Saving Checkpoints\n"
     ]
    },
    {
     "name": "stderr",
     "output_type": "stream",
     "text": [
      "/usr/local/anaconda3/lib/python3.9/site-packages/sklearn/metrics/_classification.py:1344: UndefinedMetricWarning: Precision and F-score are ill-defined and being set to 0.0 in labels with no predicted samples. Use `zero_division` parameter to control this behavior.\n",
      "  _warn_prf(average, modifier, msg_start, len(result))\n",
      "/volume1/home/mhuang/cellTypeAbundance/src/test/codes/run_M5/utils.py:89: FutureWarning: Series.__getitem__ treating keys as positions is deprecated. In a future version, integer keys will always be treated as labels (consistent with DataFrame behavior). To access a value by position, use `ser.iloc[pos]`\n",
      "  cell_num = int(counts[index])\n",
      "/usr/local/anaconda3/lib/python3.9/site-packages/anndata/_core/anndata.py:1897: UserWarning: Observation names are not unique. To make them unique, call `.obs_names_make_unique`.\n",
      "  utils.warn_names_duplicates(\"obs\")\n"
     ]
    },
    {
     "name": "stdout",
     "output_type": "stream",
     "text": [
      "Got 2067 / 2187 with accuracy' 94.51%\n",
      "==> resample\n",
      "==> Write the resample annotated data to cache\n",
      "==> Write the reweighted data to cache\n"
     ]
    },
    {
     "name": "stderr",
     "output_type": "stream",
     "text": [
      "/usr/local/anaconda3/lib/python3.9/site-packages/anndata/__init__.py:51: FutureWarning: `anndata.read` is deprecated, use `anndata.read_h5ad` instead. `ad.read` will be removed in mid 2024.\n",
      "  warnings.warn(\n"
     ]
    },
    {
     "name": "stdout",
     "output_type": "stream",
     "text": [
      "==> Loading Checkpoints\n"
     ]
    },
    {
     "name": "stderr",
     "output_type": "stream",
     "text": [
      "                                                                     \r"
     ]
    },
    {
     "name": "stdout",
     "output_type": "stream",
     "text": [
      "==> Saving Checkpoints\n"
     ]
    },
    {
     "name": "stderr",
     "output_type": "stream",
     "text": [
      "/usr/local/anaconda3/lib/python3.9/site-packages/sklearn/metrics/_classification.py:1344: UndefinedMetricWarning: Precision and F-score are ill-defined and being set to 0.0 in labels with no predicted samples. Use `zero_division` parameter to control this behavior.\n",
      "  _warn_prf(average, modifier, msg_start, len(result))\n",
      "/volume1/home/mhuang/cellTypeAbundance/src/test/codes/run_M5/utils.py:89: FutureWarning: Series.__getitem__ treating keys as positions is deprecated. In a future version, integer keys will always be treated as labels (consistent with DataFrame behavior). To access a value by position, use `ser.iloc[pos]`\n",
      "  cell_num = int(counts[index])\n",
      "/usr/local/anaconda3/lib/python3.9/site-packages/anndata/_core/anndata.py:1897: UserWarning: Observation names are not unique. To make them unique, call `.obs_names_make_unique`.\n",
      "  utils.warn_names_duplicates(\"obs\")\n"
     ]
    },
    {
     "name": "stdout",
     "output_type": "stream",
     "text": [
      "Got 2019 / 2187 with accuracy' 92.32%\n",
      "==> resample\n",
      "==> Write the resample annotated data to cache\n",
      "==> Write the reweighted data to cache\n",
      "==> Loading Checkpoints\n"
     ]
    },
    {
     "name": "stderr",
     "output_type": "stream",
     "text": [
      "/usr/local/anaconda3/lib/python3.9/site-packages/anndata/__init__.py:51: FutureWarning: `anndata.read` is deprecated, use `anndata.read_h5ad` instead. `ad.read` will be removed in mid 2024.\n",
      "  warnings.warn(\n",
      "                                                                     \r"
     ]
    },
    {
     "name": "stdout",
     "output_type": "stream",
     "text": [
      "==> Saving Checkpoints\n"
     ]
    },
    {
     "name": "stderr",
     "output_type": "stream",
     "text": [
      "/usr/local/anaconda3/lib/python3.9/site-packages/sklearn/metrics/_classification.py:1344: UndefinedMetricWarning: Precision and F-score are ill-defined and being set to 0.0 in labels with no predicted samples. Use `zero_division` parameter to control this behavior.\n",
      "  _warn_prf(average, modifier, msg_start, len(result))\n",
      "/volume1/home/mhuang/cellTypeAbundance/src/test/codes/run_M5/utils.py:89: FutureWarning: Series.__getitem__ treating keys as positions is deprecated. In a future version, integer keys will always be treated as labels (consistent with DataFrame behavior). To access a value by position, use `ser.iloc[pos]`\n",
      "  cell_num = int(counts[index])\n",
      "/usr/local/anaconda3/lib/python3.9/site-packages/anndata/_core/anndata.py:1897: UserWarning: Observation names are not unique. To make them unique, call `.obs_names_make_unique`.\n",
      "  utils.warn_names_duplicates(\"obs\")\n"
     ]
    },
    {
     "name": "stdout",
     "output_type": "stream",
     "text": [
      "Got 1958 / 2187 with accuracy' 89.53%\n",
      "==> resample\n",
      "==> Write the resample annotated data to cache\n",
      "==> Write the reweighted data to cache\n"
     ]
    },
    {
     "name": "stderr",
     "output_type": "stream",
     "text": [
      "/usr/local/anaconda3/lib/python3.9/site-packages/anndata/__init__.py:51: FutureWarning: `anndata.read` is deprecated, use `anndata.read_h5ad` instead. `ad.read` will be removed in mid 2024.\n",
      "  warnings.warn(\n"
     ]
    },
    {
     "name": "stdout",
     "output_type": "stream",
     "text": [
      "==> Loading Checkpoints\n"
     ]
    },
    {
     "name": "stderr",
     "output_type": "stream",
     "text": [
      "                                                                     \r"
     ]
    },
    {
     "name": "stdout",
     "output_type": "stream",
     "text": [
      "==> Saving Checkpoints\n"
     ]
    },
    {
     "name": "stderr",
     "output_type": "stream",
     "text": [
      "/usr/local/anaconda3/lib/python3.9/site-packages/sklearn/metrics/_classification.py:1344: UndefinedMetricWarning: Precision and F-score are ill-defined and being set to 0.0 in labels with no predicted samples. Use `zero_division` parameter to control this behavior.\n",
      "  _warn_prf(average, modifier, msg_start, len(result))\n",
      "/volume1/home/mhuang/cellTypeAbundance/src/test/codes/run_M5/utils.py:89: FutureWarning: Series.__getitem__ treating keys as positions is deprecated. In a future version, integer keys will always be treated as labels (consistent with DataFrame behavior). To access a value by position, use `ser.iloc[pos]`\n",
      "  cell_num = int(counts[index])\n",
      "/usr/local/anaconda3/lib/python3.9/site-packages/anndata/_core/anndata.py:1897: UserWarning: Observation names are not unique. To make them unique, call `.obs_names_make_unique`.\n",
      "  utils.warn_names_duplicates(\"obs\")\n"
     ]
    },
    {
     "name": "stdout",
     "output_type": "stream",
     "text": [
      "Got 1916 / 2187 with accuracy' 87.61%\n",
      "==> resample\n",
      "==> Write the resample annotated data to cache\n",
      "==> Write the reweighted data to cache\n"
     ]
    },
    {
     "name": "stderr",
     "output_type": "stream",
     "text": [
      "/usr/local/anaconda3/lib/python3.9/site-packages/anndata/__init__.py:51: FutureWarning: `anndata.read` is deprecated, use `anndata.read_h5ad` instead. `ad.read` will be removed in mid 2024.\n",
      "  warnings.warn(\n"
     ]
    },
    {
     "name": "stdout",
     "output_type": "stream",
     "text": [
      "==> Loading Checkpoints\n"
     ]
    },
    {
     "name": "stderr",
     "output_type": "stream",
     "text": [
      "                                                                     \r"
     ]
    },
    {
     "name": "stdout",
     "output_type": "stream",
     "text": [
      "==> Saving Checkpoints\n"
     ]
    },
    {
     "name": "stderr",
     "output_type": "stream",
     "text": [
      "/usr/local/anaconda3/lib/python3.9/site-packages/sklearn/metrics/_classification.py:1344: UndefinedMetricWarning: Precision and F-score are ill-defined and being set to 0.0 in labels with no predicted samples. Use `zero_division` parameter to control this behavior.\n",
      "  _warn_prf(average, modifier, msg_start, len(result))\n",
      "/volume1/home/mhuang/cellTypeAbundance/src/test/codes/run_M5/utils.py:89: FutureWarning: Series.__getitem__ treating keys as positions is deprecated. In a future version, integer keys will always be treated as labels (consistent with DataFrame behavior). To access a value by position, use `ser.iloc[pos]`\n",
      "  cell_num = int(counts[index])\n",
      "/usr/local/anaconda3/lib/python3.9/site-packages/anndata/_core/anndata.py:1897: UserWarning: Observation names are not unique. To make them unique, call `.obs_names_make_unique`.\n",
      "  utils.warn_names_duplicates(\"obs\")\n"
     ]
    },
    {
     "name": "stdout",
     "output_type": "stream",
     "text": [
      "Got 1924 / 2187 with accuracy' 87.97%\n",
      "==> resample\n",
      "==> Write the resample annotated data to cache\n",
      "==> Write the reweighted data to cache\n",
      "==> Finish!\n"
     ]
    },
    {
     "data": {
      "image/png": "[encoded data removed]",
      "text/plain": [
       "<Figure size 640x480 with 1 Axes>"
      ]
     },
     "metadata": {},
     "output_type": "display_data"
    },
    {
     "name": "stderr",
     "output_type": "stream",
     "text": [
      "/volume1/home/mhuang/cellTypeAbundance/src/test/codes/run_M5/propDEC_end2end.py:222: FutureWarning: The default of observed=False is deprecated and will be changed to True in a future version of pandas. Pass observed=False to retain current behavior or observed=True to adopt the future default and silence this warning.\n",
      "  ground_truth = self.test_adata.obs.groupby('cell.type').count()/len(self.test_adata)\n"
     ]
    }
   ],
   "source": [
    "scores, proportion, f1scores, precision, recall = pipeline(epochs=5)"
   ]
  },
  {
   "cell_type": "code",
   "execution_count": 4,
   "id": "18e52181-f727-425b-b07a-5af07450b6d1",
   "metadata": {},
   "outputs": [
    {
     "data": {
      "text/html": [
       "<div>\n",
       "<style scoped>\n",
       "    .dataframe tbody tr th:only-of-type {\n",
       "        vertical-align: middle;\n",
       "    }\n",
       "\n",
       "    .dataframe tbody tr th {\n",
       "        vertical-align: top;\n",
       "    }\n",
       "\n",
       "    .dataframe thead th {\n",
       "        text-align: right;\n",
       "    }\n",
       "</style>\n",
       "<table border=\"1\" class=\"dataframe\">\n",
       "  <thead>\n",
       "    <tr style=\"text-align: right;\">\n",
       "      <th></th>\n",
       "      <th>ref</th>\n",
       "      <th>predict_1</th>\n",
       "      <th>predict_2</th>\n",
       "      <th>predict_3</th>\n",
       "      <th>predict_4</th>\n",
       "      <th>predict_5</th>\n",
       "      <th>Ground_truth</th>\n",
       "    </tr>\n",
       "  </thead>\n",
       "  <tbody>\n",
       "    <tr>\n",
       "      <th>OPC</th>\n",
       "      <td>0.144558</td>\n",
       "      <td>0.0133</td>\n",
       "      <td>0.0118</td>\n",
       "      <td>0.0237</td>\n",
       "      <td>0.0152</td>\n",
       "      <td>0.0044</td>\n",
       "      <td>0.014632</td>\n",
       "    </tr>\n",
       "    <tr>\n",
       "      <th>astro</th>\n",
       "      <td>0.286735</td>\n",
       "      <td>0.0890</td>\n",
       "      <td>0.0615</td>\n",
       "      <td>0.0431</td>\n",
       "      <td>0.0346</td>\n",
       "      <td>0.0429</td>\n",
       "      <td>0.043439</td>\n",
       "    </tr>\n",
       "    <tr>\n",
       "      <th>endo</th>\n",
       "      <td>0.010884</td>\n",
       "      <td>0.0062</td>\n",
       "      <td>0.0060</td>\n",
       "      <td>0.0033</td>\n",
       "      <td>0.0019</td>\n",
       "      <td>0.0010</td>\n",
       "      <td>0.002286</td>\n",
       "    </tr>\n",
       "    <tr>\n",
       "      <th>mg</th>\n",
       "      <td>0.047279</td>\n",
       "      <td>0.0070</td>\n",
       "      <td>0.0067</td>\n",
       "      <td>0.0011</td>\n",
       "      <td>0.0010</td>\n",
       "      <td>0.0010</td>\n",
       "      <td>0.009145</td>\n",
       "    </tr>\n",
       "    <tr>\n",
       "      <th>neuron</th>\n",
       "      <td>0.041837</td>\n",
       "      <td>0.0133</td>\n",
       "      <td>0.0217</td>\n",
       "      <td>0.0386</td>\n",
       "      <td>0.0433</td>\n",
       "      <td>0.0455</td>\n",
       "      <td>0.044353</td>\n",
       "    </tr>\n",
       "    <tr>\n",
       "      <th>oligo</th>\n",
       "      <td>0.468707</td>\n",
       "      <td>0.8712</td>\n",
       "      <td>0.8922</td>\n",
       "      <td>0.8903</td>\n",
       "      <td>0.9040</td>\n",
       "      <td>0.9051</td>\n",
       "      <td>0.886145</td>\n",
       "    </tr>\n",
       "  </tbody>\n",
       "</table>\n",
       "</div>"
      ],
      "text/plain": [
       "             ref  predict_1  predict_2  predict_3  predict_4  predict_5  \\\n",
       "OPC     0.144558     0.0133     0.0118     0.0237     0.0152     0.0044   \n",
       "astro   0.286735     0.0890     0.0615     0.0431     0.0346     0.0429   \n",
       "endo    0.010884     0.0062     0.0060     0.0033     0.0019     0.0010   \n",
       "mg      0.047279     0.0070     0.0067     0.0011     0.0010     0.0010   \n",
       "neuron  0.041837     0.0133     0.0217     0.0386     0.0433     0.0455   \n",
       "oligo   0.468707     0.8712     0.8922     0.8903     0.9040     0.9051   \n",
       "\n",
       "        Ground_truth  \n",
       "OPC         0.014632  \n",
       "astro       0.043439  \n",
       "endo        0.002286  \n",
       "mg          0.009145  \n",
       "neuron      0.044353  \n",
       "oligo       0.886145  "
      ]
     },
     "execution_count": 4,
     "metadata": {},
     "output_type": "execute_result"
    }
   ],
   "source": [
    "proportion"
   ]
  },
  {
   "cell_type": "code",
   "execution_count": 5,
   "id": "95938002-807c-43a4-93c0-68942594bff8",
   "metadata": {},
   "outputs": [
    {
     "data": {
      "text/html": [
       "<div>\n",
       "<style scoped>\n",
       "    .dataframe tbody tr th:only-of-type {\n",
       "        vertical-align: middle;\n",
       "    }\n",
       "\n",
       "    .dataframe tbody tr th {\n",
       "        vertical-align: top;\n",
       "    }\n",
       "\n",
       "    .dataframe thead th {\n",
       "        text-align: right;\n",
       "    }\n",
       "</style>\n",
       "<table border=\"1\" class=\"dataframe\">\n",
       "  <thead>\n",
       "    <tr style=\"text-align: right;\">\n",
       "      <th></th>\n",
       "      <th>predict_1</th>\n",
       "      <th>predict_2</th>\n",
       "      <th>predict_3</th>\n",
       "      <th>predict_4</th>\n",
       "      <th>predict_5</th>\n",
       "    </tr>\n",
       "  </thead>\n",
       "  <tbody>\n",
       "    <tr>\n",
       "      <th>f1score_micro</th>\n",
       "      <td>0.90535</td>\n",
       "      <td>0.931870</td>\n",
       "      <td>0.903978</td>\n",
       "      <td>0.911751</td>\n",
       "      <td>0.906722</td>\n",
       "    </tr>\n",
       "    <tr>\n",
       "      <th>f1score_macro</th>\n",
       "      <td>0.49467</td>\n",
       "      <td>0.532497</td>\n",
       "      <td>0.389617</td>\n",
       "      <td>0.381150</td>\n",
       "      <td>0.359548</td>\n",
       "    </tr>\n",
       "  </tbody>\n",
       "</table>\n",
       "</div>"
      ],
      "text/plain": [
       "               predict_1  predict_2  predict_3  predict_4  predict_5\n",
       "f1score_micro    0.90535   0.931870   0.903978   0.911751   0.906722\n",
       "f1score_macro    0.49467   0.532497   0.389617   0.381150   0.359548"
      ]
     },
     "execution_count": 5,
     "metadata": {},
     "output_type": "execute_result"
    }
   ],
   "source": [
    "f1scores"
   ]
  },
  {
   "cell_type": "code",
   "execution_count": 6,
   "id": "73204f61-f3fa-4a76-87ea-92d76aed48f8",
   "metadata": {},
   "outputs": [
    {
     "data": {
      "text/html": [
       "<div>\n",
       "<style scoped>\n",
       "    .dataframe tbody tr th:only-of-type {\n",
       "        vertical-align: middle;\n",
       "    }\n",
       "\n",
       "    .dataframe tbody tr th {\n",
       "        vertical-align: top;\n",
       "    }\n",
       "\n",
       "    .dataframe thead th {\n",
       "        text-align: right;\n",
       "    }\n",
       "</style>\n",
       "<table border=\"1\" class=\"dataframe\">\n",
       "  <thead>\n",
       "    <tr style=\"text-align: right;\">\n",
       "      <th></th>\n",
       "      <th>predict_1</th>\n",
       "      <th>predict_2</th>\n",
       "      <th>predict_3</th>\n",
       "      <th>predict_4</th>\n",
       "      <th>predict_5</th>\n",
       "    </tr>\n",
       "  </thead>\n",
       "  <tbody>\n",
       "    <tr>\n",
       "      <th>OPC</th>\n",
       "      <td>0.523810</td>\n",
       "      <td>0.400000</td>\n",
       "      <td>0.127660</td>\n",
       "      <td>0.050000</td>\n",
       "      <td>0.000000</td>\n",
       "    </tr>\n",
       "    <tr>\n",
       "      <th>astro</th>\n",
       "      <td>0.567901</td>\n",
       "      <td>0.710744</td>\n",
       "      <td>0.560976</td>\n",
       "      <td>0.640000</td>\n",
       "      <td>0.612903</td>\n",
       "    </tr>\n",
       "    <tr>\n",
       "      <th>endo</th>\n",
       "      <td>0.000000</td>\n",
       "      <td>0.000000</td>\n",
       "      <td>0.000000</td>\n",
       "      <td>0.000000</td>\n",
       "      <td>0.000000</td>\n",
       "    </tr>\n",
       "    <tr>\n",
       "      <th>mg</th>\n",
       "      <td>0.733333</td>\n",
       "      <td>0.750000</td>\n",
       "      <td>0.000000</td>\n",
       "      <td>0.000000</td>\n",
       "      <td>0.000000</td>\n",
       "    </tr>\n",
       "    <tr>\n",
       "      <th>neuron</th>\n",
       "      <td>0.833333</td>\n",
       "      <td>0.888889</td>\n",
       "      <td>0.780488</td>\n",
       "      <td>0.764045</td>\n",
       "      <td>0.629213</td>\n",
       "    </tr>\n",
       "    <tr>\n",
       "      <th>oligo</th>\n",
       "      <td>0.940071</td>\n",
       "      <td>0.952740</td>\n",
       "      <td>0.941802</td>\n",
       "      <td>0.937094</td>\n",
       "      <td>0.933134</td>\n",
       "    </tr>\n",
       "  </tbody>\n",
       "</table>\n",
       "</div>"
      ],
      "text/plain": [
       "        predict_1  predict_2  predict_3  predict_4  predict_5\n",
       "OPC      0.523810   0.400000   0.127660   0.050000   0.000000\n",
       "astro    0.567901   0.710744   0.560976   0.640000   0.612903\n",
       "endo     0.000000   0.000000   0.000000   0.000000   0.000000\n",
       "mg       0.733333   0.750000   0.000000   0.000000   0.000000\n",
       "neuron   0.833333   0.888889   0.780488   0.764045   0.629213\n",
       "oligo    0.940071   0.952740   0.941802   0.937094   0.933134"
      ]
     },
     "execution_count": 6,
     "metadata": {},
     "output_type": "execute_result"
    }
   ],
   "source": [
    "precision"
   ]
  },
  {
   "cell_type": "code",
   "execution_count": 7,
   "id": "5716dc0a-3517-495c-93a3-8077dfbeda0d",
   "metadata": {},
   "outputs": [
    {
     "data": {
      "text/html": [
       "<div>\n",
       "<style scoped>\n",
       "    .dataframe tbody tr th:only-of-type {\n",
       "        vertical-align: middle;\n",
       "    }\n",
       "\n",
       "    .dataframe tbody tr th {\n",
       "        vertical-align: top;\n",
       "    }\n",
       "\n",
       "    .dataframe thead th {\n",
       "        text-align: right;\n",
       "    }\n",
       "</style>\n",
       "<table border=\"1\" class=\"dataframe\">\n",
       "  <thead>\n",
       "    <tr style=\"text-align: right;\">\n",
       "      <th></th>\n",
       "      <th>predict_1</th>\n",
       "      <th>predict_2</th>\n",
       "      <th>predict_3</th>\n",
       "      <th>predict_4</th>\n",
       "      <th>predict_5</th>\n",
       "    </tr>\n",
       "  </thead>\n",
       "  <tbody>\n",
       "    <tr>\n",
       "      <th>OPC</th>\n",
       "      <td>0.343750</td>\n",
       "      <td>0.250000</td>\n",
       "      <td>0.187500</td>\n",
       "      <td>0.031250</td>\n",
       "      <td>0.000000</td>\n",
       "    </tr>\n",
       "    <tr>\n",
       "      <th>astro</th>\n",
       "      <td>0.968421</td>\n",
       "      <td>0.905263</td>\n",
       "      <td>0.484211</td>\n",
       "      <td>0.505263</td>\n",
       "      <td>0.600000</td>\n",
       "    </tr>\n",
       "    <tr>\n",
       "      <th>endo</th>\n",
       "      <td>0.000000</td>\n",
       "      <td>0.000000</td>\n",
       "      <td>0.000000</td>\n",
       "      <td>0.000000</td>\n",
       "      <td>0.000000</td>\n",
       "    </tr>\n",
       "    <tr>\n",
       "      <th>mg</th>\n",
       "      <td>0.550000</td>\n",
       "      <td>0.450000</td>\n",
       "      <td>0.000000</td>\n",
       "      <td>0.000000</td>\n",
       "      <td>0.000000</td>\n",
       "    </tr>\n",
       "    <tr>\n",
       "      <th>neuron</th>\n",
       "      <td>0.154639</td>\n",
       "      <td>0.412371</td>\n",
       "      <td>0.659794</td>\n",
       "      <td>0.701031</td>\n",
       "      <td>0.577320</td>\n",
       "    </tr>\n",
       "    <tr>\n",
       "      <th>oligo</th>\n",
       "      <td>0.955108</td>\n",
       "      <td>0.977812</td>\n",
       "      <td>0.960268</td>\n",
       "      <td>0.968524</td>\n",
       "      <td>0.964912</td>\n",
       "    </tr>\n",
       "  </tbody>\n",
       "</table>\n",
       "</div>"
      ],
      "text/plain": [
       "        predict_1  predict_2  predict_3  predict_4  predict_5\n",
       "OPC      0.343750   0.250000   0.187500   0.031250   0.000000\n",
       "astro    0.968421   0.905263   0.484211   0.505263   0.600000\n",
       "endo     0.000000   0.000000   0.000000   0.000000   0.000000\n",
       "mg       0.550000   0.450000   0.000000   0.000000   0.000000\n",
       "neuron   0.154639   0.412371   0.659794   0.701031   0.577320\n",
       "oligo    0.955108   0.977812   0.960268   0.968524   0.964912"
      ]
     },
     "execution_count": 7,
     "metadata": {},
     "output_type": "execute_result"
    }
   ],
   "source": [
    "recall"
   ]
  },
  {
   "cell_type": "code",
   "execution_count": null,
   "id": "feea83c2-9a09-4a86-a804-c7dfe19cf237",
   "metadata": {},
   "outputs": [],
   "source": []
  }
 ],
 "metadata": {
  "kernelspec": {
   "display_name": "mamba",
   "language": "python",
   "name": "mamba"
  },
  "language_info": {
   "codemirror_mode": {
    "name": "ipython",
    "version": 3
   },
   "file_extension": ".py",
   "mimetype": "text/x-python",
   "name": "python",
   "nbconvert_exporter": "python",
   "pygments_lexer": "ipython3",
   "version": "3.9.15"
  }
 },
 "nbformat": 4,
 "nbformat_minor": 5
}
