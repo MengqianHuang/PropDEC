{
 "cells": [
  {
   "cell_type": "code",
   "execution_count": 1,
   "id": "a03177e2-4235-44a3-aeab-a221bd2bd401",
   "metadata": {},
   "outputs": [],
   "source": [
    "import scanpy as sc\n",
    "import pandas as pd\n",
    "import numpy as np"
   ]
  },
  {
   "cell_type": "markdown",
   "id": "7d6ac246-2948-4e58-84e4-15fba7af4500",
   "metadata": {
    "jp-MarkdownHeadingCollapsed": true,
    "tags": []
   },
   "source": [
    "# cscc"
   ]
  },
  {
   "cell_type": "code",
   "execution_count": 57,
   "id": "0c7568d1-1917-40b8-b5ae-f2666c8f2792",
   "metadata": {},
   "outputs": [
    {
     "name": "stderr",
     "output_type": "stream",
     "text": [
      "/usr/local/anaconda3/lib/python3.9/site-packages/anndata/__init__.py:51: FutureWarning: `anndata.read` is deprecated, use `anndata.read_h5ad` instead. `ad.read` will be removed in mid 2024.\n",
      "  warnings.warn(\n"
     ]
    },
    {
     "data": {
      "text/plain": [
       "AnnData object with n_obs × n_vars = 47068 × 3000\n",
       "    obs: 'nCount_RNA', 'nFeature_RNA', 'patient', 'tum.norm', 'level1_celltype', 'level2_celltype', 'level3_celltype', 'cell.type', 'n_genes'\n",
       "    var: 'n_cells', 'highly_variable', 'means', 'dispersions', 'dispersions_norm', 'mean', 'std'\n",
       "    uns: 'hvg', 'log1p'"
      ]
     },
     "execution_count": 57,
     "metadata": {},
     "output_type": "execute_result"
    }
   ],
   "source": [
    "adata = sc.read(\"/volume1/home/mhuang/cellTypeAbundance/data/cSCC/cscc.h5ad\")\n",
    "adata"
   ]
  },
  {
   "cell_type": "code",
   "execution_count": 58,
   "id": "297891cd-5b2a-4ef1-ac36-3ee6227e4307",
   "metadata": {},
   "outputs": [
    {
     "data": {
      "text/plain": [
       "View of AnnData object with n_obs × n_vars = 21562 × 3000\n",
       "    obs: 'nCount_RNA', 'nFeature_RNA', 'patient', 'tum.norm', 'level1_celltype', 'level2_celltype', 'level3_celltype', 'cell.type', 'n_genes'\n",
       "    var: 'n_cells', 'highly_variable', 'means', 'dispersions', 'dispersions_norm', 'mean', 'std'\n",
       "    uns: 'hvg', 'log1p'"
      ]
     },
     "execution_count": 58,
     "metadata": {},
     "output_type": "execute_result"
    }
   ],
   "source": [
    "adata = adata[adata.obs['tum.norm']=='Normal']\n",
    "adata\n"
   ]
  },
  {
   "cell_type": "code",
   "execution_count": 59,
   "id": "635ea4ca-6e44-4e7b-9218-3fe47438c1e7",
   "metadata": {},
   "outputs": [
    {
     "data": {
      "text/html": [
       "<div>\n",
       "<style scoped>\n",
       "    .dataframe tbody tr th:only-of-type {\n",
       "        vertical-align: middle;\n",
       "    }\n",
       "\n",
       "    .dataframe tbody tr th {\n",
       "        vertical-align: top;\n",
       "    }\n",
       "\n",
       "    .dataframe thead th {\n",
       "        text-align: right;\n",
       "    }\n",
       "</style>\n",
       "<table border=\"1\" class=\"dataframe\">\n",
       "  <thead>\n",
       "    <tr style=\"text-align: right;\">\n",
       "      <th></th>\n",
       "      <th>nCount_RNA</th>\n",
       "      <th>nFeature_RNA</th>\n",
       "      <th>patient</th>\n",
       "      <th>tum.norm</th>\n",
       "      <th>level1_celltype</th>\n",
       "      <th>level2_celltype</th>\n",
       "      <th>level3_celltype</th>\n",
       "      <th>cell.type</th>\n",
       "      <th>n_genes</th>\n",
       "    </tr>\n",
       "  </thead>\n",
       "  <tbody>\n",
       "    <tr>\n",
       "      <th>AAAGATGTCGTCACGG</th>\n",
       "      <td>3869</td>\n",
       "      <td>1635</td>\n",
       "      <td>P1</td>\n",
       "      <td>Normal</td>\n",
       "      <td>Epithelial</td>\n",
       "      <td>Keratinocyte</td>\n",
       "      <td>Keratinocyte</td>\n",
       "      <td>Epithelial</td>\n",
       "      <td>1635</td>\n",
       "    </tr>\n",
       "    <tr>\n",
       "      <th>AAAGTAGAGAAACGCC</th>\n",
       "      <td>19139</td>\n",
       "      <td>3700</td>\n",
       "      <td>P1</td>\n",
       "      <td>Normal</td>\n",
       "      <td>Epithelial</td>\n",
       "      <td>Normal_KC_Basal</td>\n",
       "      <td>Normal_KC_Basal</td>\n",
       "      <td>Epithelial</td>\n",
       "      <td>3700</td>\n",
       "    </tr>\n",
       "    <tr>\n",
       "      <th>AAATGCCAGGCATGTG</th>\n",
       "      <td>22228</td>\n",
       "      <td>4081</td>\n",
       "      <td>P1</td>\n",
       "      <td>Normal</td>\n",
       "      <td>Epithelial</td>\n",
       "      <td>Normal_KC_Diff</td>\n",
       "      <td>Normal_KC_Diff</td>\n",
       "      <td>Epithelial</td>\n",
       "      <td>4081</td>\n",
       "    </tr>\n",
       "    <tr>\n",
       "      <th>AAATGCCGTTCCAACA</th>\n",
       "      <td>6053</td>\n",
       "      <td>2131</td>\n",
       "      <td>P1</td>\n",
       "      <td>Normal</td>\n",
       "      <td>Epithelial</td>\n",
       "      <td>Normal_KC_Diff</td>\n",
       "      <td>Normal_KC_Diff</td>\n",
       "      <td>Epithelial</td>\n",
       "      <td>2131</td>\n",
       "    </tr>\n",
       "    <tr>\n",
       "      <th>AACCATGAGAAGAAGC</th>\n",
       "      <td>18985</td>\n",
       "      <td>3971</td>\n",
       "      <td>P1</td>\n",
       "      <td>Normal</td>\n",
       "      <td>Epithelial</td>\n",
       "      <td>Normal_KC_Basal</td>\n",
       "      <td>Normal_KC_Basal</td>\n",
       "      <td>Epithelial</td>\n",
       "      <td>3971</td>\n",
       "    </tr>\n",
       "    <tr>\n",
       "      <th>...</th>\n",
       "      <td>...</td>\n",
       "      <td>...</td>\n",
       "      <td>...</td>\n",
       "      <td>...</td>\n",
       "      <td>...</td>\n",
       "      <td>...</td>\n",
       "      <td>...</td>\n",
       "      <td>...</td>\n",
       "      <td>...</td>\n",
       "    </tr>\n",
       "    <tr>\n",
       "      <th>TTTGTCAAGAGTCTGG</th>\n",
       "      <td>5585</td>\n",
       "      <td>1659</td>\n",
       "      <td>P10</td>\n",
       "      <td>Normal</td>\n",
       "      <td>Epithelial</td>\n",
       "      <td>Normal_KC_Diff</td>\n",
       "      <td>Normal_KC_Diff</td>\n",
       "      <td>Epithelial</td>\n",
       "      <td>1659</td>\n",
       "    </tr>\n",
       "    <tr>\n",
       "      <th>TTTGTCAAGTCGTTTG</th>\n",
       "      <td>14207</td>\n",
       "      <td>3541</td>\n",
       "      <td>P10</td>\n",
       "      <td>Normal</td>\n",
       "      <td>LC</td>\n",
       "      <td>LC</td>\n",
       "      <td>LC</td>\n",
       "      <td>Myeloid cells</td>\n",
       "      <td>3541</td>\n",
       "    </tr>\n",
       "    <tr>\n",
       "      <th>TTTGTCACAGTGGGAT</th>\n",
       "      <td>10068</td>\n",
       "      <td>2540</td>\n",
       "      <td>P10</td>\n",
       "      <td>Normal</td>\n",
       "      <td>LC</td>\n",
       "      <td>LC</td>\n",
       "      <td>LC</td>\n",
       "      <td>Myeloid cells</td>\n",
       "      <td>2540</td>\n",
       "    </tr>\n",
       "    <tr>\n",
       "      <th>TTTGTCATCCAGGGCT</th>\n",
       "      <td>5223</td>\n",
       "      <td>1849</td>\n",
       "      <td>P10</td>\n",
       "      <td>Normal</td>\n",
       "      <td>LC</td>\n",
       "      <td>LC</td>\n",
       "      <td>LC</td>\n",
       "      <td>Myeloid cells</td>\n",
       "      <td>1849</td>\n",
       "    </tr>\n",
       "    <tr>\n",
       "      <th>TTTGTCATCGAGGTAG</th>\n",
       "      <td>3644</td>\n",
       "      <td>1598</td>\n",
       "      <td>P10</td>\n",
       "      <td>Normal</td>\n",
       "      <td>Epithelial</td>\n",
       "      <td>Normal_KC_Basal</td>\n",
       "      <td>Normal_KC_Basal</td>\n",
       "      <td>Epithelial</td>\n",
       "      <td>1598</td>\n",
       "    </tr>\n",
       "  </tbody>\n",
       "</table>\n",
       "<p>21562 rows × 9 columns</p>\n",
       "</div>"
      ],
      "text/plain": [
       "                  nCount_RNA  nFeature_RNA patient tum.norm level1_celltype  \\\n",
       "AAAGATGTCGTCACGG        3869          1635      P1   Normal      Epithelial   \n",
       "AAAGTAGAGAAACGCC       19139          3700      P1   Normal      Epithelial   \n",
       "AAATGCCAGGCATGTG       22228          4081      P1   Normal      Epithelial   \n",
       "AAATGCCGTTCCAACA        6053          2131      P1   Normal      Epithelial   \n",
       "AACCATGAGAAGAAGC       18985          3971      P1   Normal      Epithelial   \n",
       "...                      ...           ...     ...      ...             ...   \n",
       "TTTGTCAAGAGTCTGG        5585          1659     P10   Normal      Epithelial   \n",
       "TTTGTCAAGTCGTTTG       14207          3541     P10   Normal              LC   \n",
       "TTTGTCACAGTGGGAT       10068          2540     P10   Normal              LC   \n",
       "TTTGTCATCCAGGGCT        5223          1849     P10   Normal              LC   \n",
       "TTTGTCATCGAGGTAG        3644          1598     P10   Normal      Epithelial   \n",
       "\n",
       "                  level2_celltype  level3_celltype      cell.type  n_genes  \n",
       "AAAGATGTCGTCACGG     Keratinocyte     Keratinocyte     Epithelial     1635  \n",
       "AAAGTAGAGAAACGCC  Normal_KC_Basal  Normal_KC_Basal     Epithelial     3700  \n",
       "AAATGCCAGGCATGTG   Normal_KC_Diff   Normal_KC_Diff     Epithelial     4081  \n",
       "AAATGCCGTTCCAACA   Normal_KC_Diff   Normal_KC_Diff     Epithelial     2131  \n",
       "AACCATGAGAAGAAGC  Normal_KC_Basal  Normal_KC_Basal     Epithelial     3971  \n",
       "...                           ...              ...            ...      ...  \n",
       "TTTGTCAAGAGTCTGG   Normal_KC_Diff   Normal_KC_Diff     Epithelial     1659  \n",
       "TTTGTCAAGTCGTTTG               LC               LC  Myeloid cells     3541  \n",
       "TTTGTCACAGTGGGAT               LC               LC  Myeloid cells     2540  \n",
       "TTTGTCATCCAGGGCT               LC               LC  Myeloid cells     1849  \n",
       "TTTGTCATCGAGGTAG  Normal_KC_Basal  Normal_KC_Basal     Epithelial     1598  \n",
       "\n",
       "[21562 rows x 9 columns]"
      ]
     },
     "execution_count": 59,
     "metadata": {},
     "output_type": "execute_result"
    }
   ],
   "source": [
    "adata.obs"
   ]
  },
  {
   "cell_type": "code",
   "execution_count": 60,
   "id": "8d8d1ef3-d828-4923-b834-59571bf57729",
   "metadata": {},
   "outputs": [],
   "source": [
    "adata_p26 = adata[(adata.obs['patient'] == 'P2') | #(adata.obs['patient'] == 'P3')| \n",
    "                 (adata.obs['patient'] == 'P6')]\n",
    "#不同病人的细胞数\n",
    "#病人+健康1:2378； 2：4037； 3：1739； 4：7432； 5：2489； 6：6555； 7：5435； 8：3499； 9：6432； 10：4474\n",
    "#健康1:969；  2：4037；  3：1293；  4：229；  5：989； 6:4409;  7:2185;  8:586;  9:4677; 10:2188"
   ]
  },
  {
   "cell_type": "code",
   "execution_count": 61,
   "id": "9b5b4d03-3979-4548-b20c-0cf1d950cecf",
   "metadata": {},
   "outputs": [
    {
     "data": {
      "text/plain": [
       "View of AnnData object with n_obs × n_vars = 8446 × 3000\n",
       "    obs: 'nCount_RNA', 'nFeature_RNA', 'patient', 'tum.norm', 'level1_celltype', 'level2_celltype', 'level3_celltype', 'cell.type', 'n_genes'\n",
       "    var: 'n_cells', 'highly_variable', 'means', 'dispersions', 'dispersions_norm', 'mean', 'std'\n",
       "    uns: 'hvg', 'log1p'"
      ]
     },
     "execution_count": 61,
     "metadata": {},
     "output_type": "execute_result"
    }
   ],
   "source": [
    "adata_p26\n"
   ]
  },
  {
   "cell_type": "code",
   "execution_count": 6,
   "id": "d472818f-c926-4d1c-b96d-28449717871a",
   "metadata": {},
   "outputs": [
    {
     "name": "stderr",
     "output_type": "stream",
     "text": [
      "/usr/local/anaconda3/lib/python3.9/site-packages/umap/distances.py:1063: NumbaDeprecationWarning: \u001b[1mThe 'nopython' keyword argument was not supplied to the 'numba.jit' decorator. The implicit default value for this argument is currently False, but it will be changed to True in Numba 0.59.0. See https://numba.readthedocs.io/en/stable/reference/deprecation.html#deprecation-of-object-mode-fall-back-behaviour-when-using-jit for details.\u001b[0m\n",
      "  @numba.jit()\n",
      "/usr/local/anaconda3/lib/python3.9/site-packages/umap/distances.py:1071: NumbaDeprecationWarning: \u001b[1mThe 'nopython' keyword argument was not supplied to the 'numba.jit' decorator. The implicit default value for this argument is currently False, but it will be changed to True in Numba 0.59.0. See https://numba.readthedocs.io/en/stable/reference/deprecation.html#deprecation-of-object-mode-fall-back-behaviour-when-using-jit for details.\u001b[0m\n",
      "  @numba.jit()\n",
      "/usr/local/anaconda3/lib/python3.9/site-packages/umap/distances.py:1086: NumbaDeprecationWarning: \u001b[1mThe 'nopython' keyword argument was not supplied to the 'numba.jit' decorator. The implicit default value for this argument is currently False, but it will be changed to True in Numba 0.59.0. See https://numba.readthedocs.io/en/stable/reference/deprecation.html#deprecation-of-object-mode-fall-back-behaviour-when-using-jit for details.\u001b[0m\n",
      "  @numba.jit()\n",
      "/usr/local/anaconda3/lib/python3.9/site-packages/umap/umap_.py:660: NumbaDeprecationWarning: \u001b[1mThe 'nopython' keyword argument was not supplied to the 'numba.jit' decorator. The implicit default value for this argument is currently False, but it will be changed to True in Numba 0.59.0. See https://numba.readthedocs.io/en/stable/reference/deprecation.html#deprecation-of-object-mode-fall-back-behaviour-when-using-jit for details.\u001b[0m\n",
      "  @numba.jit()\n",
      "2023-12-16 15:11:10.879345: I tensorflow/core/util/util.cc:169] oneDNN custom operations are on. You may see slightly different numerical results due to floating-point round-off errors from different computation orders. To turn them off, set the environment variable `TF_ENABLE_ONEDNN_OPTS=0`.\n",
      "/usr/local/anaconda3/lib/python3.9/site-packages/scanpy/plotting/_tools/scatterplots.py:1251: FutureWarning: The default value of 'ignore' for the `na_action` parameter in pandas.Categorical.map is deprecated and will be changed to 'None' in a future version. Please set na_action to the desired value to avoid seeing this warning\n",
      "  color_vector = pd.Categorical(values.map(color_map))\n",
      "/usr/local/anaconda3/lib/python3.9/site-packages/scanpy/plotting/_tools/scatterplots.py:394: UserWarning: No data for colormapping provided via 'c'. Parameters 'cmap' will be ignored\n",
      "  cax = scatter(\n"
     ]
    },
    {
     "data": {
      "text/plain": [
       "<AxesSubplot: title={'center': 'cSCC'}, xlabel='UMAP1', ylabel='UMAP2'>"
      ]
     },
     "execution_count": 6,
     "metadata": {},
     "output_type": "execute_result"
    },
    {
     "data": {
      "image/png": "[encoded data removed]",
      "text/plain": [
       "<Figure size 640x480 with 1 Axes>"
      ]
     },
     "metadata": {},
     "output_type": "display_data"
    }
   ],
   "source": [
    "sc.pp.neighbors(adata_p26, use_rep=\"X\")\n",
    "sc.tl.umap(adata_p26)\n",
    "sc.pl.umap(adata_p26, legend_fontsize=8,\n",
    "                color=[\"patient\"], title=\"cSCC\", show=False)\n"
   ]
  },
  {
   "cell_type": "code",
   "execution_count": 7,
   "id": "3ec93ac3-4f26-4a0e-918c-adb5a6ebbf78",
   "metadata": {},
   "outputs": [],
   "source": [
    "from dataset import Process\n"
   ]
  },
  {
   "cell_type": "code",
   "execution_count": 56,
   "id": "1de04bc3-3c7a-4d85-9eac-68b447f4b2a2",
   "metadata": {},
   "outputs": [
    {
     "name": "stderr",
     "output_type": "stream",
     "text": [
      "/tmp/ipykernel_757323/1167980001.py:1: FutureWarning: The default of observed=False is deprecated and will be changed to True in a future version of pandas. Pass observed=False to retain current behavior or observed=True to adopt the future default and silence this warning.\n",
      "  adata.obs.groupby('cell.type').count()#/13280\n"
     ]
    },
    {
     "data": {
      "text/html": [
       "<div>\n",
       "<style scoped>\n",
       "    .dataframe tbody tr th:only-of-type {\n",
       "        vertical-align: middle;\n",
       "    }\n",
       "\n",
       "    .dataframe tbody tr th {\n",
       "        vertical-align: top;\n",
       "    }\n",
       "\n",
       "    .dataframe thead th {\n",
       "        text-align: right;\n",
       "    }\n",
       "</style>\n",
       "<table border=\"1\" class=\"dataframe\">\n",
       "  <thead>\n",
       "    <tr style=\"text-align: right;\">\n",
       "      <th></th>\n",
       "      <th>nCount_RNA</th>\n",
       "      <th>nFeature_RNA</th>\n",
       "      <th>patient</th>\n",
       "      <th>tum.norm</th>\n",
       "      <th>level1_celltype</th>\n",
       "      <th>level2_celltype</th>\n",
       "      <th>level3_celltype</th>\n",
       "      <th>n_genes</th>\n",
       "    </tr>\n",
       "    <tr>\n",
       "      <th>cell.type</th>\n",
       "      <th></th>\n",
       "      <th></th>\n",
       "      <th></th>\n",
       "      <th></th>\n",
       "      <th></th>\n",
       "      <th></th>\n",
       "      <th></th>\n",
       "      <th></th>\n",
       "    </tr>\n",
       "  </thead>\n",
       "  <tbody>\n",
       "    <tr>\n",
       "      <th>B Cell</th>\n",
       "      <td>6</td>\n",
       "      <td>6</td>\n",
       "      <td>6</td>\n",
       "      <td>6</td>\n",
       "      <td>6</td>\n",
       "      <td>6</td>\n",
       "      <td>6</td>\n",
       "      <td>6</td>\n",
       "    </tr>\n",
       "    <tr>\n",
       "      <th>Endothelial Cell</th>\n",
       "      <td>258</td>\n",
       "      <td>258</td>\n",
       "      <td>258</td>\n",
       "      <td>258</td>\n",
       "      <td>258</td>\n",
       "      <td>258</td>\n",
       "      <td>258</td>\n",
       "      <td>258</td>\n",
       "    </tr>\n",
       "    <tr>\n",
       "      <th>Epithelial</th>\n",
       "      <td>16179</td>\n",
       "      <td>16179</td>\n",
       "      <td>16179</td>\n",
       "      <td>16179</td>\n",
       "      <td>16179</td>\n",
       "      <td>16179</td>\n",
       "      <td>16179</td>\n",
       "      <td>16179</td>\n",
       "    </tr>\n",
       "    <tr>\n",
       "      <th>Fibroblast</th>\n",
       "      <td>235</td>\n",
       "      <td>235</td>\n",
       "      <td>235</td>\n",
       "      <td>235</td>\n",
       "      <td>235</td>\n",
       "      <td>235</td>\n",
       "      <td>235</td>\n",
       "      <td>235</td>\n",
       "    </tr>\n",
       "    <tr>\n",
       "      <th>Melanocyte</th>\n",
       "      <td>266</td>\n",
       "      <td>266</td>\n",
       "      <td>266</td>\n",
       "      <td>266</td>\n",
       "      <td>266</td>\n",
       "      <td>266</td>\n",
       "      <td>266</td>\n",
       "      <td>266</td>\n",
       "    </tr>\n",
       "    <tr>\n",
       "      <th>Myeloid cells</th>\n",
       "      <td>4130</td>\n",
       "      <td>4130</td>\n",
       "      <td>4130</td>\n",
       "      <td>4130</td>\n",
       "      <td>4130</td>\n",
       "      <td>4130</td>\n",
       "      <td>4130</td>\n",
       "      <td>4130</td>\n",
       "    </tr>\n",
       "    <tr>\n",
       "      <th>NK</th>\n",
       "      <td>27</td>\n",
       "      <td>27</td>\n",
       "      <td>27</td>\n",
       "      <td>27</td>\n",
       "      <td>27</td>\n",
       "      <td>27</td>\n",
       "      <td>27</td>\n",
       "      <td>27</td>\n",
       "    </tr>\n",
       "    <tr>\n",
       "      <th>Tcell</th>\n",
       "      <td>461</td>\n",
       "      <td>461</td>\n",
       "      <td>461</td>\n",
       "      <td>461</td>\n",
       "      <td>461</td>\n",
       "      <td>461</td>\n",
       "      <td>461</td>\n",
       "      <td>461</td>\n",
       "    </tr>\n",
       "  </tbody>\n",
       "</table>\n",
       "</div>"
      ],
      "text/plain": [
       "                  nCount_RNA  nFeature_RNA  patient  tum.norm  \\\n",
       "cell.type                                                       \n",
       "B Cell                     6             6        6         6   \n",
       "Endothelial Cell         258           258      258       258   \n",
       "Epithelial             16179         16179    16179     16179   \n",
       "Fibroblast               235           235      235       235   \n",
       "Melanocyte               266           266      266       266   \n",
       "Myeloid cells           4130          4130     4130      4130   \n",
       "NK                        27            27       27        27   \n",
       "Tcell                    461           461      461       461   \n",
       "\n",
       "                  level1_celltype  level2_celltype  level3_celltype  n_genes  \n",
       "cell.type                                                                     \n",
       "B Cell                          6                6                6        6  \n",
       "Endothelial Cell              258              258              258      258  \n",
       "Epithelial                  16179            16179            16179    16179  \n",
       "Fibroblast                    235              235              235      235  \n",
       "Melanocyte                    266              266              266      266  \n",
       "Myeloid cells                4130             4130             4130     4130  \n",
       "NK                             27               27               27       27  \n",
       "Tcell                         461              461              461      461  "
      ]
     },
     "execution_count": 56,
     "metadata": {},
     "output_type": "execute_result"
    }
   ],
   "source": [
    "adata.obs.groupby('cell.type').count()#/13280"
   ]
  },
  {
   "cell_type": "code",
   "execution_count": 22,
   "id": "6b0a644d-c2f3-49a9-9635-e6f7ebbc08ce",
   "metadata": {},
   "outputs": [
    {
     "ename": "ValueError",
     "evalue": "'a' cannot be empty unless no samples are taken",
     "output_type": "error",
     "traceback": [
      "\u001b[0;31m---------------------------------------------------------------------------\u001b[0m",
      "\u001b[0;31mValueError\u001b[0m                                Traceback (most recent call last)",
      "\u001b[0;32m/tmp/ipykernel_757323/3706811221.py\u001b[0m in \u001b[0;36m<cell line: 5>\u001b[0;34m()\u001b[0m\n\u001b[1;32m      3\u001b[0m \u001b[0;34m\u001b[0m\u001b[0m\n\u001b[1;32m      4\u001b[0m \u001b[0mdata_pipeline\u001b[0m \u001b[0;34m=\u001b[0m \u001b[0mProcess\u001b[0m\u001b[0;34m(\u001b[0m\u001b[0;34m\"cSCC\"\u001b[0m\u001b[0;34m)\u001b[0m\u001b[0;34m\u001b[0m\u001b[0;34m\u001b[0m\u001b[0m\n\u001b[0;32m----> 5\u001b[0;31m \u001b[0mdata_pipeline\u001b[0m\u001b[0;34m.\u001b[0m\u001b[0msplit_train_test\u001b[0m\u001b[0;34m(\u001b[0m\u001b[0madata\u001b[0m\u001b[0;34m,\u001b[0m \u001b[0mtrain_list\u001b[0m\u001b[0;34m,\u001b[0m \u001b[0mtest_list\u001b[0m\u001b[0;34m)\u001b[0m\u001b[0;34m\u001b[0m\u001b[0;34m\u001b[0m\u001b[0m\n\u001b[0m",
      "\u001b[0;32m~/cellTypeAbundance/src/test/dataset.py\u001b[0m in \u001b[0;36msplit_train_test\u001b[0;34m(self, adata, train_proportion, test_proportion)\u001b[0m\n\u001b[1;32m    173\u001b[0m                 \u001b[0mtrain_indices\u001b[0m \u001b[0;34m=\u001b[0m \u001b[0mnp\u001b[0m\u001b[0;34m.\u001b[0m\u001b[0mrandom\u001b[0m\u001b[0;34m.\u001b[0m\u001b[0mchoice\u001b[0m\u001b[0;34m(\u001b[0m\u001b[0mcell_indices\u001b[0m\u001b[0;34m,\u001b[0m \u001b[0mtrain_num\u001b[0m\u001b[0;34m,\u001b[0m \u001b[0mreplace\u001b[0m\u001b[0;34m=\u001b[0m\u001b[0;32mTrue\u001b[0m\u001b[0;34m)\u001b[0m \u001b[0;31m#有放回抽样\u001b[0m\u001b[0;34m\u001b[0m\u001b[0;34m\u001b[0m\u001b[0m\n\u001b[1;32m    174\u001b[0m                 \u001b[0mremaining_indices\u001b[0m \u001b[0;34m=\u001b[0m \u001b[0mnp\u001b[0m\u001b[0;34m.\u001b[0m\u001b[0msetdiff1d\u001b[0m\u001b[0;34m(\u001b[0m\u001b[0mcell_indices\u001b[0m\u001b[0;34m,\u001b[0m \u001b[0mtrain_indices\u001b[0m\u001b[0;34m)\u001b[0m\u001b[0;34m\u001b[0m\u001b[0;34m\u001b[0m\u001b[0m\n\u001b[0;32m--> 175\u001b[0;31m                 \u001b[0mtest_indices\u001b[0m \u001b[0;34m=\u001b[0m \u001b[0mnp\u001b[0m\u001b[0;34m.\u001b[0m\u001b[0mrandom\u001b[0m\u001b[0;34m.\u001b[0m\u001b[0mchoice\u001b[0m\u001b[0;34m(\u001b[0m\u001b[0mremaining_indices\u001b[0m\u001b[0;34m,\u001b[0m \u001b[0mtest_num\u001b[0m\u001b[0;34m,\u001b[0m \u001b[0mreplace\u001b[0m\u001b[0;34m=\u001b[0m\u001b[0;32mTrue\u001b[0m\u001b[0;34m)\u001b[0m\u001b[0;34m\u001b[0m\u001b[0;34m\u001b[0m\u001b[0m\n\u001b[0m\u001b[1;32m    176\u001b[0m \u001b[0;34m\u001b[0m\u001b[0m\n\u001b[1;32m    177\u001b[0m                 \u001b[0madata\u001b[0m\u001b[0;34m.\u001b[0m\u001b[0mobs\u001b[0m\u001b[0;34m[\u001b[0m\u001b[0;34m'dataset_type'\u001b[0m\u001b[0;34m]\u001b[0m\u001b[0;34m[\u001b[0m\u001b[0mtrain_indices\u001b[0m\u001b[0;34m]\u001b[0m \u001b[0;34m=\u001b[0m \u001b[0;34m'train'\u001b[0m\u001b[0;34m\u001b[0m\u001b[0;34m\u001b[0m\u001b[0m\n",
      "\u001b[0;32mnumpy/random/mtrand.pyx\u001b[0m in \u001b[0;36mnumpy.random.mtrand.RandomState.choice\u001b[0;34m()\u001b[0m\n",
      "\u001b[0;31mValueError\u001b[0m: 'a' cannot be empty unless no samples are taken"
     ]
    }
   ],
   "source": [
    "train_list=[0.003, 0.013, 0.689, 0.011, 0.012, 0.249, 0.001, 0.022]\n",
    "test_list=[0.003, 0.013, 0.249, 0.011, 0.012, 0.689, 0.001, 0.022]\n",
    "\n",
    "data_pipeline = Process(\"cSCC\")\n",
    "data_pipeline.split_train_test(adata_p26, train_list, test_list)\n"
   ]
  },
  {
   "cell_type": "markdown",
   "id": "bb8aafb6-8195-4202-b001-85cc5b98fcdb",
   "metadata": {
    "tags": []
   },
   "source": [
    "# AD"
   ]
  },
  {
   "cell_type": "markdown",
   "id": "39e1971a-0fc4-48e0-aec5-c4563c33a5bb",
   "metadata": {
    "jp-MarkdownHeadingCollapsed": true,
    "tags": []
   },
   "source": [
    "## E2一"
   ]
  },
  {
   "cell_type": "markdown",
   "id": "cd94a114-7da9-4e79-933d-3e4133691f22",
   "metadata": {
    "jp-MarkdownHeadingCollapsed": true,
    "tags": []
   },
   "source": [
    "### (1)data preprocess"
   ]
  },
  {
   "cell_type": "code",
   "execution_count": 2,
   "id": "31c8a086-6f85-49fc-8d0a-d5a57f4370f0",
   "metadata": {},
   "outputs": [
    {
     "name": "stderr",
     "output_type": "stream",
     "text": [
      "/usr/local/anaconda3/lib/python3.9/site-packages/anndata/__init__.py:51: FutureWarning: `anndata.read` is deprecated, use `anndata.read_h5ad` instead. `ad.read` will be removed in mid 2024.\n",
      "  warnings.warn(\n",
      "/usr/local/anaconda3/lib/python3.9/site-packages/anndata/_core/anndata.py:1897: UserWarning: Observation names are not unique. To make them unique, call `.obs_names_make_unique`.\n",
      "  utils.warn_names_duplicates(\"obs\")\n"
     ]
    }
   ],
   "source": [
    "adata = sc.read(\"/volume1/home/mhuang/cellTypeAbundance/data/AD/ad_raw.h5ad\")"
   ]
  },
  {
   "cell_type": "code",
   "execution_count": 3,
   "id": "5332f402-59d6-475c-9adb-b738c8a369b4",
   "metadata": {
    "tags": []
   },
   "outputs": [
    {
     "name": "stderr",
     "output_type": "stream",
     "text": [
      "/usr/local/anaconda3/lib/python3.9/site-packages/anndata/_core/anndata.py:1897: UserWarning: Observation names are not unique. To make them unique, call `.obs_names_make_unique`.\n",
      "  utils.warn_names_duplicates(\"obs\")\n",
      "/usr/local/anaconda3/lib/python3.9/site-packages/anndata/_core/anndata.py:1897: UserWarning: Observation names are not unique. To make them unique, call `.obs_names_make_unique`.\n",
      "  utils.warn_names_duplicates(\"obs\")\n",
      "/usr/local/anaconda3/lib/python3.9/site-packages/anndata/_core/anndata.py:1897: UserWarning: Observation names are not unique. To make them unique, call `.obs_names_make_unique`.\n",
      "  utils.warn_names_duplicates(\"obs\")\n",
      "/usr/local/anaconda3/lib/python3.9/site-packages/scanpy/preprocessing/_highly_variable_genes.py:220: FutureWarning: The default of observed=False is deprecated and will be changed to True in a future version of pandas. Pass observed=False to retain current behavior or observed=True to adopt the future default and silence this warning.\n",
      "  disp_grouped = df.groupby('mean_bin')['dispersions']\n",
      "/usr/local/anaconda3/lib/python3.9/site-packages/scanpy/preprocessing/_simple.py:843: UserWarning: Received a view of an AnnData. Making a copy.\n",
      "  view_to_actual(adata)\n",
      "/usr/local/anaconda3/lib/python3.9/site-packages/anndata/_core/anndata.py:1897: UserWarning: Observation names are not unique. To make them unique, call `.obs_names_make_unique`.\n",
      "  utils.warn_names_duplicates(\"obs\")\n"
     ]
    }
   ],
   "source": [
    "from dataset import Process\n",
    "data_pipeline = Process(\"AD\")\n",
    "adata = data_pipeline.preprocess(adata)"
   ]
  },
  {
   "cell_type": "code",
   "execution_count": 4,
   "id": "0e6f3f30-5604-411b-a7ef-269684362712",
   "metadata": {},
   "outputs": [],
   "source": [
    "adata_Ct34 = adata[adata.obs['batch']=='Ct3_Ct4']\n",
    "#Ct1_Ct2 1122; Ct3_Ct4: 3043;  Ct5_Ct6: 2376\n"
   ]
  },
  {
   "cell_type": "code",
   "execution_count": 5,
   "id": "15439f9d-71f1-49c7-a100-455d85d15a8f",
   "metadata": {},
   "outputs": [],
   "source": [
    "adata_Ct34 = adata_Ct34[adata_Ct34.obs['patient']!='Ct-un']\n",
    "adata_Ct34 = adata_Ct34[adata_Ct34.obs['cellType']!='unID'] #unID指的是unidentify\n",
    "adata_Ct34 = adata_Ct34[adata_Ct34.obs['cellType']!='doublet']"
   ]
  },
  {
   "cell_type": "code",
   "execution_count": 6,
   "id": "e3a85a84-e280-4d5e-ad50-c6271124a608",
   "metadata": {},
   "outputs": [],
   "source": [
    "adata_AD12 = adata[adata.obs['batch']=='AD1_AD2']\n",
    "adata_AD12\n",
    "#AD1_AD2:3028; AD3_AD4:2605;  AD5_AD6:1040\n",
    "\n",
    "adata_AD12 = adata_AD12[adata_AD12.obs['patient']!='AD-un']\n",
    "adata_AD12 = adata_AD12[adata_AD12.obs['cellType']!='unID'] #unID指的是unidentify\n",
    "adata_AD12 = adata_AD12[adata_AD12.obs['cellType']!='doublet']"
   ]
  },
  {
   "cell_type": "code",
   "execution_count": 7,
   "id": "23904e01-b373-4a46-886f-5d32ac14c2be",
   "metadata": {},
   "outputs": [
    {
     "name": "stderr",
     "output_type": "stream",
     "text": [
      "/usr/local/anaconda3/lib/python3.9/site-packages/umap/distances.py:1063: NumbaDeprecationWarning: \u001b[1mThe 'nopython' keyword argument was not supplied to the 'numba.jit' decorator. The implicit default value for this argument is currently False, but it will be changed to True in Numba 0.59.0. See https://numba.readthedocs.io/en/stable/reference/deprecation.html#deprecation-of-object-mode-fall-back-behaviour-when-using-jit for details.\u001b[0m\n",
      "  @numba.jit()\n",
      "/usr/local/anaconda3/lib/python3.9/site-packages/umap/distances.py:1071: NumbaDeprecationWarning: \u001b[1mThe 'nopython' keyword argument was not supplied to the 'numba.jit' decorator. The implicit default value for this argument is currently False, but it will be changed to True in Numba 0.59.0. See https://numba.readthedocs.io/en/stable/reference/deprecation.html#deprecation-of-object-mode-fall-back-behaviour-when-using-jit for details.\u001b[0m\n",
      "  @numba.jit()\n",
      "/usr/local/anaconda3/lib/python3.9/site-packages/umap/distances.py:1086: NumbaDeprecationWarning: \u001b[1mThe 'nopython' keyword argument was not supplied to the 'numba.jit' decorator. The implicit default value for this argument is currently False, but it will be changed to True in Numba 0.59.0. See https://numba.readthedocs.io/en/stable/reference/deprecation.html#deprecation-of-object-mode-fall-back-behaviour-when-using-jit for details.\u001b[0m\n",
      "  @numba.jit()\n",
      "/usr/local/anaconda3/lib/python3.9/site-packages/umap/umap_.py:660: NumbaDeprecationWarning: \u001b[1mThe 'nopython' keyword argument was not supplied to the 'numba.jit' decorator. The implicit default value for this argument is currently False, but it will be changed to True in Numba 0.59.0. See https://numba.readthedocs.io/en/stable/reference/deprecation.html#deprecation-of-object-mode-fall-back-behaviour-when-using-jit for details.\u001b[0m\n",
      "  @numba.jit()\n",
      "2023-12-20 14:14:44.742963: I tensorflow/core/util/util.cc:169] oneDNN custom operations are on. You may see slightly different numerical results due to floating-point round-off errors from different computation orders. To turn them off, set the environment variable `TF_ENABLE_ONEDNN_OPTS=0`.\n",
      "/usr/local/anaconda3/lib/python3.9/site-packages/scanpy/plotting/_tools/scatterplots.py:1251: FutureWarning: The default value of 'ignore' for the `na_action` parameter in pandas.Categorical.map is deprecated and will be changed to 'None' in a future version. Please set na_action to the desired value to avoid seeing this warning\n",
      "  color_vector = pd.Categorical(values.map(color_map))\n",
      "/usr/local/anaconda3/lib/python3.9/site-packages/scanpy/plotting/_tools/scatterplots.py:394: UserWarning: No data for colormapping provided via 'c'. Parameters 'cmap' will be ignored\n",
      "  cax = scatter(\n"
     ]
    },
    {
     "data": {
      "text/plain": [
       "<AxesSubplot: title={'center': 'AD'}, xlabel='UMAP1', ylabel='UMAP2'>"
      ]
     },
     "execution_count": 7,
     "metadata": {},
     "output_type": "execute_result"
    },
    {
     "data": {
      "image/png": "[encoded data removed]",
      "text/plain": [
       "<Figure size 640x480 with 1 Axes>"
      ]
     },
     "metadata": {},
     "output_type": "display_data"
    }
   ],
   "source": [
    "sc.pp.neighbors(adata_Ct34, use_rep=\"X\")\n",
    "sc.tl.umap(adata_Ct34)\n",
    "sc.pl.umap(adata_Ct34, legend_fontsize=8,\n",
    "                color=[\"patient\"], title=\"AD\", show=False)"
   ]
  },
  {
   "cell_type": "code",
   "execution_count": 8,
   "id": "0c0bbf18-5c8f-41f8-ab36-ff11ad652e7b",
   "metadata": {},
   "outputs": [],
   "source": [
    "#还要改名为相同的列名\n",
    "adata_Ct34.obs.rename(columns={'cellType': 'cell.type'}, inplace=True)"
   ]
  },
  {
   "cell_type": "code",
   "execution_count": 24,
   "id": "bd843460-1ca2-4361-b1c4-a5caa6120eac",
   "metadata": {},
   "outputs": [],
   "source": [
    "#根据这两个样本来确定train和test的细胞比例\n",
    "# adata_Ct34.obs.groupby('cell.type').count()/2940\n",
    "# adata_AD12.obs.groupby('cellType').count()/2187\n"
   ]
  },
  {
   "cell_type": "code",
   "execution_count": 9,
   "id": "fe4b62ff-9f16-4e51-9b35-d58c460b7e7f",
   "metadata": {},
   "outputs": [],
   "source": [
    "train_list = [0.14, 0.28, 0.01, 0.05, 0.05, 0.47]\n",
    "test_list = [0.01, 0.04, 0.01, 0.01, 0.05, 0.88]"
   ]
  },
  {
   "cell_type": "code",
   "execution_count": 10,
   "id": "4694d273-1196-4294-a98c-c60c48ef8f45",
   "metadata": {
    "tags": []
   },
   "outputs": [
    {
     "name": "stderr",
     "output_type": "stream",
     "text": [
      "/volume1/home/mhuang/cellTypeAbundance/src/test/dataset.py:170: SettingWithCopyWarning: \n",
      "A value is trying to be set on a copy of a slice from a DataFrame\n",
      "\n",
      "See the caveats in the documentation: https://pandas.pydata.org/pandas-docs/stable/user_guide/indexing.html#returning-a-view-versus-a-copy\n",
      "  adata.obs['dataset_type'][train_indices] = 'train'\n",
      "/volume1/home/mhuang/cellTypeAbundance/src/test/dataset.py:170: FutureWarning: Series.__setitem__ treating keys as positions is deprecated. In a future version, integer keys will always be treated as labels (consistent with DataFrame behavior). To set a value by position, use `ser.iloc[pos] = value`\n",
      "  adata.obs['dataset_type'][train_indices] = 'train'\n",
      "/volume1/home/mhuang/cellTypeAbundance/src/test/dataset.py:171: SettingWithCopyWarning: \n",
      "A value is trying to be set on a copy of a slice from a DataFrame\n",
      "\n",
      "See the caveats in the documentation: https://pandas.pydata.org/pandas-docs/stable/user_guide/indexing.html#returning-a-view-versus-a-copy\n",
      "  adata.obs['dataset_type'][test_indices] = 'test'\n",
      "/volume1/home/mhuang/cellTypeAbundance/src/test/dataset.py:171: FutureWarning: Series.__setitem__ treating keys as positions is deprecated. In a future version, integer keys will always be treated as labels (consistent with DataFrame behavior). To set a value by position, use `ser.iloc[pos] = value`\n",
      "  adata.obs['dataset_type'][test_indices] = 'test'\n",
      "/volume1/home/mhuang/cellTypeAbundance/src/test/dataset.py:177: SettingWithCopyWarning: \n",
      "A value is trying to be set on a copy of a slice from a DataFrame\n",
      "\n",
      "See the caveats in the documentation: https://pandas.pydata.org/pandas-docs/stable/user_guide/indexing.html#returning-a-view-versus-a-copy\n",
      "  adata.obs['dataset_type'][train_indices] = 'train'\n",
      "/volume1/home/mhuang/cellTypeAbundance/src/test/dataset.py:177: FutureWarning: Series.__setitem__ treating keys as positions is deprecated. In a future version, integer keys will always be treated as labels (consistent with DataFrame behavior). To set a value by position, use `ser.iloc[pos] = value`\n",
      "  adata.obs['dataset_type'][train_indices] = 'train'\n",
      "/volume1/home/mhuang/cellTypeAbundance/src/test/dataset.py:178: SettingWithCopyWarning: \n",
      "A value is trying to be set on a copy of a slice from a DataFrame\n",
      "\n",
      "See the caveats in the documentation: https://pandas.pydata.org/pandas-docs/stable/user_guide/indexing.html#returning-a-view-versus-a-copy\n",
      "  adata.obs['dataset_type'][test_indices] = 'test'\n",
      "/volume1/home/mhuang/cellTypeAbundance/src/test/dataset.py:178: FutureWarning: Series.__setitem__ treating keys as positions is deprecated. In a future version, integer keys will always be treated as labels (consistent with DataFrame behavior). To set a value by position, use `ser.iloc[pos] = value`\n",
      "  adata.obs['dataset_type'][test_indices] = 'test'\n",
      "/usr/local/anaconda3/lib/python3.9/site-packages/anndata/_core/anndata.py:1292: ImplicitModificationWarning: Trying to modify attribute `.obs` of view, initializing view as actual.\n",
      "  df[key] = c\n",
      "/usr/local/anaconda3/lib/python3.9/site-packages/anndata/_core/anndata.py:1292: ImplicitModificationWarning: Trying to modify attribute `.obs` of view, initializing view as actual.\n",
      "  df[key] = c\n"
     ]
    }
   ],
   "source": [
    "train_adata, test_adata = data_pipeline.split_train_test(adata_Ct34, train_list, test_list)"
   ]
  },
  {
   "cell_type": "code",
   "execution_count": 32,
   "id": "25668499-170d-42e2-8b0b-4cd508c51f24",
   "metadata": {},
   "outputs": [],
   "source": [
    "# #ref_adata=1793x3000, test_adata=540x3000\n",
    "# #由于这个个数，如果选batch size是64/128/256都会让最后只剩一个细胞，没办法跑模型；所以只能随机去除一个细胞类型最多的细胞。\n",
    "# #ref_adata.obs.groupby('cell.type').count() #发现细胞数最多的细胞是oligo\n",
    "\n",
    "# oblige_cells = train_adata[ref_adata.obs['cell.type'] == 'oligo'].obs.index.tolist()\n",
    "# cell_to_remove = 'CCCTCCTAGCGAGAAA-1'#np.random.choice(oblige_cells) #以后都随机移除这个细胞\n",
    "# train_adata = train_adata[train_adata.obs.index != cell_to_remove]\n",
    "# train_adata.write(\"/volume1/home/mhuang/cellTypeAbundance/data/AD/AD_train.h5ad\")"
   ]
  },
  {
   "cell_type": "markdown",
   "id": "eb414378-c6da-436a-b430-4c5f90706ca3",
   "metadata": {
    "tags": []
   },
   "source": [
    "### (2)model training"
   ]
  },
  {
   "cell_type": "code",
   "execution_count": 1,
   "id": "5fe81c54-8411-4d7c-bb52-e5284dff1c71",
   "metadata": {},
   "outputs": [],
   "source": [
    "from propDEC_end2end import propDEC\n",
    "import scanpy as sc\n",
    "import matplotlib.pyplot as plt"
   ]
  },
  {
   "cell_type": "code",
   "execution_count": 2,
   "id": "84920584-1ec5-4992-9671-5e7666f4b2fa",
   "metadata": {},
   "outputs": [
    {
     "name": "stderr",
     "output_type": "stream",
     "text": [
      "/usr/local/anaconda3/lib/python3.9/site-packages/anndata/__init__.py:51: FutureWarning: `anndata.read` is deprecated, use `anndata.read_h5ad` instead. `ad.read` will be removed in mid 2024.\n",
      "  warnings.warn(\n",
      "/usr/local/anaconda3/lib/python3.9/site-packages/anndata/__init__.py:51: FutureWarning: `anndata.read` is deprecated, use `anndata.read_h5ad` instead. `ad.read` will be removed in mid 2024.\n",
      "  warnings.warn(\n"
     ]
    }
   ],
   "source": [
    "# create dataset\n",
    "pipeline = propDEC(input_size=3000, num_classes=6, metric=\"t-sne\", mode=\"soft\")#soft/hard/km\n",
    "\n",
    "train_dataset = pipeline.create_dataset(\"AD\", \"AD_train.h5ad\", mode=\"train\")\n",
    "test_dataset = pipeline.create_dataset(\"AD\", \"AD_test.h5ad\", mode=\"test\")\n",
    "\n",
    "ref_adata = train_dataset.train_adata\n",
    "test_adata = test_dataset.test_adata"
   ]
  },
  {
   "cell_type": "code",
   "execution_count": 3,
   "id": "dce6fb48-2b7d-496e-907a-668528a501d8",
   "metadata": {},
   "outputs": [
    {
     "name": "stderr",
     "output_type": "stream",
     "text": [
      "                                                                          \r"
     ]
    },
    {
     "name": "stdout",
     "output_type": "stream",
     "text": [
      "==> Saving Checkpoints\n",
      "==> Finish training !\n"
     ]
    },
    {
     "name": "stderr",
     "output_type": "stream",
     "text": [
      "                                                                        \r"
     ]
    },
    {
     "name": "stdout",
     "output_type": "stream",
     "text": [
      "==> Saving Checkpoints\n",
      "Got 566 / 572 with accuracy' 98.95%\n",
      "==> resample\n",
      "==> Write the resample annotated data to cache\n"
     ]
    },
    {
     "name": "stderr",
     "output_type": "stream",
     "text": [
      "/volume1/home/mhuang/cellTypeAbundance/src/test/utils.py:95: FutureWarning: Series.__getitem__ treating keys as positions is deprecated. In a future version, integer keys will always be treated as labels (consistent with DataFrame behavior). To access a value by position, use `ser.iloc[pos]`\n",
      "  cell_num = int(counts[index])\n",
      "/usr/local/anaconda3/lib/python3.9/site-packages/anndata/_core/anndata.py:1897: UserWarning: Observation names are not unique. To make them unique, call `.obs_names_make_unique`.\n",
      "  utils.warn_names_duplicates(\"obs\")\n"
     ]
    },
    {
     "name": "stdout",
     "output_type": "stream",
     "text": [
      "==> Loading Checkpoints\n"
     ]
    },
    {
     "name": "stderr",
     "output_type": "stream",
     "text": [
      "/usr/local/anaconda3/lib/python3.9/site-packages/anndata/__init__.py:51: FutureWarning: `anndata.read` is deprecated, use `anndata.read_h5ad` instead. `ad.read` will be removed in mid 2024.\n",
      "  warnings.warn(\n",
      "                                                                        \r"
     ]
    },
    {
     "name": "stdout",
     "output_type": "stream",
     "text": [
      "==> Saving Checkpoints\n",
      "Got 561 / 572 with accuracy' 98.08%\n",
      "Early Stopping\n",
      "==> Finish!\n"
     ]
    }
   ],
   "source": [
    "scores, proportion, f1scores, precision, recall = pipeline(epochs=5)"
   ]
  },
  {
   "cell_type": "code",
   "execution_count": 6,
   "id": "b8a34120-4f2d-4272-92d4-81888a5c4b66",
   "metadata": {},
   "outputs": [
    {
     "name": "stderr",
     "output_type": "stream",
     "text": [
      "/tmp/ipykernel_2222097/2942725635.py:2: FutureWarning: The default of observed=False is deprecated and will be changed to True in a future version of pandas. Pass observed=False to retain current behavior or observed=True to adopt the future default and silence this warning.\n",
      "  ground_truth = test_adata.obs.groupby('cell.type').count()/564\n"
     ]
    }
   ],
   "source": [
    "import pandas as pd\n",
    "ground_truth = test_adata.obs.groupby('cell.type').count()/564\n",
    "ground_truth = ground_truth.iloc[:,0]\n",
    "ground_truth.name='Ground_truth'\n",
    "proportion = pd.concat([proportion,ground_truth],axis=1)"
   ]
  },
  {
   "cell_type": "code",
   "execution_count": 38,
   "id": "04208b8d-9438-4bfe-9d15-a2328aa3aa38",
   "metadata": {
    "collapsed": true,
    "jupyter": {
     "outputs_hidden": true
    },
    "tags": []
   },
   "outputs": [
    {
     "data": {
      "text/html": [
       "<div>\n",
       "<style scoped>\n",
       "    .dataframe tbody tr th:only-of-type {\n",
       "        vertical-align: middle;\n",
       "    }\n",
       "\n",
       "    .dataframe tbody tr th {\n",
       "        vertical-align: top;\n",
       "    }\n",
       "\n",
       "    .dataframe thead th {\n",
       "        text-align: right;\n",
       "    }\n",
       "</style>\n",
       "<table border=\"1\" class=\"dataframe\">\n",
       "  <thead>\n",
       "    <tr style=\"text-align: right;\">\n",
       "      <th></th>\n",
       "      <th>ref</th>\n",
       "      <th>predict_1</th>\n",
       "      <th>predict_2</th>\n",
       "      <th>Ground_truth</th>\n",
       "    </tr>\n",
       "  </thead>\n",
       "  <tbody>\n",
       "    <tr>\n",
       "      <th>OPC</th>\n",
       "      <td>0.166282</td>\n",
       "      <td>0.0162</td>\n",
       "      <td>0.0181</td>\n",
       "      <td>0.014184</td>\n",
       "    </tr>\n",
       "    <tr>\n",
       "      <th>astro</th>\n",
       "      <td>0.332564</td>\n",
       "      <td>0.0627</td>\n",
       "      <td>0.0669</td>\n",
       "      <td>0.062057</td>\n",
       "    </tr>\n",
       "    <tr>\n",
       "      <th>endo</th>\n",
       "      <td>0.011547</td>\n",
       "      <td>0.0098</td>\n",
       "      <td>0.0103</td>\n",
       "      <td>0.014184</td>\n",
       "    </tr>\n",
       "    <tr>\n",
       "      <th>mg</th>\n",
       "      <td>0.058891</td>\n",
       "      <td>0.0192</td>\n",
       "      <td>0.0214</td>\n",
       "      <td>0.014184</td>\n",
       "    </tr>\n",
       "    <tr>\n",
       "      <th>neuron</th>\n",
       "      <td>0.040416</td>\n",
       "      <td>0.0582</td>\n",
       "      <td>0.0588</td>\n",
       "      <td>0.056738</td>\n",
       "    </tr>\n",
       "    <tr>\n",
       "      <th>oligo</th>\n",
       "      <td>0.390300</td>\n",
       "      <td>0.8338</td>\n",
       "      <td>0.8245</td>\n",
       "      <td>0.838652</td>\n",
       "    </tr>\n",
       "  </tbody>\n",
       "</table>\n",
       "</div>"
      ],
      "text/plain": [
       "             ref  predict_1  predict_2  Ground_truth\n",
       "OPC     0.166282     0.0162     0.0181      0.014184\n",
       "astro   0.332564     0.0627     0.0669      0.062057\n",
       "endo    0.011547     0.0098     0.0103      0.014184\n",
       "mg      0.058891     0.0192     0.0214      0.014184\n",
       "neuron  0.040416     0.0582     0.0588      0.056738\n",
       "oligo   0.390300     0.8338     0.8245      0.838652"
      ]
     },
     "execution_count": 38,
     "metadata": {},
     "output_type": "execute_result"
    }
   ],
   "source": [
    "proportion"
   ]
  },
  {
   "cell_type": "code",
   "execution_count": 39,
   "id": "886e1355-76bf-4c3f-8b42-b16c9fe3eb8d",
   "metadata": {
    "collapsed": true,
    "jupyter": {
     "outputs_hidden": true
    },
    "tags": []
   },
   "outputs": [
    {
     "data": {
      "text/html": [
       "<div>\n",
       "<style scoped>\n",
       "    .dataframe tbody tr th:only-of-type {\n",
       "        vertical-align: middle;\n",
       "    }\n",
       "\n",
       "    .dataframe tbody tr th {\n",
       "        vertical-align: top;\n",
       "    }\n",
       "\n",
       "    .dataframe thead th {\n",
       "        text-align: right;\n",
       "    }\n",
       "</style>\n",
       "<table border=\"1\" class=\"dataframe\">\n",
       "  <thead>\n",
       "    <tr style=\"text-align: right;\">\n",
       "      <th></th>\n",
       "      <th>0</th>\n",
       "      <th>0</th>\n",
       "    </tr>\n",
       "  </thead>\n",
       "  <tbody>\n",
       "    <tr>\n",
       "      <th>f1score_micro</th>\n",
       "      <td>0.991135</td>\n",
       "      <td>0.984043</td>\n",
       "    </tr>\n",
       "    <tr>\n",
       "      <th>f1score_macro</th>\n",
       "      <td>0.957119</td>\n",
       "      <td>0.918009</td>\n",
       "    </tr>\n",
       "  </tbody>\n",
       "</table>\n",
       "</div>"
      ],
      "text/plain": [
       "                      0         0\n",
       "f1score_micro  0.991135  0.984043\n",
       "f1score_macro  0.957119  0.918009"
      ]
     },
     "execution_count": 39,
     "metadata": {},
     "output_type": "execute_result"
    }
   ],
   "source": [
    "f1scores"
   ]
  },
  {
   "cell_type": "code",
   "execution_count": 40,
   "id": "0e4cb53c-5237-46a5-b91d-887aca252f3f",
   "metadata": {
    "collapsed": true,
    "jupyter": {
     "outputs_hidden": true
    },
    "tags": []
   },
   "outputs": [
    {
     "data": {
      "text/html": [
       "<div>\n",
       "<style scoped>\n",
       "    .dataframe tbody tr th:only-of-type {\n",
       "        vertical-align: middle;\n",
       "    }\n",
       "\n",
       "    .dataframe tbody tr th {\n",
       "        vertical-align: top;\n",
       "    }\n",
       "\n",
       "    .dataframe thead th {\n",
       "        text-align: right;\n",
       "    }\n",
       "</style>\n",
       "<table border=\"1\" class=\"dataframe\">\n",
       "  <thead>\n",
       "    <tr style=\"text-align: right;\">\n",
       "      <th></th>\n",
       "      <th>0</th>\n",
       "      <th>0</th>\n",
       "    </tr>\n",
       "  </thead>\n",
       "  <tbody>\n",
       "    <tr>\n",
       "      <th>OPC</th>\n",
       "      <td>0.888889</td>\n",
       "      <td>0.800000</td>\n",
       "    </tr>\n",
       "    <tr>\n",
       "      <th>astro</th>\n",
       "      <td>1.000000</td>\n",
       "      <td>0.972222</td>\n",
       "    </tr>\n",
       "    <tr>\n",
       "      <th>endo</th>\n",
       "      <td>1.000000</td>\n",
       "      <td>1.000000</td>\n",
       "    </tr>\n",
       "    <tr>\n",
       "      <th>mg</th>\n",
       "      <td>0.800000</td>\n",
       "      <td>0.666667</td>\n",
       "    </tr>\n",
       "    <tr>\n",
       "      <th>neuron</th>\n",
       "      <td>0.969697</td>\n",
       "      <td>0.969697</td>\n",
       "    </tr>\n",
       "    <tr>\n",
       "      <th>oligo</th>\n",
       "      <td>0.997872</td>\n",
       "      <td>0.997859</td>\n",
       "    </tr>\n",
       "  </tbody>\n",
       "</table>\n",
       "</div>"
      ],
      "text/plain": [
       "               0         0\n",
       "OPC     0.888889  0.800000\n",
       "astro   1.000000  0.972222\n",
       "endo    1.000000  1.000000\n",
       "mg      0.800000  0.666667\n",
       "neuron  0.969697  0.969697\n",
       "oligo   0.997872  0.997859"
      ]
     },
     "execution_count": 40,
     "metadata": {},
     "output_type": "execute_result"
    }
   ],
   "source": [
    "precision"
   ]
  },
  {
   "cell_type": "code",
   "execution_count": 41,
   "id": "1af4585c-4be9-48b6-8655-0a0c601dfce4",
   "metadata": {
    "collapsed": true,
    "jupyter": {
     "outputs_hidden": true
    },
    "tags": []
   },
   "outputs": [
    {
     "data": {
      "text/html": [
       "<div>\n",
       "<style scoped>\n",
       "    .dataframe tbody tr th:only-of-type {\n",
       "        vertical-align: middle;\n",
       "    }\n",
       "\n",
       "    .dataframe tbody tr th {\n",
       "        vertical-align: top;\n",
       "    }\n",
       "\n",
       "    .dataframe thead th {\n",
       "        text-align: right;\n",
       "    }\n",
       "</style>\n",
       "<table border=\"1\" class=\"dataframe\">\n",
       "  <thead>\n",
       "    <tr style=\"text-align: right;\">\n",
       "      <th></th>\n",
       "      <th>0</th>\n",
       "      <th>0</th>\n",
       "    </tr>\n",
       "  </thead>\n",
       "  <tbody>\n",
       "    <tr>\n",
       "      <th>OPC</th>\n",
       "      <td>1.000000</td>\n",
       "      <td>1.000000</td>\n",
       "    </tr>\n",
       "    <tr>\n",
       "      <th>astro</th>\n",
       "      <td>1.000000</td>\n",
       "      <td>1.000000</td>\n",
       "    </tr>\n",
       "    <tr>\n",
       "      <th>endo</th>\n",
       "      <td>0.875000</td>\n",
       "      <td>0.750000</td>\n",
       "    </tr>\n",
       "    <tr>\n",
       "      <th>mg</th>\n",
       "      <td>1.000000</td>\n",
       "      <td>1.000000</td>\n",
       "    </tr>\n",
       "    <tr>\n",
       "      <th>neuron</th>\n",
       "      <td>1.000000</td>\n",
       "      <td>1.000000</td>\n",
       "    </tr>\n",
       "    <tr>\n",
       "      <th>oligo</th>\n",
       "      <td>0.991543</td>\n",
       "      <td>0.985201</td>\n",
       "    </tr>\n",
       "  </tbody>\n",
       "</table>\n",
       "</div>"
      ],
      "text/plain": [
       "               0         0\n",
       "OPC     1.000000  1.000000\n",
       "astro   1.000000  1.000000\n",
       "endo    0.875000  0.750000\n",
       "mg      1.000000  1.000000\n",
       "neuron  1.000000  1.000000\n",
       "oligo   0.991543  0.985201"
      ]
     },
     "execution_count": 41,
     "metadata": {},
     "output_type": "execute_result"
    }
   ],
   "source": [
    "recall"
   ]
  },
  {
   "cell_type": "markdown",
   "id": "a398c270-d54c-4c30-a0c9-6550fed639e4",
   "metadata": {
    "jp-MarkdownHeadingCollapsed": true,
    "tags": []
   },
   "source": [
    "## E2二"
   ]
  },
  {
   "cell_type": "markdown",
   "id": "e51c5ff3-4bb4-4768-a064-b1f9f7d60477",
   "metadata": {
    "tags": []
   },
   "source": [
    "### (1)data preprocess"
   ]
  },
  {
   "cell_type": "code",
   "execution_count": 42,
   "id": "6e05e968-0d03-4833-bf27-e8452ebee72a",
   "metadata": {},
   "outputs": [
    {
     "name": "stderr",
     "output_type": "stream",
     "text": [
      "/usr/local/anaconda3/lib/python3.9/site-packages/anndata/__init__.py:51: FutureWarning: `anndata.read` is deprecated, use `anndata.read_h5ad` instead. `ad.read` will be removed in mid 2024.\n",
      "  warnings.warn(\n",
      "/usr/local/anaconda3/lib/python3.9/site-packages/anndata/_core/anndata.py:1897: UserWarning: Observation names are not unique. To make them unique, call `.obs_names_make_unique`.\n",
      "  utils.warn_names_duplicates(\"obs\")\n"
     ]
    }
   ],
   "source": [
    "adata = sc.read(\"/volume1/home/mhuang/cellTypeAbundance/data/AD/ad_raw.h5ad\")"
   ]
  },
  {
   "cell_type": "code",
   "execution_count": 43,
   "id": "cc3ecd9b-e416-48b5-b58f-a21395926b18",
   "metadata": {
    "collapsed": true,
    "jupyter": {
     "outputs_hidden": true
    },
    "tags": []
   },
   "outputs": [
    {
     "name": "stderr",
     "output_type": "stream",
     "text": [
      "/usr/local/anaconda3/lib/python3.9/site-packages/anndata/_core/anndata.py:1897: UserWarning: Observation names are not unique. To make them unique, call `.obs_names_make_unique`.\n",
      "  utils.warn_names_duplicates(\"obs\")\n",
      "/usr/local/anaconda3/lib/python3.9/site-packages/anndata/_core/anndata.py:1897: UserWarning: Observation names are not unique. To make them unique, call `.obs_names_make_unique`.\n",
      "  utils.warn_names_duplicates(\"obs\")\n",
      "/usr/local/anaconda3/lib/python3.9/site-packages/anndata/_core/anndata.py:1897: UserWarning: Observation names are not unique. To make them unique, call `.obs_names_make_unique`.\n",
      "  utils.warn_names_duplicates(\"obs\")\n",
      "/usr/local/anaconda3/lib/python3.9/site-packages/scanpy/preprocessing/_highly_variable_genes.py:220: FutureWarning: The default of observed=False is deprecated and will be changed to True in a future version of pandas. Pass observed=False to retain current behavior or observed=True to adopt the future default and silence this warning.\n",
      "  disp_grouped = df.groupby('mean_bin')['dispersions']\n",
      "/usr/local/anaconda3/lib/python3.9/site-packages/scanpy/preprocessing/_simple.py:843: UserWarning: Received a view of an AnnData. Making a copy.\n",
      "  view_to_actual(adata)\n",
      "/usr/local/anaconda3/lib/python3.9/site-packages/anndata/_core/anndata.py:1897: UserWarning: Observation names are not unique. To make them unique, call `.obs_names_make_unique`.\n",
      "  utils.warn_names_duplicates(\"obs\")\n"
     ]
    }
   ],
   "source": [
    "from dataset import Process\n",
    "data_pipeline = Process(\"AD\")\n",
    "adata = data_pipeline.preprocess(adata)"
   ]
  },
  {
   "cell_type": "code",
   "execution_count": 44,
   "id": "93f9e5ed-9e8c-4233-9bfa-7460a404557b",
   "metadata": {},
   "outputs": [],
   "source": [
    "adata_Ct34 = adata[adata.obs['batch']=='Ct3_Ct4']\n",
    "#Ct1_Ct2 1122; Ct3_Ct4: 3043;  Ct5_Ct6: 2376"
   ]
  },
  {
   "cell_type": "code",
   "execution_count": 45,
   "id": "67c56906-53c2-4534-91c0-30b59900ddc4",
   "metadata": {},
   "outputs": [],
   "source": [
    "adata_Ct34 = adata_Ct34[adata_Ct34.obs['patient']!='Ct-un']\n",
    "adata_Ct34 = adata_Ct34[adata_Ct34.obs['cellType']!='unID'] #unID指的是unidentify\n",
    "adata_Ct34 = adata_Ct34[adata_Ct34.obs['cellType']!='doublet']"
   ]
  },
  {
   "cell_type": "code",
   "execution_count": 46,
   "id": "d786ba74-1bac-4505-971a-2230d30fd3fc",
   "metadata": {},
   "outputs": [],
   "source": [
    "adata_Ct56 = adata[adata.obs['batch']=='Ct5_Ct6']\n",
    "\n",
    "#AD1_AD2:3028; AD3_AD4:2605;  AD5_AD6:1040\n",
    "\n",
    "adata_Ct56 = adata_Ct56[adata_Ct56.obs['patient']!='Ct-un'] #AD-un\n",
    "adata_Ct56 = adata_Ct56[adata_Ct56.obs['cellType']!='unID'] #unID指的是unidentify\n",
    "adata_Ct56 = adata_Ct56[adata_Ct56.obs['cellType']!='doublet']"
   ]
  },
  {
   "cell_type": "code",
   "execution_count": 47,
   "id": "e947b433-89dd-4676-93ca-47c361000c16",
   "metadata": {},
   "outputs": [],
   "source": [
    "import anndata\n",
    "adata_ct3456 = anndata.concat([adata_Ct34, adata_Ct56],axis=0)"
   ]
  },
  {
   "cell_type": "code",
   "execution_count": 27,
   "id": "14bfe32d-23e1-421b-aae6-35496e927d84",
   "metadata": {},
   "outputs": [
    {
     "name": "stderr",
     "output_type": "stream",
     "text": [
      "/usr/local/anaconda3/lib/python3.9/site-packages/scanpy/plotting/_tools/scatterplots.py:1251: FutureWarning: The default value of 'ignore' for the `na_action` parameter in pandas.Categorical.map is deprecated and will be changed to 'None' in a future version. Please set na_action to the desired value to avoid seeing this warning\n",
      "  color_vector = pd.Categorical(values.map(color_map))\n",
      "/usr/local/anaconda3/lib/python3.9/site-packages/scanpy/plotting/_tools/scatterplots.py:394: UserWarning: No data for colormapping provided via 'c'. Parameters 'cmap' will be ignored\n",
      "  cax = scatter(\n"
     ]
    },
    {
     "data": {
      "text/plain": [
       "<AxesSubplot: title={'center': 'Ct'}, xlabel='UMAP1', ylabel='UMAP2'>"
      ]
     },
     "execution_count": 27,
     "metadata": {},
     "output_type": "execute_result"
    },
    {
     "data": {
      "image/png": "[encoded data removed]",
      "text/plain": [
       "<Figure size 640x480 with 1 Axes>"
      ]
     },
     "metadata": {},
     "output_type": "display_data"
    }
   ],
   "source": [
    "sc.pp.neighbors(adata_ct3456, use_rep=\"X\")\n",
    "sc.tl.umap(adata_ct3456)\n",
    "sc.pl.umap(adata_ct3456, legend_fontsize=8,\n",
    "                color=[\"patient\"], title=\"Ct\", show=False)"
   ]
  },
  {
   "cell_type": "code",
   "execution_count": 48,
   "id": "98dee61b-43d4-437b-90b0-25e33bba935d",
   "metadata": {},
   "outputs": [],
   "source": [
    "adata_ct3456.obs.rename(columns={'cellType': 'cell.type'}, inplace=True)"
   ]
  },
  {
   "cell_type": "code",
   "execution_count": 49,
   "id": "cd4b6573-ae4b-489c-83d1-ea81caca8f03",
   "metadata": {
    "collapsed": true,
    "jupyter": {
     "outputs_hidden": true
    },
    "tags": []
   },
   "outputs": [
    {
     "name": "stderr",
     "output_type": "stream",
     "text": [
      "/volume1/home/mhuang/cellTypeAbundance/src/test/dataset.py:170: SettingWithCopyWarning: \n",
      "A value is trying to be set on a copy of a slice from a DataFrame\n",
      "\n",
      "See the caveats in the documentation: https://pandas.pydata.org/pandas-docs/stable/user_guide/indexing.html#returning-a-view-versus-a-copy\n",
      "  adata.obs['dataset_type'][train_indices] = 'train'\n",
      "/volume1/home/mhuang/cellTypeAbundance/src/test/dataset.py:170: FutureWarning: Series.__setitem__ treating keys as positions is deprecated. In a future version, integer keys will always be treated as labels (consistent with DataFrame behavior). To set a value by position, use `ser.iloc[pos] = value`\n",
      "  adata.obs['dataset_type'][train_indices] = 'train'\n",
      "/volume1/home/mhuang/cellTypeAbundance/src/test/dataset.py:171: SettingWithCopyWarning: \n",
      "A value is trying to be set on a copy of a slice from a DataFrame\n",
      "\n",
      "See the caveats in the documentation: https://pandas.pydata.org/pandas-docs/stable/user_guide/indexing.html#returning-a-view-versus-a-copy\n",
      "  adata.obs['dataset_type'][test_indices] = 'test'\n",
      "/volume1/home/mhuang/cellTypeAbundance/src/test/dataset.py:171: FutureWarning: Series.__setitem__ treating keys as positions is deprecated. In a future version, integer keys will always be treated as labels (consistent with DataFrame behavior). To set a value by position, use `ser.iloc[pos] = value`\n",
      "  adata.obs['dataset_type'][test_indices] = 'test'\n",
      "/volume1/home/mhuang/cellTypeAbundance/src/test/dataset.py:177: SettingWithCopyWarning: \n",
      "A value is trying to be set on a copy of a slice from a DataFrame\n",
      "\n",
      "See the caveats in the documentation: https://pandas.pydata.org/pandas-docs/stable/user_guide/indexing.html#returning-a-view-versus-a-copy\n",
      "  adata.obs['dataset_type'][train_indices] = 'train'\n",
      "/volume1/home/mhuang/cellTypeAbundance/src/test/dataset.py:177: FutureWarning: Series.__setitem__ treating keys as positions is deprecated. In a future version, integer keys will always be treated as labels (consistent with DataFrame behavior). To set a value by position, use `ser.iloc[pos] = value`\n",
      "  adata.obs['dataset_type'][train_indices] = 'train'\n",
      "/volume1/home/mhuang/cellTypeAbundance/src/test/dataset.py:178: SettingWithCopyWarning: \n",
      "A value is trying to be set on a copy of a slice from a DataFrame\n",
      "\n",
      "See the caveats in the documentation: https://pandas.pydata.org/pandas-docs/stable/user_guide/indexing.html#returning-a-view-versus-a-copy\n",
      "  adata.obs['dataset_type'][test_indices] = 'test'\n",
      "/volume1/home/mhuang/cellTypeAbundance/src/test/dataset.py:178: FutureWarning: Series.__setitem__ treating keys as positions is deprecated. In a future version, integer keys will always be treated as labels (consistent with DataFrame behavior). To set a value by position, use `ser.iloc[pos] = value`\n",
      "  adata.obs['dataset_type'][test_indices] = 'test'\n",
      "/usr/local/anaconda3/lib/python3.9/site-packages/anndata/_core/anndata.py:1292: ImplicitModificationWarning: Trying to modify attribute `.obs` of view, initializing view as actual.\n",
      "  df[key] = c\n",
      "/usr/local/anaconda3/lib/python3.9/site-packages/anndata/_core/anndata.py:1292: ImplicitModificationWarning: Trying to modify attribute `.obs` of view, initializing view as actual.\n",
      "  df[key] = c\n"
     ]
    }
   ],
   "source": [
    "train_list = [0.14, 0.28, 0.01, 0.05, 0.05, 0.47]\n",
    "test_list = [0.14, 0.28, 0.01, 0.05, 0.05, 0.47]\n",
    "train_adata, test_adata = data_pipeline.split_train_test(adata_ct3456, train_list, test_list)"
   ]
  },
  {
   "cell_type": "markdown",
   "id": "12b3630f-71e2-4edd-90f2-ec055da3ea55",
   "metadata": {
    "tags": []
   },
   "source": [
    "### (2)model training"
   ]
  },
  {
   "cell_type": "code",
   "execution_count": 50,
   "id": "0e823ae8-77a8-43e7-a1fa-7aa73337220d",
   "metadata": {},
   "outputs": [],
   "source": [
    "from propDEC_end2end import propDEC\n",
    "import scanpy as sc\n",
    "import matplotlib.pyplot as plt"
   ]
  },
  {
   "cell_type": "code",
   "execution_count": 51,
   "id": "13e26629-acc0-4fbe-b200-200f91c185ac",
   "metadata": {},
   "outputs": [
    {
     "name": "stderr",
     "output_type": "stream",
     "text": [
      "/usr/local/anaconda3/lib/python3.9/site-packages/anndata/__init__.py:51: FutureWarning: `anndata.read` is deprecated, use `anndata.read_h5ad` instead. `ad.read` will be removed in mid 2024.\n",
      "  warnings.warn(\n",
      "/usr/local/anaconda3/lib/python3.9/site-packages/anndata/__init__.py:51: FutureWarning: `anndata.read` is deprecated, use `anndata.read_h5ad` instead. `ad.read` will be removed in mid 2024.\n",
      "  warnings.warn(\n"
     ]
    }
   ],
   "source": [
    "# create dataset\n",
    "pipeline = propDEC(input_size=3000, num_classes=6, metric=\"t-sne\", mode=\"soft\")#soft/hard/km\n",
    "\n",
    "train_dataset = pipeline.create_dataset(\"AD\", \"AD_train.h5ad\", mode=\"train\")\n",
    "test_dataset = pipeline.create_dataset(\"AD\", \"AD_test.h5ad\", mode=\"test\")\n",
    "\n",
    "ref_adata = train_dataset.train_adata\n",
    "test_adata = test_dataset.test_adata"
   ]
  },
  {
   "cell_type": "code",
   "execution_count": 52,
   "id": "507885eb-0188-43cc-8dff-15f8781d2ebc",
   "metadata": {},
   "outputs": [
    {
     "name": "stderr",
     "output_type": "stream",
     "text": [
      "                                                                          \r"
     ]
    },
    {
     "name": "stdout",
     "output_type": "stream",
     "text": [
      "==> Saving Checkpoints\n",
      "==> Finish training !\n"
     ]
    },
    {
     "name": "stderr",
     "output_type": "stream",
     "text": [
      "                                                                        \r"
     ]
    },
    {
     "name": "stdout",
     "output_type": "stream",
     "text": [
      "==> Saving Checkpoints\n",
      "Got 1305 / 1307 with accuracy' 99.85%\n",
      "==> resample\n",
      "==> Write the resample annotated data to cache\n"
     ]
    },
    {
     "name": "stderr",
     "output_type": "stream",
     "text": [
      "/volume1/home/mhuang/cellTypeAbundance/src/test/utils.py:111: FutureWarning: Series.__getitem__ treating keys as positions is deprecated. In a future version, integer keys will always be treated as labels (consistent with DataFrame behavior). To access a value by position, use `ser.iloc[pos]`\n",
      "  cell_num = int(counts[index])\n",
      "/usr/local/anaconda3/lib/python3.9/site-packages/anndata/_core/anndata.py:1897: UserWarning: Observation names are not unique. To make them unique, call `.obs_names_make_unique`.\n",
      "  utils.warn_names_duplicates(\"obs\")\n",
      "/usr/local/anaconda3/lib/python3.9/site-packages/anndata/_core/anndata.py:1897: UserWarning: Observation names are not unique. To make them unique, call `.obs_names_make_unique`.\n",
      "  utils.warn_names_duplicates(\"obs\")\n",
      "/usr/local/anaconda3/lib/python3.9/site-packages/anndata/__init__.py:51: FutureWarning: `anndata.read` is deprecated, use `anndata.read_h5ad` instead. `ad.read` will be removed in mid 2024.\n",
      "  warnings.warn(\n"
     ]
    },
    {
     "name": "stdout",
     "output_type": "stream",
     "text": [
      "==> Loading Checkpoints\n"
     ]
    },
    {
     "name": "stderr",
     "output_type": "stream",
     "text": [
      "                                                                        \r"
     ]
    },
    {
     "name": "stdout",
     "output_type": "stream",
     "text": [
      "==> Saving Checkpoints\n",
      "Got 1305 / 1307 with accuracy' 99.85%\n",
      "Early Stopping\n",
      "==> Finish!\n"
     ]
    }
   ],
   "source": [
    "scores, proportion, f1scores, precision, recall = pipeline(epochs=5)"
   ]
  },
  {
   "cell_type": "code",
   "execution_count": 55,
   "id": "ec55d4a7-99d3-44df-8c9d-a1707ace83a2",
   "metadata": {},
   "outputs": [
    {
     "name": "stderr",
     "output_type": "stream",
     "text": [
      "/tmp/ipykernel_865482/3702268972.py:1: FutureWarning: The default of observed=False is deprecated and will be changed to True in a future version of pandas. Pass observed=False to retain current behavior or observed=True to adopt the future default and silence this warning.\n",
      "  ground_truth = test_adata.obs.groupby('cell.type').count()/1307\n"
     ]
    }
   ],
   "source": [
    "ground_truth = test_adata.obs.groupby('cell.type').count()/1307\n",
    "ground_truth = ground_truth.iloc[:,0]\n",
    "ground_truth.name='Ground_truth'\n",
    "proportion = pd.concat([proportion,ground_truth],axis=1)"
   ]
  },
  {
   "cell_type": "code",
   "execution_count": 56,
   "id": "ee60df3d-6298-4263-a890-a30b274d82e8",
   "metadata": {},
   "outputs": [
    {
     "data": {
      "text/html": [
       "<div>\n",
       "<style scoped>\n",
       "    .dataframe tbody tr th:only-of-type {\n",
       "        vertical-align: middle;\n",
       "    }\n",
       "\n",
       "    .dataframe tbody tr th {\n",
       "        vertical-align: top;\n",
       "    }\n",
       "\n",
       "    .dataframe thead th {\n",
       "        text-align: right;\n",
       "    }\n",
       "</style>\n",
       "<table border=\"1\" class=\"dataframe\">\n",
       "  <thead>\n",
       "    <tr style=\"text-align: right;\">\n",
       "      <th></th>\n",
       "      <th>ref</th>\n",
       "      <th>predict_1</th>\n",
       "      <th>predict_2</th>\n",
       "      <th>Ground_truth</th>\n",
       "    </tr>\n",
       "  </thead>\n",
       "  <tbody>\n",
       "    <tr>\n",
       "      <th>OPC</th>\n",
       "      <td>0.166557</td>\n",
       "      <td>0.1656</td>\n",
       "      <td>0.1654</td>\n",
       "      <td>0.165264</td>\n",
       "    </tr>\n",
       "    <tr>\n",
       "      <th>astro</th>\n",
       "      <td>0.333113</td>\n",
       "      <td>0.3308</td>\n",
       "      <td>0.3313</td>\n",
       "      <td>0.330528</td>\n",
       "    </tr>\n",
       "    <tr>\n",
       "      <th>endo</th>\n",
       "      <td>0.008592</td>\n",
       "      <td>0.0068</td>\n",
       "      <td>0.0068</td>\n",
       "      <td>0.006886</td>\n",
       "    </tr>\n",
       "    <tr>\n",
       "      <th>mg</th>\n",
       "      <td>0.041970</td>\n",
       "      <td>0.0402</td>\n",
       "      <td>0.0398</td>\n",
       "      <td>0.039786</td>\n",
       "    </tr>\n",
       "    <tr>\n",
       "      <th>neuron</th>\n",
       "      <td>0.059484</td>\n",
       "      <td>0.0575</td>\n",
       "      <td>0.0580</td>\n",
       "      <td>0.058914</td>\n",
       "    </tr>\n",
       "    <tr>\n",
       "      <th>oligo</th>\n",
       "      <td>0.390284</td>\n",
       "      <td>0.3991</td>\n",
       "      <td>0.3986</td>\n",
       "      <td>0.398623</td>\n",
       "    </tr>\n",
       "  </tbody>\n",
       "</table>\n",
       "</div>"
      ],
      "text/plain": [
       "             ref  predict_1  predict_2  Ground_truth\n",
       "OPC     0.166557     0.1656     0.1654      0.165264\n",
       "astro   0.333113     0.3308     0.3313      0.330528\n",
       "endo    0.008592     0.0068     0.0068      0.006886\n",
       "mg      0.041970     0.0402     0.0398      0.039786\n",
       "neuron  0.059484     0.0575     0.0580      0.058914\n",
       "oligo   0.390284     0.3991     0.3986      0.398623"
      ]
     },
     "execution_count": 56,
     "metadata": {},
     "output_type": "execute_result"
    }
   ],
   "source": [
    "proportion"
   ]
  },
  {
   "cell_type": "code",
   "execution_count": 57,
   "id": "c906eb15-e7d7-4055-936f-36b0ec825508",
   "metadata": {},
   "outputs": [
    {
     "data": {
      "text/html": [
       "<div>\n",
       "<style scoped>\n",
       "    .dataframe tbody tr th:only-of-type {\n",
       "        vertical-align: middle;\n",
       "    }\n",
       "\n",
       "    .dataframe tbody tr th {\n",
       "        vertical-align: top;\n",
       "    }\n",
       "\n",
       "    .dataframe thead th {\n",
       "        text-align: right;\n",
       "    }\n",
       "</style>\n",
       "<table border=\"1\" class=\"dataframe\">\n",
       "  <thead>\n",
       "    <tr style=\"text-align: right;\">\n",
       "      <th></th>\n",
       "      <th>0</th>\n",
       "      <th>0</th>\n",
       "    </tr>\n",
       "  </thead>\n",
       "  <tbody>\n",
       "    <tr>\n",
       "      <th>f1score_micro</th>\n",
       "      <td>0.998470</td>\n",
       "      <td>0.998470</td>\n",
       "    </tr>\n",
       "    <tr>\n",
       "      <th>f1score_macro</th>\n",
       "      <td>0.998398</td>\n",
       "      <td>0.998398</td>\n",
       "    </tr>\n",
       "  </tbody>\n",
       "</table>\n",
       "</div>"
      ],
      "text/plain": [
       "                      0         0\n",
       "f1score_micro  0.998470  0.998470\n",
       "f1score_macro  0.998398  0.998398"
      ]
     },
     "execution_count": 57,
     "metadata": {},
     "output_type": "execute_result"
    }
   ],
   "source": [
    "f1scores"
   ]
  },
  {
   "cell_type": "code",
   "execution_count": 58,
   "id": "14011c49-0aa4-4de5-894e-a35416c0a629",
   "metadata": {},
   "outputs": [
    {
     "data": {
      "text/html": [
       "<div>\n",
       "<style scoped>\n",
       "    .dataframe tbody tr th:only-of-type {\n",
       "        vertical-align: middle;\n",
       "    }\n",
       "\n",
       "    .dataframe tbody tr th {\n",
       "        vertical-align: top;\n",
       "    }\n",
       "\n",
       "    .dataframe thead th {\n",
       "        text-align: right;\n",
       "    }\n",
       "</style>\n",
       "<table border=\"1\" class=\"dataframe\">\n",
       "  <thead>\n",
       "    <tr style=\"text-align: right;\">\n",
       "      <th></th>\n",
       "      <th>0</th>\n",
       "      <th>0</th>\n",
       "    </tr>\n",
       "  </thead>\n",
       "  <tbody>\n",
       "    <tr>\n",
       "      <th>OPC</th>\n",
       "      <td>1.000000</td>\n",
       "      <td>1.000000</td>\n",
       "    </tr>\n",
       "    <tr>\n",
       "      <th>astro</th>\n",
       "      <td>0.997691</td>\n",
       "      <td>0.997691</td>\n",
       "    </tr>\n",
       "    <tr>\n",
       "      <th>endo</th>\n",
       "      <td>1.000000</td>\n",
       "      <td>1.000000</td>\n",
       "    </tr>\n",
       "    <tr>\n",
       "      <th>mg</th>\n",
       "      <td>1.000000</td>\n",
       "      <td>1.000000</td>\n",
       "    </tr>\n",
       "    <tr>\n",
       "      <th>neuron</th>\n",
       "      <td>1.000000</td>\n",
       "      <td>1.000000</td>\n",
       "    </tr>\n",
       "    <tr>\n",
       "      <th>oligo</th>\n",
       "      <td>0.998081</td>\n",
       "      <td>0.998081</td>\n",
       "    </tr>\n",
       "  </tbody>\n",
       "</table>\n",
       "</div>"
      ],
      "text/plain": [
       "               0         0\n",
       "OPC     1.000000  1.000000\n",
       "astro   0.997691  0.997691\n",
       "endo    1.000000  1.000000\n",
       "mg      1.000000  1.000000\n",
       "neuron  1.000000  1.000000\n",
       "oligo   0.998081  0.998081"
      ]
     },
     "execution_count": 58,
     "metadata": {},
     "output_type": "execute_result"
    }
   ],
   "source": [
    "precision"
   ]
  },
  {
   "cell_type": "code",
   "execution_count": 59,
   "id": "9dd89815-d57d-4e85-98e7-e481ef720c91",
   "metadata": {},
   "outputs": [
    {
     "data": {
      "text/html": [
       "<div>\n",
       "<style scoped>\n",
       "    .dataframe tbody tr th:only-of-type {\n",
       "        vertical-align: middle;\n",
       "    }\n",
       "\n",
       "    .dataframe tbody tr th {\n",
       "        vertical-align: top;\n",
       "    }\n",
       "\n",
       "    .dataframe thead th {\n",
       "        text-align: right;\n",
       "    }\n",
       "</style>\n",
       "<table border=\"1\" class=\"dataframe\">\n",
       "  <thead>\n",
       "    <tr style=\"text-align: right;\">\n",
       "      <th></th>\n",
       "      <th>0</th>\n",
       "      <th>0</th>\n",
       "    </tr>\n",
       "  </thead>\n",
       "  <tbody>\n",
       "    <tr>\n",
       "      <th>OPC</th>\n",
       "      <td>1.000000</td>\n",
       "      <td>1.000000</td>\n",
       "    </tr>\n",
       "    <tr>\n",
       "      <th>astro</th>\n",
       "      <td>1.000000</td>\n",
       "      <td>1.000000</td>\n",
       "    </tr>\n",
       "    <tr>\n",
       "      <th>endo</th>\n",
       "      <td>1.000000</td>\n",
       "      <td>1.000000</td>\n",
       "    </tr>\n",
       "    <tr>\n",
       "      <th>mg</th>\n",
       "      <td>1.000000</td>\n",
       "      <td>1.000000</td>\n",
       "    </tr>\n",
       "    <tr>\n",
       "      <th>neuron</th>\n",
       "      <td>0.987013</td>\n",
       "      <td>0.987013</td>\n",
       "    </tr>\n",
       "    <tr>\n",
       "      <th>oligo</th>\n",
       "      <td>0.998081</td>\n",
       "      <td>0.998081</td>\n",
       "    </tr>\n",
       "  </tbody>\n",
       "</table>\n",
       "</div>"
      ],
      "text/plain": [
       "               0         0\n",
       "OPC     1.000000  1.000000\n",
       "astro   1.000000  1.000000\n",
       "endo    1.000000  1.000000\n",
       "mg      1.000000  1.000000\n",
       "neuron  0.987013  0.987013\n",
       "oligo   0.998081  0.998081"
      ]
     },
     "execution_count": 59,
     "metadata": {},
     "output_type": "execute_result"
    }
   ],
   "source": [
    "recall"
   ]
  },
  {
   "cell_type": "markdown",
   "id": "66bd113e-5063-4fb5-86a5-2f62e44ee7ae",
   "metadata": {
    "jp-MarkdownHeadingCollapsed": true,
    "tags": []
   },
   "source": [
    "## E2三 "
   ]
  },
  {
   "cell_type": "markdown",
   "id": "5c9d82f6-99e5-4d60-b92c-8ef201588b31",
   "metadata": {
    "jp-MarkdownHeadingCollapsed": true,
    "tags": []
   },
   "source": [
    "### (1)data preprocess"
   ]
  },
  {
   "cell_type": "code",
   "execution_count": 14,
   "id": "dab67f48-bdbe-4b68-abae-9e6d45cba1ea",
   "metadata": {},
   "outputs": [
    {
     "name": "stderr",
     "output_type": "stream",
     "text": [
      "/usr/local/anaconda3/envs/bioinfo/lib/python3.9/site-packages/anndata/_core/anndata.py:1828: UserWarning: Observation names are not unique. To make them unique, call `.obs_names_make_unique`.\n",
      "  utils.warn_names_duplicates(\"obs\")\n"
     ]
    }
   ],
   "source": [
    "adata = sc.read(\"/volume1/home/mhuang/cellTypeAbundance/data/AD/ad_raw.h5ad\")"
   ]
  },
  {
   "cell_type": "code",
   "execution_count": 15,
   "id": "b67e9d4d-c530-4073-baa5-3515b128bb3e",
   "metadata": {},
   "outputs": [
    {
     "name": "stderr",
     "output_type": "stream",
     "text": [
      "/usr/local/anaconda3/envs/bioinfo/lib/python3.9/site-packages/anndata/_core/anndata.py:1828: UserWarning: Observation names are not unique. To make them unique, call `.obs_names_make_unique`.\n",
      "  utils.warn_names_duplicates(\"obs\")\n",
      "/usr/local/anaconda3/envs/bioinfo/lib/python3.9/site-packages/anndata/_core/anndata.py:1828: UserWarning: Observation names are not unique. To make them unique, call `.obs_names_make_unique`.\n",
      "  utils.warn_names_duplicates(\"obs\")\n",
      "/usr/local/anaconda3/envs/bioinfo/lib/python3.9/site-packages/scanpy/preprocessing/_simple.py:843: UserWarning: Received a view of an AnnData. Making a copy.\n",
      "  view_to_actual(adata)\n",
      "/usr/local/anaconda3/envs/bioinfo/lib/python3.9/site-packages/anndata/_core/anndata.py:1828: UserWarning: Observation names are not unique. To make them unique, call `.obs_names_make_unique`.\n",
      "  utils.warn_names_duplicates(\"obs\")\n"
     ]
    }
   ],
   "source": [
    "from dataset import Process\n",
    "data_pipeline = Process(\"AD\")\n",
    "adata = data_pipeline.preprocess(adata)"
   ]
  },
  {
   "cell_type": "code",
   "execution_count": 16,
   "id": "c829421f-e841-4fd9-92cb-1303af26fb75",
   "metadata": {},
   "outputs": [],
   "source": [
    "adata_Ct34 = adata[adata.obs['batch']=='Ct3_Ct4']\n",
    "adata_Ct34 = adata_Ct34[adata_Ct34.obs['patient']!='Ct-un']\n",
    "adata_Ct34 = adata_Ct34[adata_Ct34.obs['cellType']!='unID'] #unID指的是unidentify\n",
    "adata_Ct34 = adata_Ct34[adata_Ct34.obs['cellType']!='doublet']\n",
    "\n",
    "adata_AD12 = adata[adata.obs['batch']=='AD1_AD2']\n",
    "adata_AD12 = adata_AD12[adata_AD12.obs['patient']!='AD-un']\n",
    "adata_AD12 = adata_AD12[adata_AD12.obs['cellType']!='unID'] #unID指的是unidentify\n",
    "adata_AD12 = adata_AD12[adata_AD12.obs['cellType']!='doublet']"
   ]
  },
  {
   "cell_type": "code",
   "execution_count": 17,
   "id": "69a19cc1-e5dc-4628-b808-299ab31ebea3",
   "metadata": {},
   "outputs": [],
   "source": [
    "adata_Ct34.obs.rename(columns={'cellType': 'cell.type'}, inplace=True)\n",
    "adata_AD12.obs.rename(columns={'cellType': 'cell.type'}, inplace=True)"
   ]
  },
  {
   "cell_type": "code",
   "execution_count": 9,
   "id": "4aefcb82-3e06-4b2a-acfc-dbb87d2c606b",
   "metadata": {},
   "outputs": [],
   "source": [
    "import numpy as np\n",
    "import anndata as ad\n",
    "def split_train_test(adata: ad.AnnData, proportions: list):\n",
    "    cell_type = [types for types in adata.obs[\"cell.type\"].cat.categories]\n",
    "    total_num = len(adata)\n",
    "    cell_num_list = [total_num * proportion for proportion in proportions]  # 保存每个细胞类型对应的数量列表\n",
    "    adata.obs[\"dataset_type\"] = \"type\"\n",
    "\n",
    "    for index, value in enumerate(cell_type):\n",
    "        cell_mask = adata.obs['cell.type'] == value\n",
    "        cell_indices = np.where(cell_mask)[0]\n",
    "        num = int(cell_num_list[index])  # 使用单个变量来存储当前细胞类型的数量\n",
    "        if len(cell_indices) >= num:\n",
    "            train_indices = np.random.choice(cell_indices, num, replace=False) #无放回抽样\n",
    "            adata.obs['dataset_type'][train_indices] = 'selected'\n",
    "        else:\n",
    "            train_indices = np.random.choice(cell_indices, num, replace=True) #有放回抽样\n",
    "            adata.obs['dataset_type'][train_indices] = 'selected'\n",
    "\n",
    "    type1 = adata.obs['dataset_type'] == 'selected'\n",
    "    selected_adata = adata[type1, :]\n",
    "\n",
    "    return selected_adata\n"
   ]
  },
  {
   "cell_type": "code",
   "execution_count": 10,
   "id": "28c6f97e-0db8-4ff7-b291-e1502312dc2d",
   "metadata": {
    "collapsed": true,
    "jupyter": {
     "outputs_hidden": true
    },
    "tags": []
   },
   "outputs": [
    {
     "name": "stderr",
     "output_type": "stream",
     "text": [
      "/tmp/ipykernel_10294/3648349778.py:7: ImplicitModificationWarning: Trying to modify attribute `.obs` of view, initializing view as actual.\n",
      "  adata.obs[\"dataset_type\"] = \"type\"\n",
      "/tmp/ipykernel_10294/3648349778.py:15: SettingWithCopyWarning: \n",
      "A value is trying to be set on a copy of a slice from a DataFrame\n",
      "\n",
      "See the caveats in the documentation: https://pandas.pydata.org/pandas-docs/stable/user_guide/indexing.html#returning-a-view-versus-a-copy\n",
      "  adata.obs['dataset_type'][train_indices] = 'selected'\n",
      "/tmp/ipykernel_10294/3648349778.py:18: SettingWithCopyWarning: \n",
      "A value is trying to be set on a copy of a slice from a DataFrame\n",
      "\n",
      "See the caveats in the documentation: https://pandas.pydata.org/pandas-docs/stable/user_guide/indexing.html#returning-a-view-versus-a-copy\n",
      "  adata.obs['dataset_type'][train_indices] = 'selected'\n",
      "/tmp/ipykernel_10294/3648349778.py:7: ImplicitModificationWarning: Trying to modify attribute `.obs` of view, initializing view as actual.\n",
      "  adata.obs[\"dataset_type\"] = \"type\"\n",
      "/tmp/ipykernel_10294/3648349778.py:18: SettingWithCopyWarning: \n",
      "A value is trying to be set on a copy of a slice from a DataFrame\n",
      "\n",
      "See the caveats in the documentation: https://pandas.pydata.org/pandas-docs/stable/user_guide/indexing.html#returning-a-view-versus-a-copy\n",
      "  adata.obs['dataset_type'][train_indices] = 'selected'\n",
      "/tmp/ipykernel_10294/3648349778.py:15: SettingWithCopyWarning: \n",
      "A value is trying to be set on a copy of a slice from a DataFrame\n",
      "\n",
      "See the caveats in the documentation: https://pandas.pydata.org/pandas-docs/stable/user_guide/indexing.html#returning-a-view-versus-a-copy\n",
      "  adata.obs['dataset_type'][train_indices] = 'selected'\n",
      "/usr/local/anaconda3/envs/bioinfo/lib/python3.9/site-packages/anndata/_core/anndata.py:1235: ImplicitModificationWarning: Trying to modify attribute `.obs` of view, initializing view as actual.\n",
      "  df[key] = c\n"
     ]
    }
   ],
   "source": [
    "cell_list = [0.14,0.28,0.01,0.05,0.05, 0.47]\n",
    "train_adata = split_train_test(adata_Ct34,cell_list)\n",
    "test_adata = split_train_test(adata_AD12,cell_list)\n",
    "\n",
    "train_adata.write(f'/volume1/home/mhuang/cellTypeAbundance/data/AD/AD_train.h5ad')\n",
    "test_adata.write(f'/volume1/home/mhuang/cellTypeAbundance/data/AD/AD_test.h5ad')"
   ]
  },
  {
   "cell_type": "markdown",
   "id": "a15fad73-bb64-441c-a73d-9db87ed8e4cd",
   "metadata": {
    "tags": []
   },
   "source": [
    "### (2)model training"
   ]
  },
  {
   "cell_type": "code",
   "execution_count": 1,
   "id": "6ae01549-a896-4372-9b58-d3d93506dcfe",
   "metadata": {},
   "outputs": [],
   "source": [
    "from propDEC_end2end import propDEC\n",
    "import scanpy as sc\n",
    "import matplotlib.pyplot as plt"
   ]
  },
  {
   "cell_type": "code",
   "execution_count": 2,
   "id": "0ba05dee-a951-4968-b432-849da32fc628",
   "metadata": {},
   "outputs": [],
   "source": [
    "# create dataset\n",
    "pipeline = propDEC(input_size=3000, num_classes=6, metric=\"t-sne\", mode=\"soft\")#soft/hard/km\n",
    "\n",
    "train_dataset = pipeline.create_dataset(\"AD\", \"AD_train.h5ad\", mode=\"train\")\n",
    "test_dataset = pipeline.create_dataset(\"AD\", \"AD_test.h5ad\", mode=\"test\")\n",
    "\n",
    "ref_adata = train_dataset.train_adata\n",
    "test_adata = test_dataset.test_adata"
   ]
  },
  {
   "cell_type": "code",
   "execution_count": 3,
   "id": "2940a41c-3540-4cfb-bb8a-ef7d31542146",
   "metadata": {},
   "outputs": [
    {
     "name": "stderr",
     "output_type": "stream",
     "text": [
      "                                                                          \r"
     ]
    },
    {
     "name": "stdout",
     "output_type": "stream",
     "text": [
      "==> Saving Checkpoints\n",
      "==> Finish training !\n"
     ]
    },
    {
     "name": "stderr",
     "output_type": "stream",
     "text": [
      "                                                                        \r"
     ]
    },
    {
     "name": "stdout",
     "output_type": "stream",
     "text": [
      "==> Saving Checkpoints\n",
      "Got 1165 / 1246 with accuracy' 93.50%\n",
      "==> resample\n",
      "==> Write the resample annotated data to cache\n"
     ]
    },
    {
     "name": "stderr",
     "output_type": "stream",
     "text": [
      "/usr/local/anaconda3/envs/bioinfo/lib/python3.9/site-packages/anndata/_core/anndata.py:1828: UserWarning: Observation names are not unique. To make them unique, call `.obs_names_make_unique`.\n",
      "  utils.warn_names_duplicates(\"obs\")\n"
     ]
    },
    {
     "name": "stdout",
     "output_type": "stream",
     "text": [
      "==> Loading Checkpoints\n"
     ]
    },
    {
     "name": "stderr",
     "output_type": "stream",
     "text": [
      "                                                                        \r"
     ]
    },
    {
     "name": "stdout",
     "output_type": "stream",
     "text": [
      "==> Saving Checkpoints\n",
      "Got 1117 / 1246 with accuracy' 89.65%\n",
      "==> resample\n",
      "==> Write the resample annotated data to cache\n"
     ]
    },
    {
     "name": "stderr",
     "output_type": "stream",
     "text": [
      "/usr/local/anaconda3/envs/bioinfo/lib/python3.9/site-packages/anndata/_core/anndata.py:1828: UserWarning: Observation names are not unique. To make them unique, call `.obs_names_make_unique`.\n",
      "  utils.warn_names_duplicates(\"obs\")\n"
     ]
    },
    {
     "name": "stdout",
     "output_type": "stream",
     "text": [
      "==> Loading Checkpoints\n"
     ]
    },
    {
     "name": "stderr",
     "output_type": "stream",
     "text": [
      "                                                                        \r"
     ]
    },
    {
     "name": "stdout",
     "output_type": "stream",
     "text": [
      "==> Saving Checkpoints\n",
      "Got 1176 / 1246 with accuracy' 94.38%\n",
      "==> resample\n",
      "==> Write the resample annotated data to cache\n"
     ]
    },
    {
     "name": "stderr",
     "output_type": "stream",
     "text": [
      "/usr/local/anaconda3/envs/bioinfo/lib/python3.9/site-packages/anndata/_core/anndata.py:1828: UserWarning: Observation names are not unique. To make them unique, call `.obs_names_make_unique`.\n",
      "  utils.warn_names_duplicates(\"obs\")\n"
     ]
    },
    {
     "name": "stdout",
     "output_type": "stream",
     "text": [
      "==> Loading Checkpoints\n"
     ]
    },
    {
     "name": "stderr",
     "output_type": "stream",
     "text": [
      "                                                                        \r"
     ]
    },
    {
     "name": "stdout",
     "output_type": "stream",
     "text": [
      "==> Saving Checkpoints\n",
      "Got 1147 / 1246 with accuracy' 92.05%\n",
      "==> resample\n",
      "==> Write the resample annotated data to cache\n"
     ]
    },
    {
     "name": "stderr",
     "output_type": "stream",
     "text": [
      "/usr/local/anaconda3/envs/bioinfo/lib/python3.9/site-packages/anndata/_core/anndata.py:1828: UserWarning: Observation names are not unique. To make them unique, call `.obs_names_make_unique`.\n",
      "  utils.warn_names_duplicates(\"obs\")\n"
     ]
    },
    {
     "name": "stdout",
     "output_type": "stream",
     "text": [
      "==> Loading Checkpoints\n"
     ]
    },
    {
     "name": "stderr",
     "output_type": "stream",
     "text": [
      "                                                                        \r"
     ]
    },
    {
     "name": "stdout",
     "output_type": "stream",
     "text": [
      "==> Saving Checkpoints\n",
      "Got 1179 / 1246 with accuracy' 94.62%\n",
      "==> resample\n",
      "==> Write the resample annotated data to cache\n"
     ]
    },
    {
     "name": "stderr",
     "output_type": "stream",
     "text": [
      "/usr/local/anaconda3/envs/bioinfo/lib/python3.9/site-packages/anndata/_core/anndata.py:1828: UserWarning: Observation names are not unique. To make them unique, call `.obs_names_make_unique`.\n",
      "  utils.warn_names_duplicates(\"obs\")\n"
     ]
    },
    {
     "name": "stdout",
     "output_type": "stream",
     "text": [
      "==> Finish!\n"
     ]
    }
   ],
   "source": [
    "scores, proportion, f1scores, precision, recall = pipeline(epochs=5)"
   ]
  },
  {
   "cell_type": "code",
   "execution_count": 7,
   "id": "462c9843-69eb-425f-bfd6-2ce388a5ed29",
   "metadata": {},
   "outputs": [],
   "source": [
    "ground_truth = test_adata.obs.groupby('cell.type').count()/1246\n",
    "ground_truth = ground_truth.iloc[:,0]\n",
    "ground_truth.name='Ground_truth'\n",
    "proportion = pd.concat([proportion,ground_truth],axis=1)"
   ]
  },
  {
   "cell_type": "code",
   "execution_count": 8,
   "id": "4f3d9cc7-31b9-4df8-afa1-349390f59cf0",
   "metadata": {},
   "outputs": [
    {
     "data": {
      "text/html": [
       "<div>\n",
       "<style scoped>\n",
       "    .dataframe tbody tr th:only-of-type {\n",
       "        vertical-align: middle;\n",
       "    }\n",
       "\n",
       "    .dataframe tbody tr th {\n",
       "        vertical-align: top;\n",
       "    }\n",
       "\n",
       "    .dataframe thead th {\n",
       "        text-align: right;\n",
       "    }\n",
       "</style>\n",
       "<table border=\"1\" class=\"dataframe\">\n",
       "  <thead>\n",
       "    <tr style=\"text-align: right;\">\n",
       "      <th></th>\n",
       "      <th>ref</th>\n",
       "      <th>predict_1</th>\n",
       "      <th>predict_2</th>\n",
       "      <th>predict_3</th>\n",
       "      <th>predict_4</th>\n",
       "      <th>predict_5</th>\n",
       "      <th>Ground_truth</th>\n",
       "    </tr>\n",
       "  </thead>\n",
       "  <tbody>\n",
       "    <tr>\n",
       "      <th>OPC</th>\n",
       "      <td>0.178463</td>\n",
       "      <td>0.0194</td>\n",
       "      <td>0.0382</td>\n",
       "      <td>0.0274</td>\n",
       "      <td>0.0384</td>\n",
       "      <td>0.0284</td>\n",
       "      <td>0.025682</td>\n",
       "    </tr>\n",
       "    <tr>\n",
       "      <th>astro</th>\n",
       "      <td>0.357360</td>\n",
       "      <td>0.0739</td>\n",
       "      <td>0.1277</td>\n",
       "      <td>0.0795</td>\n",
       "      <td>0.1098</td>\n",
       "      <td>0.0815</td>\n",
       "      <td>0.076244</td>\n",
       "    </tr>\n",
       "    <tr>\n",
       "      <th>endo</th>\n",
       "      <td>0.012592</td>\n",
       "      <td>0.0162</td>\n",
       "      <td>0.0239</td>\n",
       "      <td>0.0103</td>\n",
       "      <td>0.0211</td>\n",
       "      <td>0.0096</td>\n",
       "      <td>0.004013</td>\n",
       "    </tr>\n",
       "    <tr>\n",
       "      <th>mg</th>\n",
       "      <td>0.038211</td>\n",
       "      <td>0.0121</td>\n",
       "      <td>0.0190</td>\n",
       "      <td>0.0122</td>\n",
       "      <td>0.0183</td>\n",
       "      <td>0.0130</td>\n",
       "      <td>0.016051</td>\n",
       "    </tr>\n",
       "    <tr>\n",
       "      <th>neuron</th>\n",
       "      <td>0.035172</td>\n",
       "      <td>0.0524</td>\n",
       "      <td>0.0729</td>\n",
       "      <td>0.0569</td>\n",
       "      <td>0.0676</td>\n",
       "      <td>0.0591</td>\n",
       "      <td>0.053772</td>\n",
       "    </tr>\n",
       "    <tr>\n",
       "      <th>oligo</th>\n",
       "      <td>0.378202</td>\n",
       "      <td>0.8260</td>\n",
       "      <td>0.7183</td>\n",
       "      <td>0.8137</td>\n",
       "      <td>0.7448</td>\n",
       "      <td>0.8085</td>\n",
       "      <td>0.824238</td>\n",
       "    </tr>\n",
       "  </tbody>\n",
       "</table>\n",
       "</div>"
      ],
      "text/plain": [
       "             ref  predict_1  predict_2  predict_3  predict_4  predict_5  \\\n",
       "OPC     0.178463     0.0194     0.0382     0.0274     0.0384     0.0284   \n",
       "astro   0.357360     0.0739     0.1277     0.0795     0.1098     0.0815   \n",
       "endo    0.012592     0.0162     0.0239     0.0103     0.0211     0.0096   \n",
       "mg      0.038211     0.0121     0.0190     0.0122     0.0183     0.0130   \n",
       "neuron  0.035172     0.0524     0.0729     0.0569     0.0676     0.0591   \n",
       "oligo   0.378202     0.8260     0.7183     0.8137     0.7448     0.8085   \n",
       "\n",
       "        Ground_truth  \n",
       "OPC         0.025682  \n",
       "astro       0.076244  \n",
       "endo        0.004013  \n",
       "mg          0.016051  \n",
       "neuron      0.053772  \n",
       "oligo       0.824238  "
      ]
     },
     "execution_count": 8,
     "metadata": {},
     "output_type": "execute_result"
    }
   ],
   "source": [
    "proportion"
   ]
  },
  {
   "cell_type": "code",
   "execution_count": 12,
   "id": "d9a25bbd-8efe-4be3-81e0-2adab22ae0d0",
   "metadata": {},
   "outputs": [
    {
     "data": {
      "text/html": [
       "<div>\n",
       "<style scoped>\n",
       "    .dataframe tbody tr th:only-of-type {\n",
       "        vertical-align: middle;\n",
       "    }\n",
       "\n",
       "    .dataframe tbody tr th {\n",
       "        vertical-align: top;\n",
       "    }\n",
       "\n",
       "    .dataframe thead th {\n",
       "        text-align: right;\n",
       "    }\n",
       "</style>\n",
       "<table border=\"1\" class=\"dataframe\">\n",
       "  <thead>\n",
       "    <tr style=\"text-align: right;\">\n",
       "      <th></th>\n",
       "      <th>0</th>\n",
       "      <th>0</th>\n",
       "      <th>0</th>\n",
       "      <th>0</th>\n",
       "      <th>0</th>\n",
       "    </tr>\n",
       "  </thead>\n",
       "  <tbody>\n",
       "    <tr>\n",
       "      <th>f1score_micro</th>\n",
       "      <td>0.934992</td>\n",
       "      <td>0.896469</td>\n",
       "      <td>0.943820</td>\n",
       "      <td>0.920546</td>\n",
       "      <td>0.946228</td>\n",
       "    </tr>\n",
       "    <tr>\n",
       "      <th>f1score_macro</th>\n",
       "      <td>0.754587</td>\n",
       "      <td>0.743996</td>\n",
       "      <td>0.802013</td>\n",
       "      <td>0.768768</td>\n",
       "      <td>0.818883</td>\n",
       "    </tr>\n",
       "  </tbody>\n",
       "</table>\n",
       "</div>"
      ],
      "text/plain": [
       "                      0         0         0         0         0\n",
       "f1score_micro  0.934992  0.896469  0.943820  0.920546  0.946228\n",
       "f1score_macro  0.754587  0.743996  0.802013  0.768768  0.818883"
      ]
     },
     "execution_count": 12,
     "metadata": {},
     "output_type": "execute_result"
    }
   ],
   "source": [
    "f1scores"
   ]
  },
  {
   "cell_type": "code",
   "execution_count": 10,
   "id": "184080de-9885-4d04-b202-9dd94a5d5139",
   "metadata": {},
   "outputs": [
    {
     "data": {
      "text/html": [
       "<div>\n",
       "<style scoped>\n",
       "    .dataframe tbody tr th:only-of-type {\n",
       "        vertical-align: middle;\n",
       "    }\n",
       "\n",
       "    .dataframe tbody tr th {\n",
       "        vertical-align: top;\n",
       "    }\n",
       "\n",
       "    .dataframe thead th {\n",
       "        text-align: right;\n",
       "    }\n",
       "</style>\n",
       "<table border=\"1\" class=\"dataframe\">\n",
       "  <thead>\n",
       "    <tr style=\"text-align: right;\">\n",
       "      <th></th>\n",
       "      <th>0</th>\n",
       "      <th>0</th>\n",
       "      <th>0</th>\n",
       "      <th>0</th>\n",
       "      <th>0</th>\n",
       "    </tr>\n",
       "  </thead>\n",
       "  <tbody>\n",
       "    <tr>\n",
       "      <th>OPC</th>\n",
       "      <td>0.875000</td>\n",
       "      <td>0.688889</td>\n",
       "      <td>0.777778</td>\n",
       "      <td>0.640000</td>\n",
       "      <td>0.800000</td>\n",
       "    </tr>\n",
       "    <tr>\n",
       "      <th>astro</th>\n",
       "      <td>0.966292</td>\n",
       "      <td>0.612903</td>\n",
       "      <td>0.916667</td>\n",
       "      <td>0.736434</td>\n",
       "      <td>0.891089</td>\n",
       "    </tr>\n",
       "    <tr>\n",
       "      <th>endo</th>\n",
       "      <td>0.294118</td>\n",
       "      <td>0.200000</td>\n",
       "      <td>0.357143</td>\n",
       "      <td>0.200000</td>\n",
       "      <td>0.416667</td>\n",
       "    </tr>\n",
       "    <tr>\n",
       "      <th>mg</th>\n",
       "      <td>0.923077</td>\n",
       "      <td>0.941176</td>\n",
       "      <td>1.000000</td>\n",
       "      <td>0.944444</td>\n",
       "      <td>0.933333</td>\n",
       "    </tr>\n",
       "    <tr>\n",
       "      <th>neuron</th>\n",
       "      <td>0.725806</td>\n",
       "      <td>0.655914</td>\n",
       "      <td>0.753425</td>\n",
       "      <td>0.717647</td>\n",
       "      <td>0.760000</td>\n",
       "    </tr>\n",
       "    <tr>\n",
       "      <th>oligo</th>\n",
       "      <td>0.956772</td>\n",
       "      <td>0.997805</td>\n",
       "      <td>0.973373</td>\n",
       "      <td>0.997870</td>\n",
       "      <td>0.977183</td>\n",
       "    </tr>\n",
       "  </tbody>\n",
       "</table>\n",
       "</div>"
      ],
      "text/plain": [
       "               0         0         0         0         0\n",
       "OPC     0.875000  0.688889  0.777778  0.640000  0.800000\n",
       "astro   0.966292  0.612903  0.916667  0.736434  0.891089\n",
       "endo    0.294118  0.200000  0.357143  0.200000  0.416667\n",
       "mg      0.923077  0.941176  1.000000  0.944444  0.933333\n",
       "neuron  0.725806  0.655914  0.753425  0.717647  0.760000\n",
       "oligo   0.956772  0.997805  0.973373  0.997870  0.977183"
      ]
     },
     "execution_count": 10,
     "metadata": {},
     "output_type": "execute_result"
    }
   ],
   "source": [
    "precision"
   ]
  },
  {
   "cell_type": "code",
   "execution_count": 11,
   "id": "47fe278e-a968-4182-952e-637c981e4786",
   "metadata": {},
   "outputs": [
    {
     "data": {
      "text/html": [
       "<div>\n",
       "<style scoped>\n",
       "    .dataframe tbody tr th:only-of-type {\n",
       "        vertical-align: middle;\n",
       "    }\n",
       "\n",
       "    .dataframe tbody tr th {\n",
       "        vertical-align: top;\n",
       "    }\n",
       "\n",
       "    .dataframe thead th {\n",
       "        text-align: right;\n",
       "    }\n",
       "</style>\n",
       "<table border=\"1\" class=\"dataframe\">\n",
       "  <thead>\n",
       "    <tr style=\"text-align: right;\">\n",
       "      <th></th>\n",
       "      <th>0</th>\n",
       "      <th>0</th>\n",
       "      <th>0</th>\n",
       "      <th>0</th>\n",
       "      <th>0</th>\n",
       "    </tr>\n",
       "  </thead>\n",
       "  <tbody>\n",
       "    <tr>\n",
       "      <th>OPC</th>\n",
       "      <td>0.656250</td>\n",
       "      <td>0.968750</td>\n",
       "      <td>0.875000</td>\n",
       "      <td>1.000000</td>\n",
       "      <td>0.875000</td>\n",
       "    </tr>\n",
       "    <tr>\n",
       "      <th>astro</th>\n",
       "      <td>0.905263</td>\n",
       "      <td>1.000000</td>\n",
       "      <td>0.926316</td>\n",
       "      <td>1.000000</td>\n",
       "      <td>0.947368</td>\n",
       "    </tr>\n",
       "    <tr>\n",
       "      <th>endo</th>\n",
       "      <td>1.000000</td>\n",
       "      <td>1.000000</td>\n",
       "      <td>1.000000</td>\n",
       "      <td>1.000000</td>\n",
       "      <td>1.000000</td>\n",
       "    </tr>\n",
       "    <tr>\n",
       "      <th>mg</th>\n",
       "      <td>0.600000</td>\n",
       "      <td>0.800000</td>\n",
       "      <td>0.650000</td>\n",
       "      <td>0.850000</td>\n",
       "      <td>0.700000</td>\n",
       "    </tr>\n",
       "    <tr>\n",
       "      <th>neuron</th>\n",
       "      <td>0.671642</td>\n",
       "      <td>0.910448</td>\n",
       "      <td>0.820896</td>\n",
       "      <td>0.910448</td>\n",
       "      <td>0.850746</td>\n",
       "    </tr>\n",
       "    <tr>\n",
       "      <th>oligo</th>\n",
       "      <td>0.969815</td>\n",
       "      <td>0.885102</td>\n",
       "      <td>0.961052</td>\n",
       "      <td>0.912366</td>\n",
       "      <td>0.959104</td>\n",
       "    </tr>\n",
       "  </tbody>\n",
       "</table>\n",
       "</div>"
      ],
      "text/plain": [
       "               0         0         0         0         0\n",
       "OPC     0.656250  0.968750  0.875000  1.000000  0.875000\n",
       "astro   0.905263  1.000000  0.926316  1.000000  0.947368\n",
       "endo    1.000000  1.000000  1.000000  1.000000  1.000000\n",
       "mg      0.600000  0.800000  0.650000  0.850000  0.700000\n",
       "neuron  0.671642  0.910448  0.820896  0.910448  0.850746\n",
       "oligo   0.969815  0.885102  0.961052  0.912366  0.959104"
      ]
     },
     "execution_count": 11,
     "metadata": {},
     "output_type": "execute_result"
    }
   ],
   "source": [
    "recall"
   ]
  },
  {
   "cell_type": "markdown",
   "id": "7f2aff68-d2c6-4954-a634-54ecdc472f2c",
   "metadata": {
    "tags": []
   },
   "source": [
    "## E2四"
   ]
  },
  {
   "cell_type": "markdown",
   "id": "8dbbb0c6-ae7f-4f43-8df7-f3ddc551f490",
   "metadata": {
    "tags": []
   },
   "source": [
    "### (1)data preprocessing"
   ]
  },
  {
   "cell_type": "code",
   "execution_count": 2,
   "id": "904a74f1-adbf-41f3-bdd0-8e70cb400cf4",
   "metadata": {},
   "outputs": [
    {
     "name": "stderr",
     "output_type": "stream",
     "text": [
      "/usr/local/anaconda3/lib/python3.9/site-packages/anndata/__init__.py:51: FutureWarning: `anndata.read` is deprecated, use `anndata.read_h5ad` instead. `ad.read` will be removed in mid 2024.\n",
      "  warnings.warn(\n",
      "/usr/local/anaconda3/lib/python3.9/site-packages/anndata/_core/anndata.py:1897: UserWarning: Observation names are not unique. To make them unique, call `.obs_names_make_unique`.\n",
      "  utils.warn_names_duplicates(\"obs\")\n",
      "/usr/local/anaconda3/lib/python3.9/site-packages/anndata/_core/anndata.py:1897: UserWarning: Observation names are not unique. To make them unique, call `.obs_names_make_unique`.\n",
      "  utils.warn_names_duplicates(\"obs\")\n",
      "/usr/local/anaconda3/lib/python3.9/site-packages/anndata/_core/anndata.py:1897: UserWarning: Observation names are not unique. To make them unique, call `.obs_names_make_unique`.\n",
      "  utils.warn_names_duplicates(\"obs\")\n",
      "/usr/local/anaconda3/lib/python3.9/site-packages/anndata/_core/anndata.py:1897: UserWarning: Observation names are not unique. To make them unique, call `.obs_names_make_unique`.\n",
      "  utils.warn_names_duplicates(\"obs\")\n",
      "/usr/local/anaconda3/lib/python3.9/site-packages/scanpy/preprocessing/_highly_variable_genes.py:220: FutureWarning: The default of observed=False is deprecated and will be changed to True in a future version of pandas. Pass observed=False to retain current behavior or observed=True to adopt the future default and silence this warning.\n",
      "  disp_grouped = df.groupby('mean_bin')['dispersions']\n",
      "/usr/local/anaconda3/lib/python3.9/site-packages/scanpy/preprocessing/_simple.py:843: UserWarning: Received a view of an AnnData. Making a copy.\n",
      "  view_to_actual(adata)\n",
      "/usr/local/anaconda3/lib/python3.9/site-packages/anndata/_core/anndata.py:1897: UserWarning: Observation names are not unique. To make them unique, call `.obs_names_make_unique`.\n",
      "  utils.warn_names_duplicates(\"obs\")\n"
     ]
    }
   ],
   "source": [
    "adata = sc.read(\"/volume1/home/mhuang/cellTypeAbundance/data/AD/ad_raw.h5ad\")\n",
    "\n",
    "from dataset import Process\n",
    "data_pipeline = Process(\"AD\")\n",
    "adata = data_pipeline.preprocess(adata)\n",
    "\n",
    "adata_Ct34 = adata[adata.obs['batch']=='Ct3_Ct4']\n",
    "adata_Ct34 = adata_Ct34[adata_Ct34.obs['patient']!='Ct-un']\n",
    "adata_Ct34 = adata_Ct34[adata_Ct34.obs['cellType']!='unID'] #unID指的是unidentify\n",
    "adata_Ct34 = adata_Ct34[adata_Ct34.obs['cellType']!='doublet']\n",
    "\n",
    "adata_AD12 = adata[adata.obs['batch']=='AD1_AD2']\n",
    "adata_AD12 = adata_AD12[adata_AD12.obs['patient']!='AD-un']\n",
    "adata_AD12 = adata_AD12[adata_AD12.obs['cellType']!='unID'] #unID指的是unidentify\n",
    "adata_AD12 = adata_AD12[adata_AD12.obs['cellType']!='doublet']\n",
    "\n",
    "adata_Ct34.obs.rename(columns={'cellType': 'cell.type'}, inplace=True)\n",
    "adata_AD12.obs.rename(columns={'cellType': 'cell.type'}, inplace=True)"
   ]
  },
  {
   "cell_type": "code",
   "execution_count": 3,
   "id": "cb35e410-840d-4b27-bcbb-7dff963c955d",
   "metadata": {},
   "outputs": [],
   "source": [
    "adata_Ct34.write(f'/volume1/home/mhuang/cellTypeAbundance/data/AD/AD_train.h5ad')\n",
    "adata_AD12.write(f'/volume1/home/mhuang/cellTypeAbundance/data/AD/AD_test.h5ad')"
   ]
  },
  {
   "cell_type": "markdown",
   "id": "e943c821-a974-4cc4-97ae-41f8d6500916",
   "metadata": {},
   "source": [
    "### (2)model training"
   ]
  },
  {
   "cell_type": "code",
   "execution_count": 4,
   "id": "cda036a7-ee32-4895-942b-644658663494",
   "metadata": {},
   "outputs": [],
   "source": [
    "from propDEC_end2end import propDEC\n",
    "import scanpy as sc\n",
    "import matplotlib.pyplot as plt"
   ]
  },
  {
   "cell_type": "code",
   "execution_count": 5,
   "id": "665c4aa8-fd5e-45ba-b051-bdaa2b0783e3",
   "metadata": {},
   "outputs": [
    {
     "name": "stderr",
     "output_type": "stream",
     "text": [
      "/usr/local/anaconda3/lib/python3.9/site-packages/anndata/__init__.py:51: FutureWarning: `anndata.read` is deprecated, use `anndata.read_h5ad` instead. `ad.read` will be removed in mid 2024.\n",
      "  warnings.warn(\n",
      "/usr/local/anaconda3/lib/python3.9/site-packages/anndata/__init__.py:51: FutureWarning: `anndata.read` is deprecated, use `anndata.read_h5ad` instead. `ad.read` will be removed in mid 2024.\n",
      "  warnings.warn(\n"
     ]
    }
   ],
   "source": [
    "# create dataset\n",
    "pipeline = propDEC(input_size=3000, num_classes=6, metric=\"t-sne\", mode=\"km\")#soft/hard/km\n",
    "\n",
    "train_dataset = pipeline.create_dataset(\"AD\", \"AD_train.h5ad\", mode=\"train\")\n",
    "test_dataset = pipeline.create_dataset(\"AD\", \"AD_test.h5ad\", mode=\"test\")\n",
    "\n",
    "ref_adata = train_dataset.train_adata\n",
    "test_adata = test_dataset.test_adata"
   ]
  },
  {
   "cell_type": "code",
   "execution_count": 6,
   "id": "2e3129de-5041-4481-9668-4c756bb8fd89",
   "metadata": {},
   "outputs": [
    {
     "name": "stderr",
     "output_type": "stream",
     "text": [
      "                                                                          \r"
     ]
    },
    {
     "name": "stdout",
     "output_type": "stream",
     "text": [
      "==> Saving Checkpoints\n",
      "==> Finish training !\n"
     ]
    },
    {
     "name": "stderr",
     "output_type": "stream",
     "text": [
      "                                                                        \r"
     ]
    },
    {
     "name": "stdout",
     "output_type": "stream",
     "text": [
      "==> Saving Checkpoints\n"
     ]
    },
    {
     "name": "stderr",
     "output_type": "stream",
     "text": [
      "100%|██████████| 2/2 [00:00<00:00, 366.67it/s]\n",
      "/volume1/home/mhuang/cellTypeAbundance/src/test/utils.py:94: FutureWarning: Series.__getitem__ treating keys as positions is deprecated. In a future version, integer keys will always be treated as labels (consistent with DataFrame behavior). To access a value by position, use `ser.iloc[pos]`\n",
      "  cell_num = int(counts[index])\n",
      "/usr/local/anaconda3/lib/python3.9/site-packages/anndata/_core/anndata.py:1897: UserWarning: Observation names are not unique. To make them unique, call `.obs_names_make_unique`.\n",
      "  utils.warn_names_duplicates(\"obs\")\n"
     ]
    },
    {
     "name": "stdout",
     "output_type": "stream",
     "text": [
      "==> KM algortithm over!\n",
      "Got 2089 / 2187 with accuracy' 95.52%\n",
      "==> resample\n",
      "==> Write the resample annotated data to cache\n",
      "==> Loading Checkpoints\n"
     ]
    },
    {
     "name": "stderr",
     "output_type": "stream",
     "text": [
      "/usr/local/anaconda3/lib/python3.9/site-packages/anndata/__init__.py:51: FutureWarning: `anndata.read` is deprecated, use `anndata.read_h5ad` instead. `ad.read` will be removed in mid 2024.\n",
      "  warnings.warn(\n",
      "                                                                        \r"
     ]
    },
    {
     "name": "stdout",
     "output_type": "stream",
     "text": [
      "==> Saving Checkpoints\n"
     ]
    },
    {
     "name": "stderr",
     "output_type": "stream",
     "text": [
      "100%|██████████| 6/6 [00:01<00:00,  4.76it/s]\n",
      "/volume1/home/mhuang/cellTypeAbundance/src/test/utils.py:94: FutureWarning: Series.__getitem__ treating keys as positions is deprecated. In a future version, integer keys will always be treated as labels (consistent with DataFrame behavior). To access a value by position, use `ser.iloc[pos]`\n",
      "  cell_num = int(counts[index])\n",
      "/usr/local/anaconda3/lib/python3.9/site-packages/anndata/_core/anndata.py:1897: UserWarning: Observation names are not unique. To make them unique, call `.obs_names_make_unique`.\n",
      "  utils.warn_names_duplicates(\"obs\")\n"
     ]
    },
    {
     "name": "stdout",
     "output_type": "stream",
     "text": [
      "==> KM algortithm over!\n",
      "Got 2007 / 2187 with accuracy' 91.77%\n",
      "==> resample\n",
      "==> Write the resample annotated data to cache\n",
      "==> Loading Checkpoints\n"
     ]
    },
    {
     "name": "stderr",
     "output_type": "stream",
     "text": [
      "/usr/local/anaconda3/lib/python3.9/site-packages/anndata/__init__.py:51: FutureWarning: `anndata.read` is deprecated, use `anndata.read_h5ad` instead. `ad.read` will be removed in mid 2024.\n",
      "  warnings.warn(\n",
      "                                                                        \r"
     ]
    },
    {
     "name": "stdout",
     "output_type": "stream",
     "text": [
      "==> Saving Checkpoints\n"
     ]
    },
    {
     "name": "stderr",
     "output_type": "stream",
     "text": [
      "100%|██████████| 3/3 [00:00<00:00, 345.30it/s]\n",
      "/volume1/home/mhuang/cellTypeAbundance/src/test/utils.py:94: FutureWarning: Series.__getitem__ treating keys as positions is deprecated. In a future version, integer keys will always be treated as labels (consistent with DataFrame behavior). To access a value by position, use `ser.iloc[pos]`\n",
      "  cell_num = int(counts[index])\n",
      "/usr/local/anaconda3/lib/python3.9/site-packages/anndata/_core/anndata.py:1897: UserWarning: Observation names are not unique. To make them unique, call `.obs_names_make_unique`.\n",
      "  utils.warn_names_duplicates(\"obs\")\n"
     ]
    },
    {
     "name": "stdout",
     "output_type": "stream",
     "text": [
      "==> KM algortithm over!\n",
      "Got 2085 / 2187 with accuracy' 95.34%\n",
      "==> resample\n",
      "==> Write the resample annotated data to cache\n",
      "==> Loading Checkpoints\n"
     ]
    },
    {
     "name": "stderr",
     "output_type": "stream",
     "text": [
      "/usr/local/anaconda3/lib/python3.9/site-packages/anndata/__init__.py:51: FutureWarning: `anndata.read` is deprecated, use `anndata.read_h5ad` instead. `ad.read` will be removed in mid 2024.\n",
      "  warnings.warn(\n",
      "                                                                        \r"
     ]
    },
    {
     "name": "stdout",
     "output_type": "stream",
     "text": [
      "==> Saving Checkpoints\n"
     ]
    },
    {
     "name": "stderr",
     "output_type": "stream",
     "text": [
      "100%|██████████| 4/4 [00:00<00:00, 178.05it/s]"
     ]
    },
    {
     "name": "stdout",
     "output_type": "stream",
     "text": [
      "==> KM algortithm over!\n",
      "Got 2062 / 2187 with accuracy' 94.28%\n",
      "Early Stopping\n",
      "==> Finish!\n"
     ]
    },
    {
     "name": "stderr",
     "output_type": "stream",
     "text": [
      "\n"
     ]
    }
   ],
   "source": [
    "scores, proportion, f1scores, precision, recall = pipeline(epochs=5)"
   ]
  },
  {
   "cell_type": "code",
   "execution_count": 7,
   "id": "17ee5e71-b3f1-4c41-ba39-8cea4b861cea",
   "metadata": {},
   "outputs": [
    {
     "data": {
      "text/plain": [
       "AnnData object with n_obs × n_vars = 2187 × 3000\n",
       "    obs: 'sampleID', 'batch', 'patient', 'sex', 'nGene', 'nUMI', 'pctMT', 'cell.type', 'batchCond', 'subclustCond', 'subIDm', 'subIDa', 'subIDn', 'subIDo', 'subIDO', 'subIDe', 'subIDu', 'subIDh', 'mg', 'astro', 'neuron', 'oligo', 'OPC', 'endo', 'UMAP1_ALL', 'UMAP2_ALL', 'PC1_ALL', 'PC2_ALL', 'PC3_ALL', 'subclustID', 'UMAP1_ct', 'UMAP2_ct', 'PC1_ct', 'PC2_ct', 'PC3_ct', 'sample_id', 'n_genes'\n",
       "    var: 'n_cells', 'highly_variable', 'means', 'dispersions', 'dispersions_norm', 'mean', 'std'\n",
       "    uns: 'hvg', 'log1p'\n",
       "    obsm: 'emb'"
      ]
     },
     "execution_count": 7,
     "metadata": {},
     "output_type": "execute_result"
    }
   ],
   "source": [
    "test_adata"
   ]
  },
  {
   "cell_type": "code",
   "execution_count": 8,
   "id": "fbf5e07e-33c4-440e-a52f-e0e7f548d747",
   "metadata": {},
   "outputs": [
    {
     "name": "stderr",
     "output_type": "stream",
     "text": [
      "/tmp/ipykernel_564498/1509495449.py:1: FutureWarning: The default of observed=False is deprecated and will be changed to True in a future version of pandas. Pass observed=False to retain current behavior or observed=True to adopt the future default and silence this warning.\n",
      "  ground_truth = test_adata.obs.groupby('cell.type').count()/2187\n"
     ]
    }
   ],
   "source": [
    "ground_truth = test_adata.obs.groupby('cell.type').count()/2187\n",
    "ground_truth = ground_truth.iloc[:,0]\n",
    "ground_truth.name='Ground_truth'\n",
    "proportion = pd.concat([proportion,ground_truth],axis=1)"
   ]
  },
  {
   "cell_type": "code",
   "execution_count": 9,
   "id": "7c07b2ea-62fa-4588-9df5-e6bf17c78db5",
   "metadata": {},
   "outputs": [
    {
     "data": {
      "text/html": [
       "<div>\n",
       "<style scoped>\n",
       "    .dataframe tbody tr th:only-of-type {\n",
       "        vertical-align: middle;\n",
       "    }\n",
       "\n",
       "    .dataframe tbody tr th {\n",
       "        vertical-align: top;\n",
       "    }\n",
       "\n",
       "    .dataframe thead th {\n",
       "        text-align: right;\n",
       "    }\n",
       "</style>\n",
       "<table border=\"1\" class=\"dataframe\">\n",
       "  <thead>\n",
       "    <tr style=\"text-align: right;\">\n",
       "      <th></th>\n",
       "      <th>ref</th>\n",
       "      <th>predict_1</th>\n",
       "      <th>predict_2</th>\n",
       "      <th>predict_3</th>\n",
       "      <th>predict_4</th>\n",
       "      <th>Ground_truth</th>\n",
       "    </tr>\n",
       "  </thead>\n",
       "  <tbody>\n",
       "    <tr>\n",
       "      <th>OPC</th>\n",
       "      <td>0.144558</td>\n",
       "      <td>0.0155</td>\n",
       "      <td>0.0271</td>\n",
       "      <td>0.0210</td>\n",
       "      <td>0.0256</td>\n",
       "      <td>0.014632</td>\n",
       "    </tr>\n",
       "    <tr>\n",
       "      <th>astro</th>\n",
       "      <td>0.286735</td>\n",
       "      <td>0.0439</td>\n",
       "      <td>0.0836</td>\n",
       "      <td>0.0498</td>\n",
       "      <td>0.0636</td>\n",
       "      <td>0.043439</td>\n",
       "    </tr>\n",
       "    <tr>\n",
       "      <th>endo</th>\n",
       "      <td>0.010884</td>\n",
       "      <td>0.0064</td>\n",
       "      <td>0.0092</td>\n",
       "      <td>0.0046</td>\n",
       "      <td>0.0055</td>\n",
       "      <td>0.002286</td>\n",
       "    </tr>\n",
       "    <tr>\n",
       "      <th>mg</th>\n",
       "      <td>0.047279</td>\n",
       "      <td>0.0064</td>\n",
       "      <td>0.0110</td>\n",
       "      <td>0.0073</td>\n",
       "      <td>0.0096</td>\n",
       "      <td>0.009145</td>\n",
       "    </tr>\n",
       "    <tr>\n",
       "      <th>neuron</th>\n",
       "      <td>0.041837</td>\n",
       "      <td>0.0416</td>\n",
       "      <td>0.0574</td>\n",
       "      <td>0.0530</td>\n",
       "      <td>0.0545</td>\n",
       "      <td>0.044353</td>\n",
       "    </tr>\n",
       "    <tr>\n",
       "      <th>oligo</th>\n",
       "      <td>0.468707</td>\n",
       "      <td>0.8861</td>\n",
       "      <td>0.8116</td>\n",
       "      <td>0.8642</td>\n",
       "      <td>0.8411</td>\n",
       "      <td>0.886145</td>\n",
       "    </tr>\n",
       "  </tbody>\n",
       "</table>\n",
       "</div>"
      ],
      "text/plain": [
       "             ref  predict_1  predict_2  predict_3  predict_4  Ground_truth\n",
       "OPC     0.144558     0.0155     0.0271     0.0210     0.0256      0.014632\n",
       "astro   0.286735     0.0439     0.0836     0.0498     0.0636      0.043439\n",
       "endo    0.010884     0.0064     0.0092     0.0046     0.0055      0.002286\n",
       "mg      0.047279     0.0064     0.0110     0.0073     0.0096      0.009145\n",
       "neuron  0.041837     0.0416     0.0574     0.0530     0.0545      0.044353\n",
       "oligo   0.468707     0.8861     0.8116     0.8642     0.8411      0.886145"
      ]
     },
     "execution_count": 9,
     "metadata": {},
     "output_type": "execute_result"
    }
   ],
   "source": [
    "proportion"
   ]
  },
  {
   "cell_type": "code",
   "execution_count": 10,
   "id": "35c9c85e-a881-4a3f-b98a-faf315ec34a6",
   "metadata": {},
   "outputs": [
    {
     "data": {
      "text/html": [
       "<div>\n",
       "<style scoped>\n",
       "    .dataframe tbody tr th:only-of-type {\n",
       "        vertical-align: middle;\n",
       "    }\n",
       "\n",
       "    .dataframe tbody tr th {\n",
       "        vertical-align: top;\n",
       "    }\n",
       "\n",
       "    .dataframe thead th {\n",
       "        text-align: right;\n",
       "    }\n",
       "</style>\n",
       "<table border=\"1\" class=\"dataframe\">\n",
       "  <thead>\n",
       "    <tr style=\"text-align: right;\">\n",
       "      <th></th>\n",
       "      <th>0</th>\n",
       "      <th>0</th>\n",
       "      <th>0</th>\n",
       "      <th>0</th>\n",
       "    </tr>\n",
       "  </thead>\n",
       "  <tbody>\n",
       "    <tr>\n",
       "      <th>f1score_micro</th>\n",
       "      <td>0.955190</td>\n",
       "      <td>0.917695</td>\n",
       "      <td>0.953361</td>\n",
       "      <td>0.942844</td>\n",
       "    </tr>\n",
       "    <tr>\n",
       "      <th>f1score_macro</th>\n",
       "      <td>0.760586</td>\n",
       "      <td>0.733050</td>\n",
       "      <td>0.796578</td>\n",
       "      <td>0.799376</td>\n",
       "    </tr>\n",
       "  </tbody>\n",
       "</table>\n",
       "</div>"
      ],
      "text/plain": [
       "                      0         0         0         0\n",
       "f1score_micro  0.955190  0.917695  0.953361  0.942844\n",
       "f1score_macro  0.760586  0.733050  0.796578  0.799376"
      ]
     },
     "execution_count": 10,
     "metadata": {},
     "output_type": "execute_result"
    }
   ],
   "source": [
    "f1scores"
   ]
  },
  {
   "cell_type": "code",
   "execution_count": 11,
   "id": "c110fcd0-4f3e-4d8a-a0b0-a5e160e9ab94",
   "metadata": {},
   "outputs": [
    {
     "data": {
      "text/html": [
       "<div>\n",
       "<style scoped>\n",
       "    .dataframe tbody tr th:only-of-type {\n",
       "        vertical-align: middle;\n",
       "    }\n",
       "\n",
       "    .dataframe tbody tr th {\n",
       "        vertical-align: top;\n",
       "    }\n",
       "\n",
       "    .dataframe thead th {\n",
       "        text-align: right;\n",
       "    }\n",
       "</style>\n",
       "<table border=\"1\" class=\"dataframe\">\n",
       "  <thead>\n",
       "    <tr style=\"text-align: right;\">\n",
       "      <th></th>\n",
       "      <th>0</th>\n",
       "      <th>0</th>\n",
       "      <th>0</th>\n",
       "      <th>0</th>\n",
       "    </tr>\n",
       "  </thead>\n",
       "  <tbody>\n",
       "    <tr>\n",
       "      <th>OPC</th>\n",
       "      <td>0.687500</td>\n",
       "      <td>0.525424</td>\n",
       "      <td>0.600000</td>\n",
       "      <td>0.561404</td>\n",
       "    </tr>\n",
       "    <tr>\n",
       "      <th>astro</th>\n",
       "      <td>0.936170</td>\n",
       "      <td>0.489691</td>\n",
       "      <td>0.785714</td>\n",
       "      <td>0.630137</td>\n",
       "    </tr>\n",
       "    <tr>\n",
       "      <th>endo</th>\n",
       "      <td>0.357143</td>\n",
       "      <td>0.277778</td>\n",
       "      <td>0.555556</td>\n",
       "      <td>0.500000</td>\n",
       "    </tr>\n",
       "    <tr>\n",
       "      <th>mg</th>\n",
       "      <td>0.857143</td>\n",
       "      <td>0.850000</td>\n",
       "      <td>0.857143</td>\n",
       "      <td>0.888889</td>\n",
       "    </tr>\n",
       "    <tr>\n",
       "      <th>neuron</th>\n",
       "      <td>0.752688</td>\n",
       "      <td>0.724409</td>\n",
       "      <td>0.771930</td>\n",
       "      <td>0.762712</td>\n",
       "    </tr>\n",
       "    <tr>\n",
       "      <th>oligo</th>\n",
       "      <td>0.975258</td>\n",
       "      <td>0.998869</td>\n",
       "      <td>0.985209</td>\n",
       "      <td>0.994015</td>\n",
       "    </tr>\n",
       "  </tbody>\n",
       "</table>\n",
       "</div>"
      ],
      "text/plain": [
       "               0         0         0         0\n",
       "OPC     0.687500  0.525424  0.600000  0.561404\n",
       "astro   0.936170  0.489691  0.785714  0.630137\n",
       "endo    0.357143  0.277778  0.555556  0.500000\n",
       "mg      0.857143  0.850000  0.857143  0.888889\n",
       "neuron  0.752688  0.724409  0.771930  0.762712\n",
       "oligo   0.975258  0.998869  0.985209  0.994015"
      ]
     },
     "execution_count": 11,
     "metadata": {},
     "output_type": "execute_result"
    }
   ],
   "source": [
    "precision"
   ]
  },
  {
   "cell_type": "code",
   "execution_count": 12,
   "id": "a600acf5-618f-4958-a2d9-48a2e5b1ab05",
   "metadata": {},
   "outputs": [
    {
     "data": {
      "text/html": [
       "<div>\n",
       "<style scoped>\n",
       "    .dataframe tbody tr th:only-of-type {\n",
       "        vertical-align: middle;\n",
       "    }\n",
       "\n",
       "    .dataframe tbody tr th {\n",
       "        vertical-align: top;\n",
       "    }\n",
       "\n",
       "    .dataframe thead th {\n",
       "        text-align: right;\n",
       "    }\n",
       "</style>\n",
       "<table border=\"1\" class=\"dataframe\">\n",
       "  <thead>\n",
       "    <tr style=\"text-align: right;\">\n",
       "      <th></th>\n",
       "      <th>0</th>\n",
       "      <th>0</th>\n",
       "      <th>0</th>\n",
       "      <th>0</th>\n",
       "    </tr>\n",
       "  </thead>\n",
       "  <tbody>\n",
       "    <tr>\n",
       "      <th>OPC</th>\n",
       "      <td>0.687500</td>\n",
       "      <td>0.968750</td>\n",
       "      <td>0.843750</td>\n",
       "      <td>1.000000</td>\n",
       "    </tr>\n",
       "    <tr>\n",
       "      <th>astro</th>\n",
       "      <td>0.926316</td>\n",
       "      <td>1.000000</td>\n",
       "      <td>0.926316</td>\n",
       "      <td>0.968421</td>\n",
       "    </tr>\n",
       "    <tr>\n",
       "      <th>endo</th>\n",
       "      <td>1.000000</td>\n",
       "      <td>1.000000</td>\n",
       "      <td>1.000000</td>\n",
       "      <td>1.000000</td>\n",
       "    </tr>\n",
       "    <tr>\n",
       "      <th>mg</th>\n",
       "      <td>0.600000</td>\n",
       "      <td>0.850000</td>\n",
       "      <td>0.600000</td>\n",
       "      <td>0.800000</td>\n",
       "    </tr>\n",
       "    <tr>\n",
       "      <th>neuron</th>\n",
       "      <td>0.721649</td>\n",
       "      <td>0.948454</td>\n",
       "      <td>0.907216</td>\n",
       "      <td>0.927835</td>\n",
       "    </tr>\n",
       "    <tr>\n",
       "      <th>oligo</th>\n",
       "      <td>0.976264</td>\n",
       "      <td>0.911765</td>\n",
       "      <td>0.962332</td>\n",
       "      <td>0.942724</td>\n",
       "    </tr>\n",
       "  </tbody>\n",
       "</table>\n",
       "</div>"
      ],
      "text/plain": [
       "               0         0         0         0\n",
       "OPC     0.687500  0.968750  0.843750  1.000000\n",
       "astro   0.926316  1.000000  0.926316  0.968421\n",
       "endo    1.000000  1.000000  1.000000  1.000000\n",
       "mg      0.600000  0.850000  0.600000  0.800000\n",
       "neuron  0.721649  0.948454  0.907216  0.927835\n",
       "oligo   0.976264  0.911765  0.962332  0.942724"
      ]
     },
     "execution_count": 12,
     "metadata": {},
     "output_type": "execute_result"
    }
   ],
   "source": [
    "recall"
   ]
  },
  {
   "cell_type": "code",
   "execution_count": null,
   "id": "4e50781b-01e6-47a9-adc2-73fff2862c63",
   "metadata": {},
   "outputs": [],
   "source": []
  },
  {
   "cell_type": "code",
   "execution_count": null,
   "id": "5a7239df-2dba-4c96-bce9-26c97b3e6d4a",
   "metadata": {},
   "outputs": [],
   "source": []
  }
 ],
 "metadata": {
  "kernelspec": {
   "display_name": "mamba",
   "language": "python",
   "name": "mamba"
  },
  "language_info": {
   "codemirror_mode": {
    "name": "ipython",
    "version": 3
   },
   "file_extension": ".py",
   "mimetype": "text/x-python",
   "name": "python",
   "nbconvert_exporter": "python",
   "pygments_lexer": "ipython3",
   "version": "3.9.15"
  }
 },
 "nbformat": 4,
 "nbformat_minor": 5
}
