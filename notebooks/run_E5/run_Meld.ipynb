{
 "cells": [
  {
   "cell_type": "markdown",
   "id": "9de92f3a",
   "metadata": {},
   "source": [
    "参考https://nbviewer.org/github/KrishnaswamyLab/MELD/blob/main/notebooks/Wagner2018_Chordin_Cas9_Mutagenesis.ipynb"
   ]
  },
  {
   "cell_type": "code",
   "execution_count": null,
   "id": "d15ff24b",
   "metadata": {},
   "outputs": [],
   "source": [
    "# pip install --user meld phate magic-impute cmocean diffxpy seaborn"
   ]
  },
  {
   "cell_type": "code",
   "execution_count": null,
   "id": "eceb689f",
   "metadata": {},
   "outputs": [],
   "source": [
    "import pandas as pd\n",
    "import numpy as np\n",
    "import graphtools as gt\n",
    "import phate\n",
    "import magic\n",
    "import scprep\n",
    "import meld\n",
    "import cmocean\n",
    "import sklearn\n",
    "import scipy\n",
    "import seaborn as sns\n",
    "\n",
    "# setting defaults for matplotlib font sizes\n",
    "import matplotlib.pyplot as plt\n",
    "plt.rc('font', size=14)\n",
    "\n",
    "# making sure plots & clusters are reproducible\n",
    "np.random.seed(42)\n",
    "\n",
    "%load_ext autoreload\n",
    "%autoreload 2\n",
    "\n",
    "import diffxpy.api as de"
   ]
  },
  {
   "cell_type": "code",
   "execution_count": null,
   "id": "1aad56ba",
   "metadata": {},
   "outputs": [],
   "source": [
    "np.random.seed(0)"
   ]
  },
  {
   "cell_type": "markdown",
   "id": "fb3aac43",
   "metadata": {},
   "source": [
    "### 1.import Zebrafish data\n",
    "This data is available from GEO Series GSE112294"
   ]
  },
  {
   "cell_type": "code",
   "execution_count": null,
   "id": "0b391b09",
   "metadata": {},
   "outputs": [],
   "source": [
    "# sample_info = [('GSM3067201', 'chd', 'A'), ('GSM3067202', 'chd', 'B'), ('GSM3067203', 'chd', 'C'),\n",
    "#            ('GSM3067204', 'tyr', 'A'), ('GSM3067205', 'tyr', 'B'), ('GSM3067206', 'tyr', 'C')]\n",
    "# counts_url = 'ftp://ftp.ncbi.nlm.nih.gov/geo/samples/' \\\n",
    "#              'GSM3067nnn/{accession}/suppl/{accession}_{genotype}{replicate}' \\\n",
    "#              '.csv.gz'\n",
    "# clusters_url = 'ftp://ftp.ncbi.nlm.nih.gov/geo/samples/' \\\n",
    "#                'GSM3067nnn/{accession}/suppl/{accession}_{genotype}{replicate}_' \\\n",
    "#                'clustID.txt.gz'\n",
    "# cluster_names_url = 'ftp://ftp.ncbi.nlm.nih.gov/geo/series/GSE112nnn/GSE112294/' \\\n",
    "#                     'suppl/GSE112294_ClusterNames.csv.gz'\n",
    "# sparse = True\n",
    "# counts_matrices = [] \n",
    "# batch_labels = []\n",
    "# metadata = []\n",
    "# for accession, genotype, replicate in sample_info:\n",
    "#     curr_label = '{}{}'.format(genotype, replicate)\n",
    "#     print('Downloading {accession}.{genotype}.{replicate} ...'.format(accession=accession, genotype=genotype, replicate=replicate))\n",
    "    \n",
    "#     batch_labels.append(curr_label)\n",
    "    \n",
    "#     data = scprep.io.load_csv(counts_url.format(accession=accession, genotype=genotype, replicate=replicate),\n",
    "#                               sparse=sparse, cell_axis='column')\n",
    "#     counts_matrices.append(data)\n",
    "    \n",
    "#     clusters = scprep.io.load_csv(clusters_url.format(accession=accession, genotype=genotype, replicate=replicate),\n",
    "#                        cell_names=data.index, gene_names=['clusterID'], sparse=sparse)\n",
    "#     metadata.append(clusters)\n",
    "\n",
    "# data, sample_labels = scprep.utils.combine_batches(counts_matrices, batch_labels, append_to_cell_names=True)\n",
    "# metadata, _ = scprep.utils.combine_batches(metadata, batch_labels, append_to_cell_names=True)\n",
    "# data.head()"
   ]
  },
  {
   "cell_type": "code",
   "execution_count": null,
   "id": "09c647a4",
   "metadata": {},
   "outputs": [],
   "source": [
    "#读不进去就算了，我手动下载一下\n",
    "sample_info = [('GSM3067201', 'chd', 'A'), ('GSM3067202', 'chd', 'B'), ('GSM3067203', 'chd', 'C'),\n",
    "               ('GSM3067204', 'tyr', 'A'), ('GSM3067205', 'tyr', 'B'), ('GSM3067206', 'tyr', 'C')]\n",
    "data = pd.DataFrame()\n",
    "metadata = pd.DataFrame()\n",
    "\n",
    "for sample in sample_info:\n",
    "    counts_path = f'/Users/mhuang/code/python/abundance/data/zebrafish/{sample[0]}_{sample[1]}{sample[2]}.csv.gz'\n",
    "    clusterID_path = f'/Users/mhuang/code/python/abundance/data/zebrafish/{sample[0]}_{sample[1]}{sample[2]}_clustID.txt.gz'\n",
    "    \n",
    "    ## 1.counts\n",
    "    df = pd.read_csv(counts_path, compression='gzip', sep=',', index_col='Row')\n",
    "    df = df.T\n",
    "    df.index = df.index + f'_{sample[1]}{sample[2]}'\n",
    "    \n",
    "    data = pd.concat([data, df])\n",
    "    \n",
    "    ## 2.metadata\n",
    "    meta = pd.read_csv(clusterID_path, compression='gzip', header=None)\n",
    "    meta.index = df.index\n",
    "    meta.columns=['clusterID']\n",
    "    meta['sample_labels'] = f'{sample[1]}{sample[2]}'\n",
    "    \n",
    "    metadata = pd.concat([metadata, meta])\n",
    "    \n",
    "metadata['genotype'] = ['chd' if label.startswith('chd') else 'tyr' for label in metadata['sample_labels']]"
   ]
  },
  {
   "cell_type": "code",
   "execution_count": null,
   "id": "9c30d0d8",
   "metadata": {},
   "outputs": [],
   "source": [
    "ClusterNamesMaps = pd.read_csv(\"/Users/mhuang/code/python/abundance/data/zebrafish/GSE112294_ClusterNames.csv\",index_col='ClusterID')\n",
    "ClusterNamesMaps['ClusterName'] = ClusterNamesMaps['ClusterName'].str.slice(6)"
   ]
  },
  {
   "cell_type": "code",
   "execution_count": null,
   "id": "b603aa3c",
   "metadata": {},
   "outputs": [],
   "source": [
    "cluster_names = ClusterNamesMaps['ClusterName'].loc[metadata['clusterID']]\n",
    "cluster_names.index = metadata.index\n",
    "metadata['cluster'] = cluster_names\n",
    "metadata.head()"
   ]
  },
  {
   "cell_type": "markdown",
   "id": "eb226007",
   "metadata": {},
   "source": [
    "### 2.preprocess"
   ]
  },
  {
   "cell_type": "code",
   "execution_count": null,
   "id": "9daac6c8",
   "metadata": {},
   "outputs": [],
   "source": [
    "#Filtering\n",
    "## 1.Removing dead cells\n",
    "## 2.Filtering by library size\n",
    "## 3.Removing genes that are expressed in relatively few cells.\n",
    "data = scprep.filter.filter_rare_genes(data)\n",
    "# scprep.plot.plot_library_size(data, cutoff=15000);\n",
    "data, metadata = scprep.filter.filter_library_size(\n",
    "    data, metadata, cutoff=15000, \n",
    "    keep_cells='below')\n",
    "# scprep.plot.plot_gene_set_expression(data, genes=['LOC101885394'], log='y', cutoff=164)\n",
    "data, metadata = scprep.filter.filter_gene_set_expression(data, metadata, genes=['LOC101885394'], cutoff=164)"
   ]
  },
  {
   "cell_type": "code",
   "execution_count": null,
   "id": "ec699e14",
   "metadata": {},
   "outputs": [],
   "source": [
    "#Normalization\n",
    "data_libnorm, libsize = scprep.normalize.library_size_normalize(data, return_library_size=True)\n",
    "metadata['library_size'] = libsize"
   ]
  },
  {
   "cell_type": "code",
   "execution_count": null,
   "id": "f12bc5c2",
   "metadata": {},
   "outputs": [],
   "source": [
    "#Square root transformation\n",
    "data_sqrt = np.sqrt(data_libnorm)"
   ]
  }
 ],
 "metadata": {
  "kernelspec": {
   "display_name": "Python 3 (ipykernel)",
   "language": "python",
   "name": "python3"
  },
  "language_info": {
   "codemirror_mode": {
    "name": "ipython",
    "version": 3
   },
   "file_extension": ".py",
   "mimetype": "text/x-python",
   "name": "python",
   "nbconvert_exporter": "python",
   "pygments_lexer": "ipython3",
   "version": "3.10.9"
  }
 },
 "nbformat": 4,
 "nbformat_minor": 5
}
