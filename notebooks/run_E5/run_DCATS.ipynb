{
 "cells": [
  {
   "cell_type": "markdown",
   "id": "6d663aaa",
   "metadata": {},
   "source": [
    "### 1.data preprocess"
   ]
  },
  {
   "cell_type": "code",
   "execution_count": 2,
   "id": "a2f4c0e3",
   "metadata": {},
   "outputs": [],
   "source": [
    "import scanpy as sc\n",
    "import numpy as np\n",
    "import pandas as pd"
   ]
  },
  {
   "cell_type": "code",
   "execution_count": 54,
   "id": "2660dd14",
   "metadata": {},
   "outputs": [
    {
     "name": "stderr",
     "output_type": "stream",
     "text": [
      "/Users/mhuang/anaconda3/lib/python3.10/site-packages/anndata/_core/anndata.py:1755: FutureWarning: The AnnData.concatenate method is deprecated in favour of the anndata.concat function. Please use anndata.concat instead.\n",
      "\n",
      "See the tutorial for concat at: https://anndata.readthedocs.io/en/latest/concatenation.html\n",
      "  warnings.warn(\n"
     ]
    }
   ],
   "source": [
    "#把每个数据都添加一列，不然数据不全，用不了函数\n",
    "features = pd.read_csv(\"/Users/mhuang/code/python/abundance/data/GSE92332/sh_rep2/features.tsv\", sep='\\t',header=None)\n",
    "features['2']='Gene Expression'\n",
    "features.to_csv(\"/Users/mhuang/code/python/abundance/data/GSE92332/sh_rep2/features.tsv.gz\", sep='\\t', index=False, header=False, compression='gzip')\n",
    "\n",
    "adata_ctrl_rep1 = sc.read_10x_mtx(\"/Users/mhuang/code/python/abundance/data/GSE92332/control_rep1\")\n",
    "adata_ctrl_rep2 = sc.read_10x_mtx(\"/Users/mhuang/code/python/abundance/data/GSE92332/control_rep2\")\n",
    "adata_ctrl_rep3 = sc.read_10x_mtx(\"/Users/mhuang/code/python/abundance/data/GSE92332/control_rep3\")\n",
    "adata_ctrl_rep4 = sc.read_10x_mtx(\"/Users/mhuang/code/python/abundance/data/GSE92332/control_rep4\")\n",
    "adata_sh_rep1 = sc.read_10x_mtx(\"/Users/mhuang/code/python/abundance/data/GSE92332/sh_rep1\")\n",
    "adata_sh_rep2 = sc.read_10x_mtx(\"/Users/mhuang/code/python/abundance/data/GSE92332/sh_rep2\")\n",
    "\n",
    "adata_ctrl_rep1.obs['group']='B1'\n",
    "adata_ctrl_rep2.obs['group']='B2'\n",
    "adata_ctrl_rep3.obs['group']='B3'\n",
    "adata_ctrl_rep4.obs['group']='B4'\n",
    "adata_sh_rep1.obs['group']='B9'\n",
    "adata_sh_rep2.obs['group']='B10'\n",
    "\n",
    "adata = adata_ctrl_rep1.concatenate([adata_ctrl_rep2,adata_ctrl_rep3,adata_ctrl_rep4,\n",
    "                                     adata_sh_rep1,adata_sh_rep2])\n",
    "del adata.obs['batch']\n",
    "adata.write('./data/GSE92332/adata_all.h5ad')"
   ]
  },
  {
   "cell_type": "code",
   "execution_count": 19,
   "id": "e9f98acc",
   "metadata": {},
   "outputs": [],
   "source": [
    "UMIcounts = pd.read_csv(\"/Users/mhuang/code/python/abundance/data/GSE92332/GSE92332_SalmHelm_UMIcounts.txt\",sep='\\t')\n",
    "# FullLength_TPM = pd.read_csv(\"/Users/mhuang/code/python/abundance/data/GSE92332/GSE92332_SalmHelmFullLength_TPM.txt\",sep='\\t')\n",
    "meta = UMIcounts.columns.str.split('_', expand=True)\n",
    "meta = pd.DataFrame(meta.tolist(), columns=['group', 'cell.name', 'dataset.type', 'cell.type'])"
   ]
  },
  {
   "cell_type": "code",
   "execution_count": 24,
   "id": "09bee08d",
   "metadata": {},
   "outputs": [
    {
     "data": {
      "text/html": [
       "<div>\n",
       "<style scoped>\n",
       "    .dataframe tbody tr th:only-of-type {\n",
       "        vertical-align: middle;\n",
       "    }\n",
       "\n",
       "    .dataframe tbody tr th {\n",
       "        vertical-align: top;\n",
       "    }\n",
       "\n",
       "    .dataframe thead th {\n",
       "        text-align: right;\n",
       "    }\n",
       "</style>\n",
       "<table border=\"1\" class=\"dataframe\">\n",
       "  <thead>\n",
       "    <tr style=\"text-align: right;\">\n",
       "      <th></th>\n",
       "      <th>group</th>\n",
       "      <th>cell.name</th>\n",
       "      <th>cell.type</th>\n",
       "    </tr>\n",
       "    <tr>\n",
       "      <th>dataset.type</th>\n",
       "      <th></th>\n",
       "      <th></th>\n",
       "      <th></th>\n",
       "    </tr>\n",
       "  </thead>\n",
       "  <tbody>\n",
       "    <tr>\n",
       "      <th>Control</th>\n",
       "      <td>3240</td>\n",
       "      <td>3240</td>\n",
       "      <td>3240</td>\n",
       "    </tr>\n",
       "    <tr>\n",
       "      <th>Hpoly.Day10</th>\n",
       "      <td>2711</td>\n",
       "      <td>2711</td>\n",
       "      <td>2711</td>\n",
       "    </tr>\n",
       "    <tr>\n",
       "      <th>Hpoly.Day3</th>\n",
       "      <td>2121</td>\n",
       "      <td>2121</td>\n",
       "      <td>2121</td>\n",
       "    </tr>\n",
       "    <tr>\n",
       "      <th>Salmonella</th>\n",
       "      <td>1770</td>\n",
       "      <td>1770</td>\n",
       "      <td>1770</td>\n",
       "    </tr>\n",
       "  </tbody>\n",
       "</table>\n",
       "</div>"
      ],
      "text/plain": [
       "              group  cell.name  cell.type\n",
       "dataset.type                             \n",
       "Control        3240       3240       3240\n",
       "Hpoly.Day10    2711       2711       2711\n",
       "Hpoly.Day3     2121       2121       2121\n",
       "Salmonella     1770       1770       1770"
      ]
     },
     "execution_count": 24,
     "metadata": {},
     "output_type": "execute_result"
    }
   ],
   "source": [
    "meta.groupby(\"dataset.type\").count()\n",
    "#另外两个实验组可以拿去做别的对比实验"
   ]
  },
  {
   "cell_type": "code",
   "execution_count": 233,
   "id": "0afcd475",
   "metadata": {},
   "outputs": [],
   "source": [
    "import anndata as ad\n",
    "def add_celltype(adata:ad.AnnData, group:list, meta:pd.DataFrame):\n",
    "    '''\n",
    "    处理Haber等人的数据\n",
    "    '''\n",
    "    cell_indeies_list = []\n",
    "    celltype_meta =pd.DataFrame()\n",
    "    num = 0\n",
    "    \n",
    "    for i in range(len(group)):\n",
    "        meta_group = meta[meta['group']==group[i]]\n",
    "        meta_group_list = meta_group['cell.name'].tolist()\n",
    "        cell_group = adata[adata.obs['group']==group[i]].obs.index.str.split('-')\n",
    "        celltype_meta_group = meta['cell.type'][meta['group']==group[i]]\n",
    "        celltype_meta = pd.concat([celltype_meta, celltype_meta_group],axis=0)\n",
    "\n",
    "        meta_index_list=[]\n",
    "        cell_index_list=[]\n",
    "        for j in range(len(cell_group)):\n",
    "            if cell_group[j][0] in meta_group_list:\n",
    "                meta_index = meta_group_list.index(cell_group[j][0])\n",
    "                meta_index_list.append(meta_index)\n",
    "                cell_index_list.append(j)\n",
    "        \n",
    "        #检查这种偷懒做法有没问题(前面的计算假定所有细胞都是按首字母排序的)\n",
    "        meta_index_list2 = sorted(meta_index_list)\n",
    "        cell_index_list2 = sorted(cell_index_list)\n",
    "        if (meta_index_list != meta_index_list2)or(cell_index_list != cell_index_list2):\n",
    "            print(\"==> 第 \"+group[i]+\" 组得重新写的复杂点.\")\n",
    "        else:\n",
    "            if i==0:\n",
    "                lst = [m for m in cell_index_list]\n",
    "            else:\n",
    "                lst = [m+num for m in cell_index_list]\n",
    "            cell_indeies_list += lst\n",
    "\n",
    "        num += len(cell_group)\n",
    "\n",
    "    #把结果拼一起\n",
    "    adata = adata[cell_indeies_list,:]\n",
    "    celltype_meta.index = adata.obs.index\n",
    "    adata.obs['cell.type']=celltype_meta\n",
    "    \n",
    "    return adata\n"
   ]
  },
  {
   "cell_type": "code",
   "execution_count": 234,
   "id": "35e33257",
   "metadata": {},
   "outputs": [
    {
     "name": "stderr",
     "output_type": "stream",
     "text": [
      "/var/folders/r9/z9c31xz10kbdyw7l1crsbwdw0000gn/T/ipykernel_31006/4275916890.py:42: ImplicitModificationWarning: Trying to modify attribute `.obs` of view, initializing view as actual.\n",
      "  adata.obs['cell.type']=celltype_meta\n"
     ]
    }
   ],
   "source": [
    "group = ['B1','B2','B3','B4','B9','B10']\n",
    "adata_1 = add_celltype(adata, group, meta)\n",
    "adata_1.write('./data/GSE92332/adata_all.h5ad')"
   ]
  },
  {
   "cell_type": "markdown",
   "id": "cc70eb7f",
   "metadata": {},
   "source": [
    "### 2.run_DCATS"
   ]
  },
  {
   "cell_type": "code",
   "execution_count": 235,
   "id": "92994050",
   "metadata": {},
   "outputs": [
    {
     "data": {
      "text/plain": [
       "AnnData object with n_obs × n_vars = 5010 × 27775\n",
       "    obs: 'group', 'cell.type'\n",
       "    var: 'gene_ids', 'feature_types'"
      ]
     },
     "execution_count": 235,
     "metadata": {},
     "output_type": "execute_result"
    }
   ],
   "source": [
    "adata_1"
   ]
  },
  {
   "cell_type": "code",
   "execution_count": null,
   "id": "6242fb19",
   "metadata": {},
   "outputs": [],
   "source": [
    "def DCATS(source:ad.AnnData, target:ad.AnnData, random_state:int):\n",
    "    importr(\"DCATS\")\n",
    "    globalenv['seed']=random_state\n",
    "    globalenv['source'] = anndata2ri.py2rpy(source)\n",
    "    globalenv['target'] = anndata2ri.py2rpy(target)\n",
    "    r(\"\"\"\n",
    "    set.seed(seed)\n",
    "    \n",
    "    \"\"\")\n",
    "    return"
   ]
  },
  {
   "cell_type": "code",
   "execution_count": 7,
   "id": "16440036",
   "metadata": {},
   "outputs": [],
   "source": [
    "import anndata2ri\n",
    "from rpy2.robjects import r, globalenv\n",
    "from rpy2.robjects.packages import importr\n",
    "\n",
    "\n",
    "# def CAMLU(train: ad.AnnData, test: ad.AnnData, random_state: int):\n",
    "#     importr(\"CAMLU\")\n",
    "#     globalenv['seed'] = random_state\n",
    "#     globalenv['train'] = anndata2ri.py2rpy(train)\n",
    "#     globalenv['test'] = anndata2ri.py2rpy(test)\n",
    "#     r(\"\"\"\n",
    "#     set.seed(seed)\n",
    "#     label <- CAMLU(x_train = assay(train,'X'),\n",
    "#                    x_test = assay(test,'X'),\n",
    "#                    full_annotation = FALSE,\n",
    "#                    ngene=3000, lognormalize=TRUE)\n",
    "#     \"\"\")\n",
    "#     label = list(r('label'))\n",
    "#     return label"
   ]
  },
  {
   "cell_type": "code",
   "execution_count": null,
   "id": "b24bd4fe",
   "metadata": {},
   "outputs": [],
   "source": []
  },
  {
   "cell_type": "code",
   "execution_count": null,
   "id": "e932b0d4",
   "metadata": {},
   "outputs": [],
   "source": []
  },
  {
   "cell_type": "code",
   "execution_count": null,
   "id": "bf161436",
   "metadata": {},
   "outputs": [],
   "source": []
  },
  {
   "cell_type": "code",
   "execution_count": null,
   "id": "ae291137",
   "metadata": {},
   "outputs": [],
   "source": [
    "    "
   ]
  },
  {
   "cell_type": "code",
   "execution_count": 211,
   "id": "9542e321",
   "metadata": {},
   "outputs": [],
   "source": []
  },
  {
   "cell_type": "code",
   "execution_count": null,
   "id": "415e29e1",
   "metadata": {},
   "outputs": [],
   "source": []
  },
  {
   "cell_type": "code",
   "execution_count": null,
   "id": "9225ab72",
   "metadata": {},
   "outputs": [],
   "source": []
  },
  {
   "cell_type": "code",
   "execution_count": null,
   "id": "34d7410f",
   "metadata": {},
   "outputs": [],
   "source": []
  },
  {
   "cell_type": "code",
   "execution_count": null,
   "id": "4ce319ea",
   "metadata": {},
   "outputs": [],
   "source": [
    "\n"
   ]
  },
  {
   "cell_type": "code",
   "execution_count": 202,
   "id": "606ecf63",
   "metadata": {},
   "outputs": [],
   "source": []
  },
  {
   "cell_type": "code",
   "execution_count": null,
   "id": "2e1aefeb",
   "metadata": {},
   "outputs": [],
   "source": []
  },
  {
   "cell_type": "code",
   "execution_count": null,
   "id": "217a41eb",
   "metadata": {},
   "outputs": [],
   "source": []
  },
  {
   "cell_type": "code",
   "execution_count": null,
   "id": "a8dd7940",
   "metadata": {},
   "outputs": [],
   "source": []
  },
  {
   "cell_type": "code",
   "execution_count": null,
   "id": "f5ad3b02",
   "metadata": {},
   "outputs": [],
   "source": []
  },
  {
   "cell_type": "code",
   "execution_count": null,
   "id": "17c57051",
   "metadata": {},
   "outputs": [],
   "source": []
  },
  {
   "cell_type": "code",
   "execution_count": null,
   "id": "f78b7a0a",
   "metadata": {},
   "outputs": [],
   "source": []
  },
  {
   "cell_type": "code",
   "execution_count": null,
   "id": "85bb29a8",
   "metadata": {},
   "outputs": [],
   "source": []
  }
 ],
 "metadata": {
  "kernelspec": {
   "display_name": "Python 3 (ipykernel)",
   "language": "python",
   "name": "python3"
  },
  "language_info": {
   "codemirror_mode": {
    "name": "ipython",
    "version": 3
   },
   "file_extension": ".py",
   "mimetype": "text/x-python",
   "name": "python",
   "nbconvert_exporter": "python",
   "pygments_lexer": "ipython3",
   "version": "3.10.9"
  }
 },
 "nbformat": 4,
 "nbformat_minor": 5
}
